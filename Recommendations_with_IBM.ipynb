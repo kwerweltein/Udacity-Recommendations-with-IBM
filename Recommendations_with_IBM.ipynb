{
 "cells": [
  {
   "cell_type": "markdown",
   "metadata": {},
   "source": [
    "# Recommendations with IBM\n",
    "\n",
    "In this notebook, you will be putting your recommendation skills to use on real data from the IBM Watson Studio platform. \n",
    "\n",
    "\n",
    "You may either submit your notebook through the workspace here, or you may work from your local machine and submit through the next page.  Either way assure that your code passes the project [RUBRIC](https://review.udacity.com/#!/rubrics/3325/view).  **Please save regularly.**\n",
    "\n",
    "By following the table of contents, you will build out a number of different methods for making recommendations that can be used for different situations. \n",
    "\n",
    "\n",
    "## Table of Contents\n",
    "\n",
    "I. [Exploratory Data Analysis](#Exploratory-Data-Analysis)<br>\n",
    "II. [Rank Based Recommendations](#Rank)<br>\n",
    "III. [User-User Based Collaborative Filtering](#User-User)<br>\n",
    "IV. [Content Based Recommendations (EXTRA - NOT REQUIRED)](#Content-Recs)<br>\n",
    "V. [Matrix Factorization](#Matrix-Fact)<br>\n",
    "VI. [Extras & Concluding](#conclusions)\n",
    "\n",
    "At the end of the notebook, you will find directions for how to submit your work.  Let's get started by importing the necessary libraries and reading in the data."
   ]
  },
  {
   "cell_type": "code",
   "execution_count": 41,
   "metadata": {
    "collapsed": true
   },
   "outputs": [
    {
     "data": {
      "application/vnd.microsoft.datawrangler.viewer.v0+json": {
       "columns": [
        {
         "name": "index",
         "rawType": "int64",
         "type": "integer"
        },
        {
         "name": "article_id",
         "rawType": "float64",
         "type": "float"
        },
        {
         "name": "title",
         "rawType": "object",
         "type": "string"
        },
        {
         "name": "email",
         "rawType": "object",
         "type": "string"
        }
       ],
       "ref": "465e83aa-628c-4a75-9557-590d123adabf",
       "rows": [
        [
         "0",
         "1430.0",
         "using pixiedust for fast, flexible, and easier data analysis and experimentation",
         "ef5f11f77ba020cd36e1105a00ab868bbdbf7fe7"
        ],
        [
         "1",
         "1314.0",
         "healthcare python streaming application demo",
         "083cbdfa93c8444beaa4c5f5e0f5f9198e4f9e0b"
        ],
        [
         "2",
         "1429.0",
         "use deep learning for image classification",
         "b96a4f2e92d8572034b1e9b28f9ac673765cd074"
        ],
        [
         "3",
         "1338.0",
         "ml optimization using cognitive assistant",
         "06485706b34a5c9bf2a0ecdac41daf7e7654ceb7"
        ],
        [
         "4",
         "1276.0",
         "deploy your python model as a restful api",
         "f01220c46fc92c6e6b161b1849de11faacd7ccb2"
        ]
       ],
       "shape": {
        "columns": 3,
        "rows": 5
       }
      },
      "text/html": [
       "<div>\n",
       "<style scoped>\n",
       "    .dataframe tbody tr th:only-of-type {\n",
       "        vertical-align: middle;\n",
       "    }\n",
       "\n",
       "    .dataframe tbody tr th {\n",
       "        vertical-align: top;\n",
       "    }\n",
       "\n",
       "    .dataframe thead th {\n",
       "        text-align: right;\n",
       "    }\n",
       "</style>\n",
       "<table border=\"1\" class=\"dataframe\">\n",
       "  <thead>\n",
       "    <tr style=\"text-align: right;\">\n",
       "      <th></th>\n",
       "      <th>article_id</th>\n",
       "      <th>title</th>\n",
       "      <th>email</th>\n",
       "    </tr>\n",
       "  </thead>\n",
       "  <tbody>\n",
       "    <tr>\n",
       "      <th>0</th>\n",
       "      <td>1430.0</td>\n",
       "      <td>using pixiedust for fast, flexible, and easier...</td>\n",
       "      <td>ef5f11f77ba020cd36e1105a00ab868bbdbf7fe7</td>\n",
       "    </tr>\n",
       "    <tr>\n",
       "      <th>1</th>\n",
       "      <td>1314.0</td>\n",
       "      <td>healthcare python streaming application demo</td>\n",
       "      <td>083cbdfa93c8444beaa4c5f5e0f5f9198e4f9e0b</td>\n",
       "    </tr>\n",
       "    <tr>\n",
       "      <th>2</th>\n",
       "      <td>1429.0</td>\n",
       "      <td>use deep learning for image classification</td>\n",
       "      <td>b96a4f2e92d8572034b1e9b28f9ac673765cd074</td>\n",
       "    </tr>\n",
       "    <tr>\n",
       "      <th>3</th>\n",
       "      <td>1338.0</td>\n",
       "      <td>ml optimization using cognitive assistant</td>\n",
       "      <td>06485706b34a5c9bf2a0ecdac41daf7e7654ceb7</td>\n",
       "    </tr>\n",
       "    <tr>\n",
       "      <th>4</th>\n",
       "      <td>1276.0</td>\n",
       "      <td>deploy your python model as a restful api</td>\n",
       "      <td>f01220c46fc92c6e6b161b1849de11faacd7ccb2</td>\n",
       "    </tr>\n",
       "  </tbody>\n",
       "</table>\n",
       "</div>"
      ],
      "text/plain": [
       "   article_id                                              title  \\\n",
       "0      1430.0  using pixiedust for fast, flexible, and easier...   \n",
       "1      1314.0       healthcare python streaming application demo   \n",
       "2      1429.0         use deep learning for image classification   \n",
       "3      1338.0          ml optimization using cognitive assistant   \n",
       "4      1276.0          deploy your python model as a restful api   \n",
       "\n",
       "                                      email  \n",
       "0  ef5f11f77ba020cd36e1105a00ab868bbdbf7fe7  \n",
       "1  083cbdfa93c8444beaa4c5f5e0f5f9198e4f9e0b  \n",
       "2  b96a4f2e92d8572034b1e9b28f9ac673765cd074  \n",
       "3  06485706b34a5c9bf2a0ecdac41daf7e7654ceb7  \n",
       "4  f01220c46fc92c6e6b161b1849de11faacd7ccb2  "
      ]
     },
     "execution_count": 41,
     "metadata": {},
     "output_type": "execute_result"
    }
   ],
   "source": [
    "import pandas as pd\n",
    "import numpy as np\n",
    "import matplotlib.pyplot as plt\n",
    "import project_tests as t\n",
    "import pickle\n",
    "import warnings\n",
    "warnings.simplefilter(action='ignore', category=FutureWarning) #supress warnings due to readability\n",
    "\n",
    "%matplotlib inline\n",
    "\n",
    "df = pd.read_csv('data/user-item-interactions.csv')\n",
    "df_content = pd.read_csv('data/articles_community.csv')\n",
    "del df['Unnamed: 0']\n",
    "del df_content['Unnamed: 0']\n",
    "\n",
    "# Show df to get an idea of the data\n",
    "df.head()"
   ]
  },
  {
   "cell_type": "code",
   "execution_count": 42,
   "metadata": {},
   "outputs": [
    {
     "data": {
      "text/plain": [
       "(45993, 3)"
      ]
     },
     "execution_count": 42,
     "metadata": {},
     "output_type": "execute_result"
    }
   ],
   "source": [
    "df.shape"
   ]
  },
  {
   "cell_type": "code",
   "execution_count": 43,
   "metadata": {},
   "outputs": [
    {
     "name": "stdout",
     "output_type": "stream",
     "text": [
      "<class 'pandas.core.frame.DataFrame'>\n",
      "RangeIndex: 45993 entries, 0 to 45992\n",
      "Data columns (total 3 columns):\n",
      " #   Column      Non-Null Count  Dtype  \n",
      "---  ------      --------------  -----  \n",
      " 0   article_id  45993 non-null  float64\n",
      " 1   title       45993 non-null  object \n",
      " 2   email       45976 non-null  object \n",
      "dtypes: float64(1), object(2)\n",
      "memory usage: 1.1+ MB\n"
     ]
    }
   ],
   "source": [
    "df.info()"
   ]
  },
  {
   "cell_type": "code",
   "execution_count": 44,
   "metadata": {},
   "outputs": [
    {
     "data": {
      "application/vnd.microsoft.datawrangler.viewer.v0+json": {
       "columns": [
        {
         "name": "index",
         "rawType": "object",
         "type": "string"
        },
        {
         "name": "0",
         "rawType": "object",
         "type": "unknown"
        }
       ],
       "ref": "616d3038-a965-4151-a0c2-ff36e6d69091",
       "rows": [
        [
         "article_id",
         "float64"
        ],
        [
         "title",
         "object"
        ],
        [
         "email",
         "object"
        ]
       ],
       "shape": {
        "columns": 1,
        "rows": 3
       }
      },
      "text/plain": [
       "article_id    float64\n",
       "title          object\n",
       "email          object\n",
       "dtype: object"
      ]
     },
     "execution_count": 44,
     "metadata": {},
     "output_type": "execute_result"
    }
   ],
   "source": [
    "df.dtypes"
   ]
  },
  {
   "cell_type": "code",
   "execution_count": 45,
   "metadata": {
    "collapsed": true
   },
   "outputs": [
    {
     "data": {
      "application/vnd.microsoft.datawrangler.viewer.v0+json": {
       "columns": [
        {
         "name": "index",
         "rawType": "int64",
         "type": "integer"
        },
        {
         "name": "doc_body",
         "rawType": "object",
         "type": "string"
        },
        {
         "name": "doc_description",
         "rawType": "object",
         "type": "string"
        },
        {
         "name": "doc_full_name",
         "rawType": "object",
         "type": "string"
        },
        {
         "name": "doc_status",
         "rawType": "object",
         "type": "string"
        },
        {
         "name": "article_id",
         "rawType": "int64",
         "type": "integer"
        }
       ],
       "ref": "9a9559bb-69a3-4ccc-aafa-59ed86c3ebc9",
       "rows": [
        [
         "0",
         "Skip navigation Sign in SearchLoading...\r\n\r\nClose Yeah, keep it Undo CloseTHIS VIDEO IS UNAVAILABLE.\r\nWATCH QUEUE\r\nQUEUE\r\nWatch Queue Queue * Remove all\r\n * Disconnect\r\n\r\nThe next video is starting stop 1. Loading...\r\n\r\nWatch Queue Queue __count__/__total__ Find out why CloseDEMO: DETECT MALFUNCTIONING IOT SENSORS WITH STREAMING ANALYTICS\r\nIBM AnalyticsLoading...\r\n\r\nUnsubscribe from IBM Analytics? Cancel UnsubscribeWorking...\r\n\r\nSubscribe Subscribed Unsubscribe 26KLoading...\r\n\r\nLoading...\r\n\r\nWorking...\r\n\r\nAdd toWANT TO WATCH THIS AGAIN LATER?\r\nSign in to add this video to a playlist. Sign in Share More * ReportNEED TO REPORT THE VIDEO?\r\n   Sign in to report inappropriate content. Sign in\r\n * Transcript\r\n * Statistics\r\n * Add translations\r\n\r\n175 views 6LIKE THIS VIDEO?\r\nSign in to make your opinion count. Sign in 7 0DON'T LIKE THIS VIDEO?\r\nSign in to make your opinion count. Sign in 1Loading...\r\n\r\nLoading...\r\n\r\nTRANSCRIPT\r\nThe interactive transcript could not be loaded.Loading...\r\n\r\nLoading...\r\n\r\nRating is available when the video has been rented. This feature is not available right now. Please try again later. Published on Nov 6, 2017This video demonstrates a Streaming Analytics application written in Python\r\nrunning in the IBM Data Science experience. The results of the analysis are\r\ndisplayed on a map using Plotly.\r\n\r\nThe notebook demonstrated in this video is available for you to try: http://ibm.biz/WeatherNotebook\r\n\r\nVisit Streamsdev for more articles and tips about Streams: https://developer.ibm.com/streamsdev\r\n\r\nPython API Developer guide: http://ibmstreams.github.io/streamsx....\r\n\r\nStreaming Analytics in Python course: https://developer.ibm.com/courses/all...\r\n\r\n * CATEGORY\r\n    * Science & Technology\r\n   \r\n   \r\n * LICENSE\r\n    * Standard YouTube License\r\n   \r\n   \r\n\r\nShow more Show lessLoading...\r\n\r\nAutoplay When autoplay is enabled, a suggested video will automatically play next.UP NEXT\r\n * The Python ecosystem for Data Science: A guided tour - Christian Staudt -\r\n   Duration: 25:41. PyData 1,411 views 25:41\r\n\r\n\r\n--------------------------------------------------------------------------------\r\n\r\n * IBM Streaming Analytics and Python - Duration: 1:00:51. John O'Neill 105\r\n   views 1:00:51\r\n * How Customers Are Using the IBM Data Science Experience Expected Cases and\r\n   Not So Expected Ones - Duration: 18:29. Databricks 327 views 18:29\r\n * Giovanni Lanzani | Applied Data Science - Duration: 35:14. PyData 2,728 views 35:14\r\n * Detecting Fraud in Real-Time with Azure Stream Analytics - Duration: 32:16.\r\n   Philip Howard 71 views 32:16\r\n * Step by step guide how to build a real-time anomaly detection system using\r\n   Apache Spark Streaming - Duration: 16:11. Mariusz Jacyno 4,591 views 16:11\r\n * Real-time Analytics with Azure Stream Analytics - Duration: 54:47. PASS\r\n   Business Analytics Virtual Group 940 views 54:47\r\n * Real-Time Machine Learning Analytics Using Structured Streaming and Kinesis\r\n   Firehose - Duration: 31:25. Databricks 660 views 31:25\r\n * Data Science - Duration: 25:05. manish telang 3 views 25:05\r\n * Real-Time Log Analytics using Amazon Kinesis and Amazon Elasticsearch Service\r\n   - Duration: 28:32. Amazon Web Services - Webinar Channel 1,072 views 28:32\r\n * IBM Data Science Experience and Machine Learning Use Cases in Healthcare -\r\n   Duration: 26:53. IDEAS 157 views 26:53\r\n * Streaming Analytics Comparison of Open Source Frameworks, Products, Cloud\r\n   Services - Duration: 47:06. Kai Wähner 1,761 views 47:06\r\n * An overview of IBM Streaming Analytics for Bluemix - Duration: 44:12. IBM\r\n   Analytics 1,311 views 44:12\r\n * Predicting Stock Prices - Learn Python for Data Science #4 - Duration: 7:39.\r\n   Siraj Raval 274,452 views 7:39\r\n * REST API concepts and examples - Duration: 8:53. WebConcepts 1,687,034 views 8:53\r\n * Streaming Data Analytics with Apache Spark Streaming - Duration: 1:01:19.\r\n   Data Gurus 300 views 1:01:19\r\n * Orchestrate IBM Data Science Experience analytics workflows using Node-RED -\r\n   Duration: 10:16. Balaji Kadambi 109 views 10:16\r\n * Delight Clients with Data Science on the IBM Integrated Analytics System -\r\n   Duration: 15:05. IBM Analytics 1,581 views 15:05\r\n * What is DevOps? - In Simple English - Duration: 7:07. Rackspace 657,396 views 7:07\r\n * Introduction - Learn Python for Data Science #1 - Duration: 6:55. Siraj Raval\r\n   206,552 views 6:55\r\n * Loading more suggestions...\r\n * Show more\r\n\r\n * Language: English\r\n * Location: United States\r\n * Restricted Mode: Off\r\n\r\nHistory HelpLoading...\r\n\r\nLoading...\r\n\r\nLoading...\r\n\r\n * About\r\n * Press\r\n * Copyright\r\n * Creators\r\n * Advertise\r\n * Developers\r\n * +YouTube\r\n\r\n * Terms\r\n * Privacy\r\n * Policy & Safety\r\n * Send feedback\r\n * Test new features\r\n * \r\n\r\nLoading...\r\n\r\nWorking...\r\n\r\nSign in to add this to Watch LaterADD TO\r\nLoading playlists...",
         "Detect bad readings in real time using Python and Streaming Analytics.",
         "Detect Malfunctioning IoT Sensors with Streaming Analytics",
         "Live",
         "0"
        ],
        [
         "1",
         "No Free Hunch Navigation * kaggle.com\r\n\r\n * kaggle.com\r\n\r\nCommunicating data science: A guide to presenting your work 4COMMUNICATING DATA SCIENCE: A GUIDE TO PRESENTING YOUR WORK\r\nMegan Risdal | 06.29.2016\r\n\r\nSee the forest, see the trees . Here lies the challenge in both performing and presenting an analysis. As\r\ndata scientists, analysts, and machine learning engineers faced with fulfilling\r\nbusiness objectives, we find ourselves bridging the gap between The Two Cultures : sciences and humanities. After spending countless hours at the terminal\r\ndevising a creative and elegant solution to a difficult problem, the insights\r\nand business applications are obvious in our minds. But how do you distill them\r\ninto something you can communicate?\r\n\r\nQualifications and requirements for a senior data scientist position.\r\n\r\nPresenting my work is one of the surprising challenges I faced in my recent\r\ntransition from academia to life as a data analyst at a market research and strategy firm . When I was a linguistics PhD student at UCLA studying learnability theory in\r\na classroom or measuring effects of an oral constriction on glottal vibration in\r\na sound booth, my colleagues and I were comfortable speaking the same language.\r\nNow that I work with a much more diverse crowd of co-workers and clients with\r\nvaried backgrounds and types of expertise, I need to work harder to ensure that\r\nthe insights of my analyses are communicated effectively.\r\n\r\nIn this second entry in the communicating data science series , I cover some essentials when it comes to presenting a thorough,\r\ncomprehensible analysis for readers who want (or need) to know how to get their\r\nwork noticed and read.\r\n\r\n\r\n--------------------------------------------------------------------------------\r\n\r\nGET YOUR HEAD IN THE GAME\r\nImagine you’ve just completed the so-called heavy lifting, whatever it may be,\r\nand you’re ready to present your results and conclusions in a report. Well, step\r\naway from the word processor! There are two things you must first consider: your\r\naudience and your goals. This is your forest.\r\n\r\nWHO IS YOUR AUDIENCE?\r\nThe matter of who you’re speaking to will influence every detail of how you\r\nchoose to present your analysis from whether you use technical jargon or spend\r\ntime carefully defining your terms. The formality of the context may determine\r\nwhether a short, fun tangent or personal anecdote will keep your audience\r\nhappily engaged or elicit eye rolls … and worse.\r\n\r\nThis is all important to consider because once you’ve envisioned your audience,\r\nyou take stock of what may and may not be shared knowledge and how to manage\r\ntheir expectations. In your writing (and in everyday life), it’s useful to be\r\ncognizant of Grice’s principles of cooperative communication:\r\n\r\n 1. Maxim of quantity : be informative, without giving overwhelming amounts of extraneous detail.\r\n 2. Maxim of quality : be truthful. Enough said.\r\n 3. Maxim of relation : be relevant. I’ll give you some tips on staying topical shortly!\r\n 4. Maxim of manner : be clear. Don’t be ambiguous, be orderly.\r\n\r\nSo be cooperative! Know your audience and do what you can to anticipate their\r\nexpectations. This will ensure that you cover all ground in exactly as much\r\ndetail as necessary in your report.\r\n\r\nWHAT IS THE GOAL?\r\nAlso before you put pen to paper, it’s helpful remind yourself again (and again)\r\nof what your goal is. If you’re working in a professional environment, you’re\r\naware that it’s important to be continually mindful of the goal or business\r\nproblem and why you’re tasked with solving it.\r\n\r\nOr perhaps it's a strategic initiative you're after: Did you set out to learn\r\nsomething new about some data (and the world)? Or have you been diligently\r\nworking on a new skill you’d like to showcase? Do you want to test out some\r\nideas and get feedback? It’s okay to make it your goal to find out “Can I do\r\nthis?” Maybe you want to share some of your expertise with the community on\r\nKaggle Scripts. In that case, it’s even more imperative that you have a\r\nbuttoned-up analysis!\r\n\r\n\"If we can really understand the problem, the answer will come out of it,\r\nbecause the answer is not separate from the problem.\"\r\n\r\n― Jiddu KrishnamurtiIf you’ve reached the point of having an analysis to report, you’ve more than\r\nlikely familiarized yourself with the goals of the initiative, but you must also\r\nkeep them at the forefront of your thoughts when presenting your results as\r\nwell. Your work should be contextualized in terms of your understanding of the\r\nresearch objectives. Often in my own day job this means synthesizing many\r\nanalyses I’ve performed into a few key pieces of evidence which support a story;\r\nthis can’t be done well except by accident without keeping in mind the ultimate\r\nobjective at hand.\r\n\r\nTHE PREAMBLE\r\nNow that you’ve got yourself in the right frame of mind―you can see the forest\r\nand you know the trees―you’re ready to start thinking about the content of your\r\nreport. However, before you start furiously spilling ink, first remind yourself\r\nof the three elements required to ask an askable question in science:\r\n\r\n 1. The question itself along with some justification of how it addresses your\r\n    objectives\r\n 2. A hypothesis\r\n 3. A feasible methodology for addressing your question\r\n\r\nMuch as I implore you to consider who your audience is and what your objectives\r\nare in order to get your mind in the right place, I’m recommending that you have\r\nthe answers to these three things ready because they will dictate the content of\r\nyour report. You don’t want to throw everything and the kitchen sink into a\r\nreport!\r\n\r\nWHAT’S THE QUESTION?\r\nOn Kaggle, the competition hosts very generously provide their burning questions\r\nto the community. Outside of this environment, the challenge is to come up with\r\none on your own or work within the business objectives of your employer. At this\r\npoint, you make sure that you can appropriately state the question and how it\r\nrelates to your objective(s).\r\n\r\nAs an aside, if you need some exercise in the area of asking insightful\r\nquestions (a skill unto its own), I hereby challenge you to scroll through some\r\nof Kagglers’ most recent scripts, find and read one, and think of one new\r\nquestion you could ask the author. If you find that this is a stumbling block\r\npreventing you from proceeding with your analysis, many dataset publishers\r\ninclude a number of questions they’d like to see addressed. Or read the Script of the Week blogs and see what other ideas script authors would like to see explored in the same\r\ndataset.\r\n\r\nWHAT’S THE ANSWER?\r\nNow that you have your question, what do you think the answer will be? It’s good\r\npractice, of course, to consider what the possible answers may be before you dig\r\ninto the data, so hopefully you’ve already done that! Clearly delimiting the\r\nhypothesis space at this point will guide the evidence and arguments you use in\r\nthe body of your report. It will be easier to evaluate what constitutes weak and\r\nstrong support of your theory and what analyses may be absolutely irrelevant.\r\nUltimately you will prevent yourself from attacking straw men in faux support of your theory.\r\n\r\nDon't build straw men.\r\n\r\nWHAT’S YOUR METHODOLOGY?\r\nLet’s say you’re asking whether Twitter users with dense social networks in the How ISIS Uses Twitter dataset express greater negative sentiment than users with less dense networks. Your\r\nfirst step is to confirm that the data available is sufficient to address your\r\nresearch question. If there’s major missing information, you may want to rethink\r\nyour question, revise your methodology, or even collect new data.\r\n\r\nIf you’re unsure of how to put language to a particular methodology, this is a\r\ngood opportunity to flex your Googling skills. Search for “social network\r\nanalysis in r” or “sentiment analysis in python.” Dive into some academic papers\r\nif it's appropriate and see how it's presented. Peruse the natural language processing tags on No Free Hunch and read the winners’ interviews . Get inspiration from scripts on similar datasets on Kaggle. For example, a similar analysis was performed by Kaggle user Khomutov Nikita using the Hillary Clinton’s Emails dataset .\r\n\r\nHillary Clinton's network graph. See the code here .\r\n\r\nEven if you don’t end up needing to share every nuance of your methodology with\r\nyour given audience, you should always document your work thoroughly to the\r\nextent possible. Once you’re ready to present your analysis, you’ll be capable\r\nof determining how much is the right amount to share when discussing the nitty\r\ngritty mechanics of your model. Similarly, I've been able to pleasantly surprise\r\nmy boss many times because I have an answer ready at-hand for immediate\r\nquestions thanks to keeping my exploratory analyses well-documented.\r\n\r\nBy the way, if you’ve felt overwhelmed by the task of putting together a solid\r\nmethodology for tackling a question, it can’t hurt to lob an idea and some code\r\nto the community for feedback. Especially once you have solid presentation of\r\nanalysis skills! Be honest about where you feel you could use extra input and\r\nmaybe a fellow Kaggler will come forth with different angle on the problem.\r\n\r\nPUTTING THE PIECES TOGETHER\r\nFinally, you’re ready to write. Keep in mind that a good analysis should\r\nfacilitate its own interpretation as much as possible. Again, this requires\r\nanticipating what information your likely audience will be seeking and what\r\nknowledge they’re coming in with already. One method which is both\r\ntried-and-true and friendly to the academic nature of the discipline is\r\nfollowing a template for your analysis. With that, this section covers the\r\nstructure which when fleshed out will help you tell the story in the data.\r\n\r\nKeep in mind that a good analysis should facilitate its own interpretation as\r\nmuch as possible.\r\n\r\nNOT SO ABSTRACT\r\nMake it easy for your audience to quickly determine what they’re about to\r\ndigest. Use an abstract or introduction to recall your objectives and clearly\r\nstate them for your readers. What is the problem that you’ve set out to solve?\r\nIf you have a desired outcome or any expectations of your audience, say it, as\r\nthis is the entire reason you’re presenting them with your analysis.\r\n\r\nYou then cover everything from your preamble in this section: the question\r\nyou’ve been on a mission to answer, your hypothesis, and the methodology you’ve\r\nused. Finally, you will often provide a high level summary of your results and\r\nkey findings. Don’t worry about spoiler alerts or boring your readers to death\r\nwith the content that’s about to follow. Trust that if they pay attention past\r\nthe introduction that they are interested in how you achieve what you claim you\r\nhave.\r\n\r\nMany people I've talked to have said that they often find it easier to write the\r\nabstract after having already completely documented the detailed findings of the analysis. I\r\nthink that this is at least in part because you've familiarized yourself with\r\nyour own work through the lens of your readership by doing so. Slowly but surely\r\nyou're extracting yourself from the trees and the bigger picture becomes\r\napparent.\r\n\r\nTHE CONTENT: BREAK OFF WHAT YOU CAN CHEW\r\nThis is where the good stuff lives. You've laid the foundation for your analysis\r\nsuch that your audience is prepared to read or listen intently to your story. I\r\ncan’t tell you the specifics of what goes here, but I can tell you how to\r\nstructure it.\r\n\r\nTake your analysis in small bits by breaking your question into subparts. For a\r\ndata-driven analysis, it can make sense to tackle each piece of evidence\r\none-by-one. You may have a dissertation’s worth of data to report on, but more\r\nlikely than not you must pick and choose what will best support your analysis\r\nsuccinctly and effectively. Again, having the objectives and audience in mind\r\nwill help you decide what’s critical. Lay it all out before you and pair\r\nsub-questions with evidence until you have a story.\r\n\r\nOnce you’ve presented the evidence, explain why it supports (or doesn't support)\r\nyour hypothesis or your objectives. A good analysis also considers alternative\r\nhypotheses or interpretations as well. You’ve already surveyed the hypothesis\r\nspace, so you should be ready-armed to handle contrary evidence. Doing so is\r\nalso a way of anticipating the expectations of your audience and the skepticism\r\nthey may harbor. It’s at this point that it’s most critical to keep in mind your\r\nobjectives and the question you’re addressing with your analysis. Ask how every\r\npiece of evidence you offer takes you one step closer to confirming or\r\ndisproving your hypothesis.\r\n\r\nOTHER TIPS AND TRICKS\r\nVisualize the problem . Seeing is believing. It’s cliched to say in any statement asserting the value\r\nof data visualization, but it’s so incredibly true. This “trick” is so effective\r\nthat I’m going to spend more time talking about it in a future post. If you can\r\nplainly “state” something with a graph or chart, go for it!\r\n\r\n * Shail Jayesh Deliwala visualizes confusion matrices to evaluate and compare model performance.\r\n   Read the full notebook here .\" /\r\n * Lj Miranda shows the steady rise of carbon emissions in the Philippines. Read the full\r\n   notebook here .\" /\r\n * 33Vito uses polar coordinates to show the times during the day leveling and\r\n   non-leveling characters play World of Warcraft. Read the full notebook here .\" /\r\n * Michael Griffiths uses color and variations in transparency to make this table of percentages\r\n   more readily interpretable. Read the full notebook here .\" /\r\n\r\n * Shail Jayesh Deliwala visualizes confusion matrices to evaluate and compare model performance.\r\n   Read the full notebook here .\" /\r\n * Lj Miranda shows the steady rise of carbon emissions in the Philippines. Read the full\r\n   notebook here .\" /\r\n * 33Vito uses polar coordinates to show the times during the day leveling and\r\n   non-leveling characters play World of Warcraft. Read the full notebook here .\" /\r\n * Michael Griffiths uses color and variations in transparency to make this table of percentages\r\n   more readily interpretable. Read the full notebook here .\" /\r\n\r\nVariety is the spice of life . And it can liven up your writing (and speaking) as well. For example, use a\r\nmix of short and sweet sentences interspersed among longer, more elaborate ones.\r\nFind where you accidentally used the word “didactic” four times on one page and\r\nchange it up! Related to my first point, use effective variety in types of\r\nvisualizations you employ. Small things like this will keep your readers awake\r\nand interested.\r\n\r\nCheck your work . I don’t like to emphasize this too much because I’m a descriptivist , but make sure your writing is grammatical, fluent, and free of typos. For\r\nbetter or worse, trivial mistakes can discredit you in the eyes of many. I find\r\nthat it helps to read my writing aloud to catch disfluencies.\r\n\r\nGain muscle memory . If you really struggle with transforming your analysis into a form that can\r\nbe shared more broadly, begin by writing anything until writing prose feels as natural as writing code. For example, I actually\r\nsuggest sitting down and copying a report word-for-word. Or even any instance of\r\npersuasive writing. Not to be used as your own in any way (i.e., plagiarism),\r\nbut to remove one more unknown from the equation: what it literally feels like to go through the motions of stringing words and sentences and paragraphs\r\ntogether to tell a story.\r\n\r\nCONCLUSIONS & NEXT STEPS\r\nA good analysis is repetitive. You know the intricacies of your work in and out,\r\nbut your audience does not. You’ve told your readers in your abstract (or\r\nintroduction, if you prefer) what you had ventured to do and even what you end\r\nup finding and the content lays this all out for them. In the conclusions\r\nsection you hit them with it again. At this point, they’ve seen the relevant\r\ndata you’ve carefully chosen to support your theory so it’s time to formally\r\ndraw your conclusions. Your readers can decide if they agree or not.\r\n\r\nSpeaking of being repetitive, after making your conclusions, you again remind\r\nyour readers of the objective(s) of this report. Restate them again and help\r\nyour readers help you―what do you expect now? What feedback would you like? What\r\ndecision-making can happen now that your report is presented and the insights\r\nhave been shared? In my work, I often collaborate with strategists to develop a\r\nset of recommendations for our clients. Typically I'll take a stab at it based\r\non the expertise I've gained in working with the data and a strategist will\r\nrefine using their business insights.\r\n\r\nFIN\r\nAnd this is exactly where the beauty of the analysis and your skillful\r\npresentation thereof meet. Because you’ve managed to package your approach in a\r\nfashion digestible to your audience, your readers, collaborators, and clients\r\nhave comprehended and learned from your analysis and what its implications are\r\nwithout getting lost in the trees. They are equipped to react to the value in\r\nyour work and participate in the next step of realizing its objectives.\r\n\r\n\r\n--------------------------------------------------------------------------------\r\n\r\nThanks for reading the second entry in this series on communicating data science . I covered the basics of presenting an analysis at a very high level. I'd love\r\nto learn what your approach is, how you realize the value in your work, and how\r\nyou collaborate with others to achieve business goals. Leave a comment or send me a note !\r\n\r\nIf you missed my interview with Tyler Byers, a data scientist and storytelling\r\nexpert, check it out here . Stay tuned to learn some data visualization fundamentals.\r\n\r\ncommunicating data science data analysis Reporting Tutorial writing * Liling TanGricean maxims should be \"maxims\" of quantity, quality, relation and manner,\r\n   not \"maximums\" =)\r\n   \r\n    * Megan RisdalHaha, wow! I don't know how I did that. Fixed. Thank you! 🙂\r\n      \r\n      \r\n    * \r\n   \r\n   \r\n * \r\n * Albert CampsVery interesting, thanks!!! Trying to summarize it ended up being quite long\r\n   anyway. A lot of distilled information.\r\n   \r\n   We work a bit differently. We include an executive summary + recommendations\r\n   at the beginning of the presentation instead of putting them at the end, just\r\n   after stating the question to answer. After that the audience knows what will\r\n   come, and when the presentation is revisited it is a lot faster to check . If\r\n   there's a need to dig deeper, there's always available all the analysis\r\n   steps.\r\n   \r\n   Hoping to see the next one soon! 😀\r\n   \r\n    * Megan RisdalThanks! I actually often do the same thing re: executive summaries in my\r\n      day job, too! That's a really good point. There's definitely no\r\n      one-size-fits-all approach which makes a high-level summarization\r\n      misleading in certain ways. And now that I think of it, another strength\r\n      in communicating data science is being able to be information dense &\r\n      concise for times where you need to fit your work into a standalone one-\r\n      or two-sheeter/executive summary.\r\n      \r\n      Hopefully more good stuff coming soon. 🙂\r\n      \r\n      \r\n    * \r\n   \r\n   \r\n * \r\n\r\nTHE OFFICIAL BLOG OF KAGGLE.COM\r\nSearchCATEGORIES\r\n * Data Science News (38)\r\n * Kaggle News (120)\r\n * Kernels (22)\r\n * Tutorials (28)\r\n * Winners' Interviews (174)\r\n\r\nWANT TO SUBSCRIBE?\r\nEmail Address * First Name * = required fieldPOPULAR TAGS\r\nAlgo Trading Challenge Annual Santa Competition binary classification community computer vision CrowdFlower Search Results Relevance Dark Matter Deloitte diabetes Diabetic Retinopathy EEG data Elo Chess Ratings Competition Eurovision Challenge Facebook Recruiting Flavours of Physics: Finding τ → μμμ Flight Quest Grasp-and-Lift EEG Detection Heritage Health Prize How Much Did It Rain? image classification Intel Kaggle InClass Kernels logistic regression March Mania Merck multiclass classification natural language processing optimization problem Otto Product Classification Owen Zhang Practice Fusion Product Product News Profiling Top Kagglers Recruiting regression problem scikit-learn scripts of the week The Hunt for Prohibited Content Tourism Forecasting Tutorial video series Wikipedia Challenge XGBoostARCHIVES\r\nArchives Select Month July 2016 June 2016 May 2016 April 2016 March 2016 February 2016 January 2016 December 2015 November 2015 October 2015 September 2015 August 2015 July 2015 June 2015 May 2015 April 2015 March 2015 February 2015 January 2015 December 2014 November 2014 September 2014 August 2014 July 2014 June 2014 May 2014 April 2014 March 2014 February 2014 January 2014 December 2013 November 2013 September 2013 August 2013 July 2013 June 2013 May 2013 April 2013 March 2013 February 2013 January 2013 December 2012 November 2012 October 2012 September 2012 August 2012 July 2012 June 2012 May 2012 April 2012 March 2012 February 2012 January 2012 December 2011 November 2011 October 2011 September 2011 August 2011 July 2011 June 2011 May 2011 April 2011 March 2011 February 2011 January 2011 December 2010 November 2010 October 2010 September 2010 August 2010 July 2010 June 2010 May 2010 April 2010 Toggle the Widgetbar",
         "See the forest, see the trees. Here lies the challenge in both performing and presenting an analysis. As data scientists, analysts, and machine learning engineers faced with fulfilling business obj…",
         "Communicating data science: A guide to presenting your work",
         "Live",
         "1"
        ],
        [
         "2",
         "☰ * Login\r\n * Sign Up\r\n\r\n * Learning Paths\r\n * Courses * Our Courses\r\n    * Partner Courses\r\n   \r\n   \r\n * Badges * Our Badges\r\n    * BDU Badge Program\r\n   \r\n   \r\n * Watson Student Advisor\r\n\r\n * \r\n\r\nBLOG\r\nWelcome to the BDUBlog .SUBCRIBE VIA FEED\r\nRSS - Posts\r\n\r\nRSS - Comments\r\n\r\nSUBSCRIBE VIA EMAIL\r\nEnter your email address to subscribe to this blog and receive notifications of\r\nnew posts by email.\r\n\r\nEmail Address\r\n\r\n\r\n\r\nRECENT POSTS\r\n * This Week in Data Science (April 18, 2017)\r\n * This Week in Data Science (April 11, 2017)\r\n * How to Become a Data Scientist\r\n * This Week in Data Science (April 4, 2017)\r\n * This Week in Data Science (March 28, 2017)\r\n\r\nCONNECT ON FACEBOOK\r\nConnect on FacebookFOLLOW US ON TWITTER\r\nMy TweetsBLOGROLL\r\n * RBloggers\r\n\r\nTHIS WEEK IN DATA SCIENCE (APRIL 18, 2017)\r\nPosted on April 18, 2017 by Janice Darling\r\n\r\nHere’s this week’s news in Data Science and Big Data.\r\n\r\nDon’t forget to subscribe if you find this useful!\r\n\r\nINTERESTING DATA SCIENCE ARTICLES AND NEWS\r\n * Top mistakes data scientists make when dealing with business people – A discussion of the three top mistakes data scientists make.\r\n * 4 Trends in Artificial Intelligence that affect enterprises. – Four AI trends that stand out in their affect on companies and\r\n   enterprises.\r\n * R Best Practices: R you writing the R way! – A list of programming practices that result in improved readability,\r\n   consistency, and repeatability.\r\n * The 5 Best Reasons To Choose MYSQL – and its 5 Biggest Challenges – Reasons to use MYSQL and the common challenges associated.\r\n * 7 types of job profiles that make you a Data Scientist – A discussion of the common skill sets of different data scientist\r\n   profiles.\r\n * Detecting Hackers & Impersonators with Machine Learning – Applying Machine Learning to faster detect phishing attacks.\r\n * Some Lesser-Known Deep Learning Libraries – A list of lesser known but useful Deep Learning libraries.\r\n * In case you missed it: March 2017 roundup – Articles about R programming from Revolutions.\r\n * Investing, Fast & Slow – Part 2: Investment for Data Scientists 101 – Second part in a discussion series on investing and data science from\r\n   Dataconomy.\r\n * 10 Free Must-Read Books for Machine Learning and Data Science – A list of interesting Machine Learning and Data Science reads.\r\n * Integrate Sparkr And R For Better Data Science Workflow – How to work with R and Sparkr for wrangling with large datasets.\r\n * Can Watson, the Jeopardy champion, solve Parkinson’s? – Toronto Researchers are using Watson to help find a cure for Parkinson’s.\r\n * The Henry Ford to debut ‘cognitive dress’ using IBM Watson technology – The Henry Ford will display a dress created from a collaboration between\r\n   Marchesa and IBM Watson.\r\n * The Democratization of Machine Learning: What It Means for Tech Innovation – How accessible ML can further spur tech innovation.\r\n * 3 reasons why data scientist remains the top job in America – A discussion of why the role of data scientist has remained the top job in\r\n   America.\r\n\r\n\r\n\r\nFEATURED COURSES FROM BDU\r\n * SQL and Relational Databases 101 – Learn the basics of the database querying language, SQL.\r\n * Big Data 101 – What Is Big Data? Take Our Free Big Data Course to Find Out.\r\n * Predictive Modeling Fundamentals I – Take this free course and learn the different mathematical algorithms used\r\n   to detect patterns hidden in data.\r\n * Using R with Databases – Learn how to unleash the power of R when working with relational databases\r\n   in our newest free course.\r\n * Deep Learning with TensorFlow – Take this free TensorFlow course and learn how to use Google’s library to\r\n   apply deep learning to different data types in order to solve real world\r\n   problems.\r\n\r\n\r\n\r\nUPCOMING DATA SCIENCE EVENTS\r\n * Data Science: Classification Algorithms in Python(Hands-On) –April 25, 2017 @ 6 – 8:30 pm Lighthouse Labs\r\n\r\n\r\n\r\nCOOL DATA SCIENCE VIDEOS\r\n * Machine Learning With Python – Unsupervised Learning – Measuring the\r\n   Distances Between Clusters – Using Single Linkage Clustering to measure the distance between Clusters.\r\n * Machine Learning With Python – Hierarchical Clustering Advantages &\r\n   Disadvantages – A discussion of Hierarchical Clustering.\r\n * Machine Learning With Python – Unsupervised Learning K Means Clustering\r\n   Advantages & Disadvantages – A discussion of K-Means Clustering.\r\n\r\nSHARE THIS:\r\n * Facebook\r\n * Twitter\r\n * LinkedIn\r\n * Google\r\n * Pocket\r\n * Reddit\r\n * Email\r\n * Print\r\n * \r\n\r\nRELATED\r\nTags: Big Data , data science , weekly roundup\r\n\r\n\r\n--------------------------------------------------------------------------------\r\n\r\nCOMMENTS\r\nLEAVE A REPLY CANCEL REPLY\r\n * About\r\n * Contact\r\n * Blog\r\n * Events\r\n * Ambassador Program\r\n * Resources\r\n * FAQ\r\n * Legal\r\n\r\nFollow us * \r\n * \r\n * \r\n * \r\n * \r\n\r\n * \r\n * \r\n\r\nSend to Email Address Your Name Your Email Address Cancel Post was not sent - check your email addresses! Email check failed, please try again Sorry, your blog cannot share posts by email.",
         "Here’s this week’s news in Data Science and Big Data.",
         "This Week in Data Science (April 18, 2017)",
         "Live",
         "2"
        ],
        [
         "3",
         "DATALAYER: HIGH THROUGHPUT, LOW LATENCY AT SCALE - BOOST THE PERFORMANCE OF YOUR\r\nDISTRIBUTED DATABASE\r\nShare on Twitter Share on Facebook Share on Google+ Vote on Hacker News Published Dec 29, 2016Learn how distributed DBs (Cassandra, MongoDB, RethinkDB, etc) solve the problem\r\nof scaling persistent storage, but introduce latency as data size increases and\r\nbecome I/O bound. In single server DBs, latency is solved by introducing\r\ncaching. In this talk, Akbar Ahmed shows you how to improve the performance of\r\ndistributed DBs by using a distributed cache to move the data layer performance\r\nlimitation from I/O bound to network bound.\r\n\r\nAkbar is the CEO and founder of DynomiteDB, a framework for turning single\r\nserver data stores into linearly scalable, distributed databases. He is an\r\nApache Cassandra certified developer and a Cassandra MVP, enjoys the\r\nexpressiveness of both SQL and alternative query languages, and evaluates the\r\nentire database ecosystem every 6 months and has an MBA in Information Systems.\r\n\r\n\r\n--------------------------------------------------------------------------------\r\n\r\nIf you have any feedback about this or any other Compose article, drop the\r\nCompose Articles team a line at articles@compose.com . We're happy to hear from you.\r\n\r\nShare on Twitter Share on Facebook Share on Google+ Vote on Hacker News Subscribe Thom Crowe is a marketing and community guy at Compose, who enjoys long walks on the\r\nbeach, reading, spending time with his wife and daughter and tinkering. Love\r\nthis article? Head over to Thom Crowe’s author page and keep reading. Company About Us We’re Hiring Articles Write Stuff Plans & Pricing Customer Stories Compose Webinars Support System Status Support Documentation Security Privacy Policy Terms of Service Products MongoDB Elasticsearch RethinkDB Redis PostgreSQL etcd RabbitMQ ScyllaDB MySQL Enterprise Add-ons * Deployments AWS SoftLayer Google Cloud",
         "Learn how distributed DBs solve the problem of scaling persistent storage, but introduce latency as data size increases and become I/O bound.",
         "DataLayer Conference: Boost the performance of your distributed database",
         "Live",
         "3"
        ],
        [
         "4",
         "Skip navigation Sign in SearchLoading...\r\n\r\nClose Yeah, keep it Undo CloseTHIS VIDEO IS UNAVAILABLE.\r\nWATCH QUEUE\r\nQUEUE\r\nWatch Queue Queue * Remove all\r\n * Disconnect\r\n\r\nThe next video is starting stop 1. Loading...\r\n\r\nWatch Queue Queue __count__/__total__ Find out why CloseDATA SCIENCE EXPERIENCE: ANALYZE NY RESTAURANT INSPECTIONS DATA\r\ndeveloperWorks TVLoading...\r\n\r\nUnsubscribe from developerWorks TV? Cancel UnsubscribeWorking...\r\n\r\nSubscribe Subscribed Unsubscribe 17KLoading...\r\n\r\nLoading...\r\n\r\nWorking...\r\n\r\nAdd toWANT TO WATCH THIS AGAIN LATER?\r\nSign in to add this video to a playlist. Sign in Share More * ReportNEED TO REPORT THE VIDEO?\r\n   Sign in to report inappropriate content. Sign in\r\n * Transcript\r\n * Statistics\r\n * Add translations\r\n\r\n9 views 0LIKE THIS VIDEO?\r\nSign in to make your opinion count. Sign in 1 0DON'T LIKE THIS VIDEO?\r\nSign in to make your opinion count. Sign in 1Loading...\r\n\r\nLoading...\r\n\r\nTRANSCRIPT\r\nThe interactive transcript could not be loaded.Loading...\r\n\r\nLoading...\r\n\r\nRating is available when the video has been rented. This feature is not available right now. Please try again later. Published on Oct 3, 2017Find more videos in the Data Science Experience Learning Center at http://ibm.biz/dsx-learning\r\n\r\n * CATEGORY\r\n    * Science & Technology\r\n   \r\n   \r\n * LICENSE\r\n    * Standard YouTube License\r\n   \r\n   \r\n\r\nShow more Show lessLoading...\r\n\r\nAutoplay When autoplay is enabled, a suggested video will automatically play next.UP NEXT\r\n * Data Science Experience: Analyze NYC traffic collisions data with a community\r\n   notebook - Duration: 8:08. developerWorks TV 5 views * New 8:08\r\n\r\n\r\n--------------------------------------------------------------------------------\r\n\r\n * Data Science Experience: Analyze Db2 Warehouse on Cloud data in RStudio -\r\n   Duration: 5:30. developerWorks TV 3 views * New 5:30\r\n * Data Science Experience: Analyze precipitation data using a community\r\n   notebook - Duration: 5:15. developerWorks TV No views * New 5:15\r\n * Data Science Experience demo: Modeling energy usage in NYC - Duration: 8:21.\r\n   IBM Analytics 8,386 views 8:21\r\n * Data Science Experience: Sentiment Analysis of Twitter Hashtags Using Spark\r\n   Streaming - Duration: 5:35. developerWorks TV No views * New 5:35\r\n * Introduction to Spark and Data Science Experience - Duration: 49:24. Data\r\n   Gurus 419 views 49:24\r\n * Data Science Experience: Load and analyze public data sets - Duration: 2:46.\r\n   developerWorks TV No views * New 2:46\r\n * IBM Big SQL: Analyze HDFS data with IBM Cognos Analytics - Duration: 6:54.\r\n   developerWorks TV No views * New 6:54\r\n * Use IBM PixieDust and Data Science Experience to analyze San Francisco\r\n   traffic - Duration: 11:57. scottdangelo 447 views 11:57\r\n * Data Analytics Overview | Data Science With Python Tutorial - Duration:\r\n   18:23. Simplilearn 12,463 views 18:23\r\n * Exploring Data Science Experience, a Platform for Data Scientists using Open\r\n   Source Technologies - Duration: 54:10. Data Gurus 102 views 54:10\r\n * Data Science Experience: Build SQL queries with Apache Spark - Duration:\r\n   3:29. developerWorks TV 2 views * New 3:29\r\n * A data scientist experiments with Jupyter notebooks and Apache Spark: Part 1\r\n   - Duration: 13:30. IBM Analytics 4,093 views 13:30\r\n * Creating the Data Science Experience - Duration: 3:55. IBM Analytics 3,197\r\n   views 3:55\r\n * H2O With IBM's Data Science Experience (DSX) - Duration: 4:43. Matt McInnis\r\n   303 views 4:43\r\n * Data Science With Python | Data Science Tutorial | Simplilearn - Duration:\r\n   7:52. Simplilearn 20,809 views 7:52\r\n * Q&A with Lightbend’s Duncan DeVore on Reactive Microservices and JavaOne -\r\n   Duration: 5:39. developerWorks TV 36 views * New 5:39\r\n * IBM Analytics Engine Overview - Duration: 7:21. developerWorks TV 7 views *\r\n   New 7:21\r\n * Visual Machine Learning in Data Science Experience - Duration: 1:37. Armand\r\n   Ruiz 2,996 views 1:37\r\n * JavaOne: Microservice hands-on - Duration: 5:22. developerWorks TV No views *\r\n   New 5:22\r\n\r\n * Language: English\r\n * Content location: United States\r\n * Restricted Mode: Off\r\n\r\nHistory HelpLoading...\r\n\r\nLoading...\r\n\r\nLoading...\r\n\r\n * About\r\n * Press\r\n * Copyright\r\n * Creators\r\n * Advertise\r\n * Developers\r\n * +YouTube\r\n\r\n * Terms\r\n * Privacy\r\n * Policy & Safety\r\n * Send feedback\r\n * Test new features\r\n * \r\n\r\nLoading...\r\n\r\nWorking...\r\n\r\nSign in to add this to Watch LaterADD TO\r\nLoading playlists...",
         "This video demonstrates the power of IBM DataScience Experience using a simple New York State Restaurant Inspections data scenario. ",
         "Analyze NY Restaurant data using Spark in DSX",
         "Live",
         "4"
        ]
       ],
       "shape": {
        "columns": 5,
        "rows": 5
       }
      },
      "text/html": [
       "<div>\n",
       "<style scoped>\n",
       "    .dataframe tbody tr th:only-of-type {\n",
       "        vertical-align: middle;\n",
       "    }\n",
       "\n",
       "    .dataframe tbody tr th {\n",
       "        vertical-align: top;\n",
       "    }\n",
       "\n",
       "    .dataframe thead th {\n",
       "        text-align: right;\n",
       "    }\n",
       "</style>\n",
       "<table border=\"1\" class=\"dataframe\">\n",
       "  <thead>\n",
       "    <tr style=\"text-align: right;\">\n",
       "      <th></th>\n",
       "      <th>doc_body</th>\n",
       "      <th>doc_description</th>\n",
       "      <th>doc_full_name</th>\n",
       "      <th>doc_status</th>\n",
       "      <th>article_id</th>\n",
       "    </tr>\n",
       "  </thead>\n",
       "  <tbody>\n",
       "    <tr>\n",
       "      <th>0</th>\n",
       "      <td>Skip navigation Sign in SearchLoading...\\r\\n\\r...</td>\n",
       "      <td>Detect bad readings in real time using Python ...</td>\n",
       "      <td>Detect Malfunctioning IoT Sensors with Streami...</td>\n",
       "      <td>Live</td>\n",
       "      <td>0</td>\n",
       "    </tr>\n",
       "    <tr>\n",
       "      <th>1</th>\n",
       "      <td>No Free Hunch Navigation * kaggle.com\\r\\n\\r\\n ...</td>\n",
       "      <td>See the forest, see the trees. Here lies the c...</td>\n",
       "      <td>Communicating data science: A guide to present...</td>\n",
       "      <td>Live</td>\n",
       "      <td>1</td>\n",
       "    </tr>\n",
       "    <tr>\n",
       "      <th>2</th>\n",
       "      <td>☰ * Login\\r\\n * Sign Up\\r\\n\\r\\n * Learning Pat...</td>\n",
       "      <td>Here’s this week’s news in Data Science and Bi...</td>\n",
       "      <td>This Week in Data Science (April 18, 2017)</td>\n",
       "      <td>Live</td>\n",
       "      <td>2</td>\n",
       "    </tr>\n",
       "    <tr>\n",
       "      <th>3</th>\n",
       "      <td>DATALAYER: HIGH THROUGHPUT, LOW LATENCY AT SCA...</td>\n",
       "      <td>Learn how distributed DBs solve the problem of...</td>\n",
       "      <td>DataLayer Conference: Boost the performance of...</td>\n",
       "      <td>Live</td>\n",
       "      <td>3</td>\n",
       "    </tr>\n",
       "    <tr>\n",
       "      <th>4</th>\n",
       "      <td>Skip navigation Sign in SearchLoading...\\r\\n\\r...</td>\n",
       "      <td>This video demonstrates the power of IBM DataS...</td>\n",
       "      <td>Analyze NY Restaurant data using Spark in DSX</td>\n",
       "      <td>Live</td>\n",
       "      <td>4</td>\n",
       "    </tr>\n",
       "  </tbody>\n",
       "</table>\n",
       "</div>"
      ],
      "text/plain": [
       "                                            doc_body  \\\n",
       "0  Skip navigation Sign in SearchLoading...\\r\\n\\r...   \n",
       "1  No Free Hunch Navigation * kaggle.com\\r\\n\\r\\n ...   \n",
       "2  ☰ * Login\\r\\n * Sign Up\\r\\n\\r\\n * Learning Pat...   \n",
       "3  DATALAYER: HIGH THROUGHPUT, LOW LATENCY AT SCA...   \n",
       "4  Skip navigation Sign in SearchLoading...\\r\\n\\r...   \n",
       "\n",
       "                                     doc_description  \\\n",
       "0  Detect bad readings in real time using Python ...   \n",
       "1  See the forest, see the trees. Here lies the c...   \n",
       "2  Here’s this week’s news in Data Science and Bi...   \n",
       "3  Learn how distributed DBs solve the problem of...   \n",
       "4  This video demonstrates the power of IBM DataS...   \n",
       "\n",
       "                                       doc_full_name doc_status  article_id  \n",
       "0  Detect Malfunctioning IoT Sensors with Streami...       Live           0  \n",
       "1  Communicating data science: A guide to present...       Live           1  \n",
       "2         This Week in Data Science (April 18, 2017)       Live           2  \n",
       "3  DataLayer Conference: Boost the performance of...       Live           3  \n",
       "4      Analyze NY Restaurant data using Spark in DSX       Live           4  "
      ]
     },
     "execution_count": 45,
     "metadata": {},
     "output_type": "execute_result"
    }
   ],
   "source": [
    "# Show df_content to get an idea of the data\n",
    "df_content.head()"
   ]
  },
  {
   "cell_type": "code",
   "execution_count": 46,
   "metadata": {
    "collapsed": true
   },
   "outputs": [
    {
     "data": {
      "text/plain": [
       "(1056, 5)"
      ]
     },
     "execution_count": 46,
     "metadata": {},
     "output_type": "execute_result"
    }
   ],
   "source": [
    "df_content.shape"
   ]
  },
  {
   "cell_type": "code",
   "execution_count": 47,
   "metadata": {},
   "outputs": [
    {
     "name": "stdout",
     "output_type": "stream",
     "text": [
      "<class 'pandas.core.frame.DataFrame'>\n",
      "RangeIndex: 1056 entries, 0 to 1055\n",
      "Data columns (total 5 columns):\n",
      " #   Column           Non-Null Count  Dtype \n",
      "---  ------           --------------  ----- \n",
      " 0   doc_body         1042 non-null   object\n",
      " 1   doc_description  1053 non-null   object\n",
      " 2   doc_full_name    1056 non-null   object\n",
      " 3   doc_status       1056 non-null   object\n",
      " 4   article_id       1056 non-null   int64 \n",
      "dtypes: int64(1), object(4)\n",
      "memory usage: 41.4+ KB\n"
     ]
    }
   ],
   "source": [
    "df_content.info()"
   ]
  },
  {
   "cell_type": "code",
   "execution_count": 48,
   "metadata": {
    "collapsed": true
   },
   "outputs": [
    {
     "data": {
      "text/plain": [
       "1051"
      ]
     },
     "execution_count": 48,
     "metadata": {},
     "output_type": "execute_result"
    }
   ],
   "source": [
    "df_content['article_id'].nunique()"
   ]
  },
  {
   "cell_type": "markdown",
   "metadata": {},
   "source": [
    "### <a class=\"anchor\" id=\"Exploratory-Data-Analysis\">Part I : Exploratory Data Analysis</a>\n",
    "\n",
    "Use the dictionary and cells below to provide some insight into the descriptive statistics of the data.\n",
    "\n",
    "`1.` What is the distribution of how many articles a user interacts with in the dataset?  Provide a visual and descriptive statistics to assist with giving a look at the number of times each user interacts with an article.  "
   ]
  },
  {
   "cell_type": "code",
   "execution_count": 49,
   "metadata": {},
   "outputs": [],
   "source": [
    "#user interactions:\n",
    "user_interactions = df.groupby('email')['article_id'].count()"
   ]
  },
  {
   "cell_type": "code",
   "execution_count": 50,
   "metadata": {},
   "outputs": [
    {
     "data": {
      "text/plain": [
       "np.float64(3.0)"
      ]
     },
     "execution_count": 50,
     "metadata": {},
     "output_type": "execute_result"
    }
   ],
   "source": [
    "# median value:\n",
    "user_interactions.median()"
   ]
  },
  {
   "cell_type": "code",
   "execution_count": 51,
   "metadata": {},
   "outputs": [
    {
     "data": {
      "text/plain": [
       "np.int64(364)"
      ]
     },
     "execution_count": 51,
     "metadata": {},
     "output_type": "execute_result"
    }
   ],
   "source": [
    "# max views\n",
    "user_interactions.max()"
   ]
  },
  {
   "cell_type": "code",
   "execution_count": 52,
   "metadata": {
    "collapsed": true
   },
   "outputs": [],
   "source": [
    "# Fill in the median and maximum number of user_article interactios below\n",
    "median_val = 3 # 50% of individuals interact with ____ number of articles or fewer.\n",
    "max_views_by_user = 364 # The maximum number of user-article interactions by any 1 user is ______."
   ]
  },
  {
   "cell_type": "code",
   "execution_count": 53,
   "metadata": {},
   "outputs": [
    {
     "data": {
      "image/png": "[encoded data removed]",
      "text/plain": [
       "<Figure size 800x600 with 1 Axes>"
      ]
     },
     "metadata": {},
     "output_type": "display_data"
    }
   ],
   "source": [
    "plt.figure(figsize=(8,6))\n",
    "user_interactions.plot(kind='hist')\n",
    "plt.title('Histogramm of user interactions') \n",
    "plt.xlabel('Number');"
   ]
  },
  {
   "cell_type": "markdown",
   "metadata": {},
   "source": [
    "`2.` Explore and remove duplicate articles from the **df_content** dataframe.  "
   ]
  },
  {
   "cell_type": "code",
   "execution_count": 54,
   "metadata": {
    "collapsed": true
   },
   "outputs": [
    {
     "data": {
      "text/plain": [
       "np.int64(5)"
      ]
     },
     "execution_count": 54,
     "metadata": {},
     "output_type": "execute_result"
    }
   ],
   "source": [
    "# Find and explore duplicate articles\n",
    "df_content.article_id.duplicated().sum()"
   ]
  },
  {
   "cell_type": "code",
   "execution_count": 55,
   "metadata": {},
   "outputs": [
    {
     "name": "stdout",
     "output_type": "stream",
     "text": [
      "\n",
      "all duplicated id:\n",
      "[ 50 221 398 577 232]\n",
      "\n",
      "all rows with duplicated id:\n",
      "                                              doc_body  \\\n",
      "50   Follow Sign in / Sign up Home About Insight Da...   \n",
      "221  * United States\\r\\n\\r\\nIBM® * Site map\\r\\n\\r\\n...   \n",
      "232  Homepage Follow Sign in Get started Homepage *...   \n",
      "365  Follow Sign in / Sign up Home About Insight Da...   \n",
      "399  Homepage Follow Sign in Get started * Home\\r\\n...   \n",
      "578  This video shows you how to construct queries ...   \n",
      "692  Homepage Follow Sign in / Sign up Homepage * H...   \n",
      "761  Homepage Follow Sign in Get started Homepage *...   \n",
      "970  This video shows you how to construct queries ...   \n",
      "971  Homepage Follow Sign in Get started * Home\\r\\n...   \n",
      "\n",
      "                                       doc_description  \\\n",
      "50                        Community Detection at Scale   \n",
      "221  When used to make sense of huge amounts of con...   \n",
      "232  If you are like most data scientists, you are ...   \n",
      "365  During the seven-week Insight Data Engineering...   \n",
      "399  Today’s world of data science leverages data f...   \n",
      "578  This video shows you how to construct queries ...   \n",
      "692  One of the earliest documented catalogs was co...   \n",
      "761  Today’s world of data science leverages data f...   \n",
      "970  This video shows you how to construct queries ...   \n",
      "971  If you are like most data scientists, you are ...   \n",
      "\n",
      "                                         doc_full_name doc_status  article_id  \n",
      "50                        Graph-based machine learning       Live          50  \n",
      "221  How smart catalogs can turn the big data flood...       Live         221  \n",
      "232  Self-service data preparation with IBM Data Re...       Live         232  \n",
      "365                       Graph-based machine learning       Live          50  \n",
      "399  Using Apache Spark as a parallel processing fr...       Live         398  \n",
      "578                              Use the Primary Index       Live         577  \n",
      "692  How smart catalogs can turn the big data flood...       Live         221  \n",
      "761  Using Apache Spark as a parallel processing fr...       Live         398  \n",
      "970                              Use the Primary Index       Live         577  \n",
      "971  Self-service data preparation with IBM Data Re...       Live         232  \n"
     ]
    }
   ],
   "source": [
    "duplicated_article_ids = df_content[df_content.duplicated(subset='article_id', keep='first')]['article_id'].unique()\n",
    "print(\"\\nall duplicated id:\")\n",
    "print(duplicated_article_ids)\n",
    "df_duplicated_content = df_content[df_content['article_id'].isin(duplicated_article_ids)]\n",
    "\n",
    "print(\"\\nall rows with duplicated id:\")\n",
    "print(df_duplicated_content)"
   ]
  },
  {
   "cell_type": "code",
   "execution_count": 56,
   "metadata": {
    "collapsed": true
   },
   "outputs": [],
   "source": [
    "# Remove any rows that have the same article_id - only keep the first\n",
    "df_content.drop_duplicates(subset=['article_id'], keep='first', inplace=True)"
   ]
  },
  {
   "cell_type": "code",
   "execution_count": 57,
   "metadata": {},
   "outputs": [
    {
     "data": {
      "text/plain": [
       "np.int64(0)"
      ]
     },
     "execution_count": 57,
     "metadata": {},
     "output_type": "execute_result"
    }
   ],
   "source": [
    "#check for sucess\n",
    "df_content.article_id.duplicated().sum()"
   ]
  },
  {
   "cell_type": "markdown",
   "metadata": {},
   "source": [
    "no more duplicated ids in the dataset!"
   ]
  },
  {
   "cell_type": "markdown",
   "metadata": {},
   "source": [
    "`3.` Use the cells below to find:\n",
    "\n",
    "**a.** The number of unique articles that have an interaction with a user.  \n",
    "**b.** The number of unique articles in the dataset (whether they have any interactions or not).<br>\n",
    "**c.** The number of unique users in the dataset. (excluding null values) <br>\n",
    "**d.** The number of user-article interactions in the dataset."
   ]
  },
  {
   "cell_type": "code",
   "execution_count": 58,
   "metadata": {},
   "outputs": [
    {
     "name": "stdout",
     "output_type": "stream",
     "text": [
      "(45993, 3)\n",
      "(1051, 5)\n"
     ]
    }
   ],
   "source": [
    "print(df.shape)\n",
    "print(df_content.shape)"
   ]
  },
  {
   "cell_type": "code",
   "execution_count": 59,
   "metadata": {},
   "outputs": [
    {
     "data": {
      "text/plain": [
       "714"
      ]
     },
     "execution_count": 59,
     "metadata": {},
     "output_type": "execute_result"
    }
   ],
   "source": [
    "# a. The number of unique articles that have an interaction with a user\n",
    "len(df['article_id'].unique())"
   ]
  },
  {
   "cell_type": "code",
   "execution_count": 60,
   "metadata": {
    "collapsed": true
   },
   "outputs": [
    {
     "data": {
      "text/plain": [
       "1051"
      ]
     },
     "execution_count": 60,
     "metadata": {},
     "output_type": "execute_result"
    }
   ],
   "source": [
    "# b. The number of unique articles in the dataset (whether they have any interactions or not) / should be equal to size\n",
    "len(df_content['article_id'].unique())\n"
   ]
  },
  {
   "cell_type": "code",
   "execution_count": 61,
   "metadata": {},
   "outputs": [
    {
     "data": {
      "text/plain": [
       "5149"
      ]
     },
     "execution_count": 61,
     "metadata": {},
     "output_type": "execute_result"
    }
   ],
   "source": [
    "# c. The number of unique users in the dataset\n",
    "len(df.email.unique())"
   ]
  },
  {
   "cell_type": "code",
   "execution_count": 62,
   "metadata": {},
   "outputs": [
    {
     "data": {
      "text/plain": [
       "5148"
      ]
     },
     "execution_count": 62,
     "metadata": {},
     "output_type": "execute_result"
    }
   ],
   "source": [
    "#the number above contains the 0 user\n",
    "df.email.nunique()"
   ]
  },
  {
   "cell_type": "code",
   "execution_count": 63,
   "metadata": {},
   "outputs": [],
   "source": [
    "# d. The number of user-article interactions in the dataset\n",
    "# is the shape op the df dataframe: 45993"
   ]
  },
  {
   "cell_type": "code",
   "execution_count": 64,
   "metadata": {
    "collapsed": true
   },
   "outputs": [],
   "source": [
    "unique_articles = 714 # The number of unique articles that have at least one interaction\n",
    "total_articles = 1051 # The number of unique articles on the IBM platform\n",
    "unique_users = 5148 # The number of unique users\n",
    "user_article_interactions = 45993 # The number of user-article interactions"
   ]
  },
  {
   "cell_type": "markdown",
   "metadata": {},
   "source": [
    "`4.` Use the cells below to find the most viewed **article_id**, as well as how often it was viewed.  After talking to the company leaders, the `email_mapper` function was deemed a reasonable way to map users to ids.  There were a small number of null values, and it was found that all of these null values likely belonged to a single user (which is how they are stored using the function below)."
   ]
  },
  {
   "cell_type": "code",
   "execution_count": 65,
   "metadata": {
    "collapsed": true
   },
   "outputs": [
    {
     "data": {
      "application/vnd.microsoft.datawrangler.viewer.v0+json": {
       "columns": [
        {
         "name": "article_id",
         "rawType": "float64",
         "type": "float"
        },
        {
         "name": "count",
         "rawType": "int64",
         "type": "integer"
        }
       ],
       "ref": "303d23d1-acbd-4961-9fdd-9efce324764d",
       "rows": [
        [
         "1429.0",
         "937"
        ],
        [
         "1330.0",
         "927"
        ]
       ],
       "shape": {
        "columns": 1,
        "rows": 2
       }
      },
      "text/plain": [
       "article_id\n",
       "1429.0    937\n",
       "1330.0    927\n",
       "Name: count, dtype: int64"
      ]
     },
     "execution_count": 65,
     "metadata": {},
     "output_type": "execute_result"
    }
   ],
   "source": [
    "# most viewed article_id\n",
    "df.article_id.value_counts().head(2)"
   ]
  },
  {
   "cell_type": "code",
   "execution_count": 66,
   "metadata": {
    "collapsed": true
   },
   "outputs": [],
   "source": [
    "most_viewed_article_id = '1429.0' # The most viewed article in the dataset as a string with one value following the decimal \n",
    "max_views = 937 # The most viewed article in the dataset was viewed how many times?"
   ]
  },
  {
   "cell_type": "code",
   "execution_count": 67,
   "metadata": {
    "collapsed": true
   },
   "outputs": [
    {
     "data": {
      "application/vnd.microsoft.datawrangler.viewer.v0+json": {
       "columns": [
        {
         "name": "index",
         "rawType": "int64",
         "type": "integer"
        },
        {
         "name": "article_id",
         "rawType": "float64",
         "type": "float"
        },
        {
         "name": "title",
         "rawType": "object",
         "type": "string"
        },
        {
         "name": "user_id",
         "rawType": "int64",
         "type": "integer"
        }
       ],
       "ref": "0b252b55-4b59-4f02-93bc-f676e6819268",
       "rows": [
        [
         "0",
         "1430.0",
         "using pixiedust for fast, flexible, and easier data analysis and experimentation",
         "1"
        ],
        [
         "1",
         "1314.0",
         "healthcare python streaming application demo",
         "2"
        ],
        [
         "2",
         "1429.0",
         "use deep learning for image classification",
         "3"
        ],
        [
         "3",
         "1338.0",
         "ml optimization using cognitive assistant",
         "4"
        ],
        [
         "4",
         "1276.0",
         "deploy your python model as a restful api",
         "5"
        ]
       ],
       "shape": {
        "columns": 3,
        "rows": 5
       }
      },
      "text/html": [
       "<div>\n",
       "<style scoped>\n",
       "    .dataframe tbody tr th:only-of-type {\n",
       "        vertical-align: middle;\n",
       "    }\n",
       "\n",
       "    .dataframe tbody tr th {\n",
       "        vertical-align: top;\n",
       "    }\n",
       "\n",
       "    .dataframe thead th {\n",
       "        text-align: right;\n",
       "    }\n",
       "</style>\n",
       "<table border=\"1\" class=\"dataframe\">\n",
       "  <thead>\n",
       "    <tr style=\"text-align: right;\">\n",
       "      <th></th>\n",
       "      <th>article_id</th>\n",
       "      <th>title</th>\n",
       "      <th>user_id</th>\n",
       "    </tr>\n",
       "  </thead>\n",
       "  <tbody>\n",
       "    <tr>\n",
       "      <th>0</th>\n",
       "      <td>1430.0</td>\n",
       "      <td>using pixiedust for fast, flexible, and easier...</td>\n",
       "      <td>1</td>\n",
       "    </tr>\n",
       "    <tr>\n",
       "      <th>1</th>\n",
       "      <td>1314.0</td>\n",
       "      <td>healthcare python streaming application demo</td>\n",
       "      <td>2</td>\n",
       "    </tr>\n",
       "    <tr>\n",
       "      <th>2</th>\n",
       "      <td>1429.0</td>\n",
       "      <td>use deep learning for image classification</td>\n",
       "      <td>3</td>\n",
       "    </tr>\n",
       "    <tr>\n",
       "      <th>3</th>\n",
       "      <td>1338.0</td>\n",
       "      <td>ml optimization using cognitive assistant</td>\n",
       "      <td>4</td>\n",
       "    </tr>\n",
       "    <tr>\n",
       "      <th>4</th>\n",
       "      <td>1276.0</td>\n",
       "      <td>deploy your python model as a restful api</td>\n",
       "      <td>5</td>\n",
       "    </tr>\n",
       "  </tbody>\n",
       "</table>\n",
       "</div>"
      ],
      "text/plain": [
       "   article_id                                              title  user_id\n",
       "0      1430.0  using pixiedust for fast, flexible, and easier...        1\n",
       "1      1314.0       healthcare python streaming application demo        2\n",
       "2      1429.0         use deep learning for image classification        3\n",
       "3      1338.0          ml optimization using cognitive assistant        4\n",
       "4      1276.0          deploy your python model as a restful api        5"
      ]
     },
     "execution_count": 67,
     "metadata": {},
     "output_type": "execute_result"
    }
   ],
   "source": [
    "## No need to change the code here - this will be helpful for later parts of the notebook\n",
    "# Run this cell to map the user email to a user_id column and remove the email column\n",
    "\n",
    "def email_mapper():\n",
    "    coded_dict = dict()\n",
    "    cter = 1\n",
    "    email_encoded = []\n",
    "    \n",
    "    for val in df['email']:\n",
    "        if val not in coded_dict:\n",
    "            coded_dict[val] = cter\n",
    "            cter+=1\n",
    "        \n",
    "        email_encoded.append(coded_dict[val])\n",
    "    return email_encoded\n",
    "\n",
    "email_encoded = email_mapper()\n",
    "del df['email']\n",
    "df['user_id'] = email_encoded\n",
    "\n",
    "# show header\n",
    "df.head()"
   ]
  },
  {
   "cell_type": "code",
   "execution_count": 68,
   "metadata": {
    "collapsed": true
   },
   "outputs": [
    {
     "name": "stdout",
     "output_type": "stream",
     "text": [
      "It looks like you have everything right here! Nice job!\n"
     ]
    }
   ],
   "source": [
    "## If you stored all your results in the variable names above, \n",
    "## you shouldn't need to change anything in this cell\n",
    "\n",
    "sol_1_dict = {\n",
    "    '`50% of individuals have _____ or fewer interactions.`': median_val,\n",
    "    '`The total number of user-article interactions in the dataset is ______.`': user_article_interactions,\n",
    "    '`The maximum number of user-article interactions by any 1 user is ______.`': max_views_by_user,\n",
    "    '`The most viewed article in the dataset was viewed _____ times.`': max_views,\n",
    "    '`The article_id of the most viewed article is ______.`': most_viewed_article_id,\n",
    "    '`The number of unique articles that have at least 1 rating ______.`': unique_articles,\n",
    "    '`The number of unique users in the dataset is ______`': unique_users,\n",
    "    '`The number of unique articles on the IBM platform`': total_articles\n",
    "}\n",
    "\n",
    "# Test your dictionary against the solution\n",
    "t.sol_1_test(sol_1_dict)"
   ]
  },
  {
   "cell_type": "markdown",
   "metadata": {},
   "source": [
    "### <a class=\"anchor\" id=\"Rank\">Part II: Rank-Based Recommendations</a>\n",
    "\n",
    "Unlike in the earlier lessons, we don't actually have ratings for whether a user liked an article or not.  We only know that a user has interacted with an article.  In these cases, the popularity of an article can really only be based on how often an article was interacted with.\n",
    "\n",
    "`1.` Fill in the function below to return the **n** top articles ordered with most interactions as the top. Test your function using the tests below."
   ]
  },
  {
   "cell_type": "code",
   "execution_count": 69,
   "metadata": {
    "collapsed": true
   },
   "outputs": [],
   "source": [
    "def get_top_articles(n, df=df):\n",
    "    '''\n",
    "    INPUT:\n",
    "    n - (int) the number of top articles to return\n",
    "    df - (pandas dataframe) df as defined at the top of the notebook \n",
    "    \n",
    "    OUTPUT:\n",
    "    top_articles - (list) A list of the top 'n' article titles \n",
    "    \n",
    "    '''\n",
    "    top_articles = df['title'].value_counts().index.tolist()[:n]\n",
    "    top_articles = [str(i) for i in top_articles]\n",
    "    \n",
    "    return top_articles # Return the top article titles from df (not df_content)\n",
    "\n",
    "def get_top_article_ids(n, df=df):\n",
    "    '''\n",
    "    INPUT:\n",
    "    n - (int) the number of top articles to return\n",
    "    df - (pandas dataframe) df as defined at the top of the notebook \n",
    "    \n",
    "    OUTPUT:\n",
    "    top_articles - (list) A list of the top 'n' article titles \n",
    "    \n",
    "    '''\n",
    "    top_articles = df['article_id'].value_counts().index.tolist()[:n]\n",
    "    top_articles = [str(i) for i in top_articles]\n",
    " \n",
    "    return top_articles # Return the top article ids"
   ]
  },
  {
   "cell_type": "code",
   "execution_count": null,
   "metadata": {},
   "outputs": [],
   "source": []
  },
  {
   "cell_type": "code",
   "execution_count": 70,
   "metadata": {
    "collapsed": true
   },
   "outputs": [
    {
     "name": "stdout",
     "output_type": "stream",
     "text": [
      "['use deep learning for image classification']\n",
      "['1429.0']\n"
     ]
    }
   ],
   "source": [
    "print(get_top_articles(1))\n",
    "print(get_top_article_ids(1))"
   ]
  },
  {
   "cell_type": "code",
   "execution_count": 71,
   "metadata": {
    "collapsed": true
   },
   "outputs": [
    {
     "name": "stdout",
     "output_type": "stream",
     "text": [
      "Your top_5 looks like the solution list! Nice job.\n",
      "Your top_10 looks like the solution list! Nice job.\n",
      "Your top_20 looks like the solution list! Nice job.\n"
     ]
    }
   ],
   "source": [
    "# Test your function by returning the top 5, 10, and 20 articles\n",
    "top_5 = get_top_articles(5)\n",
    "top_10 = get_top_articles(10)\n",
    "top_20 = get_top_articles(20)\n",
    "\n",
    "# Test each of your three lists from above\n",
    "t.sol_2_test(get_top_articles)"
   ]
  },
  {
   "cell_type": "markdown",
   "metadata": {},
   "source": [
    "### <a class=\"anchor\" id=\"User-User\">Part III: User-User Based Collaborative Filtering</a>\n",
    "\n",
    "\n",
    "`1.` Use the function below to reformat the **df** dataframe to be shaped with users as the rows and articles as the columns.  \n",
    "\n",
    "* Each **user** should only appear in each **row** once.\n",
    "\n",
    "\n",
    "* Each **article** should only show up in one **column**.  \n",
    "\n",
    "\n",
    "* **If a user has interacted with an article, then place a 1 where the user-row meets for that article-column**.  It does not matter how many times a user has interacted with the article, all entries where a user has interacted with an article should be a 1.  \n",
    "\n",
    "\n",
    "* **If a user has not interacted with an item, then place a zero where the user-row meets for that article-column**. \n",
    "\n",
    "Use the tests to make sure the basic structure of your matrix matches what is expected by the solution."
   ]
  },
  {
   "cell_type": "code",
   "execution_count": 72,
   "metadata": {
    "collapsed": true
   },
   "outputs": [
    {
     "data": {
      "text/plain": [
       "(5149, 714)"
      ]
     },
     "execution_count": 72,
     "metadata": {},
     "output_type": "execute_result"
    }
   ],
   "source": [
    "# create the user-article matrix with 1's and 0's\n",
    "\n",
    "def create_user_item_matrix(df):\n",
    "    '''\n",
    "    INPUT:\n",
    "    df - pandas dataframe with article_id, title, user_id columns\n",
    "    \n",
    "    OUTPUT:\n",
    "    user_item - user item matrix \n",
    "    \n",
    "    Description:\n",
    "    Return a matrix with user ids as rows and article ids on the columns with 1 values where a user interacted with \n",
    "    an article and a 0 otherwise\n",
    "    '''\n",
    "    df_count = df.groupby(['user_id', 'article_id']).count().reset_index() # create a new df based on count\n",
    "    user_item = df_count.pivot_table(values='title', index='user_id', columns='article_id') # pivot so users on rows and article on columns\n",
    "    user_item.replace(np.nan, 0, inplace=True) # replace nulls with 0s\n",
    "    user_item=user_item.map(lambda x: 1 if x > 0 else x) # entries should be a 1 or 0\n",
    "    \n",
    "    return user_item # return the user_item matrix \n",
    "\n",
    "user_item = create_user_item_matrix(df)\n",
    "user_item.shape"
   ]
  },
  {
   "cell_type": "code",
   "execution_count": 73,
   "metadata": {},
   "outputs": [
    {
     "data": {
      "application/vnd.microsoft.datawrangler.viewer.v0+json": {
       "columns": [
        {
         "name": "user_id",
         "rawType": "int64",
         "type": "integer"
        },
        {
         "name": "0.0",
         "rawType": "float64",
         "type": "float"
        },
        {
         "name": "2.0",
         "rawType": "float64",
         "type": "float"
        },
        {
         "name": "4.0",
         "rawType": "float64",
         "type": "float"
        },
        {
         "name": "8.0",
         "rawType": "float64",
         "type": "float"
        },
        {
         "name": "9.0",
         "rawType": "float64",
         "type": "float"
        },
        {
         "name": "12.0",
         "rawType": "float64",
         "type": "float"
        },
        {
         "name": "14.0",
         "rawType": "float64",
         "type": "float"
        },
        {
         "name": "15.0",
         "rawType": "float64",
         "type": "float"
        },
        {
         "name": "16.0",
         "rawType": "float64",
         "type": "float"
        },
        {
         "name": "18.0",
         "rawType": "float64",
         "type": "float"
        },
        {
         "name": "20.0",
         "rawType": "float64",
         "type": "float"
        },
        {
         "name": "25.0",
         "rawType": "float64",
         "type": "float"
        },
        {
         "name": "26.0",
         "rawType": "float64",
         "type": "float"
        },
        {
         "name": "28.0",
         "rawType": "float64",
         "type": "float"
        },
        {
         "name": "29.0",
         "rawType": "float64",
         "type": "float"
        },
        {
         "name": "30.0",
         "rawType": "float64",
         "type": "float"
        },
        {
         "name": "32.0",
         "rawType": "float64",
         "type": "float"
        },
        {
         "name": "33.0",
         "rawType": "float64",
         "type": "float"
        },
        {
         "name": "34.0",
         "rawType": "float64",
         "type": "float"
        },
        {
         "name": "36.0",
         "rawType": "float64",
         "type": "float"
        },
        {
         "name": "39.0",
         "rawType": "float64",
         "type": "float"
        },
        {
         "name": "40.0",
         "rawType": "float64",
         "type": "float"
        },
        {
         "name": "43.0",
         "rawType": "float64",
         "type": "float"
        },
        {
         "name": "48.0",
         "rawType": "float64",
         "type": "float"
        },
        {
         "name": "50.0",
         "rawType": "float64",
         "type": "float"
        },
        {
         "name": "51.0",
         "rawType": "float64",
         "type": "float"
        },
        {
         "name": "53.0",
         "rawType": "float64",
         "type": "float"
        },
        {
         "name": "54.0",
         "rawType": "float64",
         "type": "float"
        },
        {
         "name": "57.0",
         "rawType": "float64",
         "type": "float"
        },
        {
         "name": "58.0",
         "rawType": "float64",
         "type": "float"
        },
        {
         "name": "59.0",
         "rawType": "float64",
         "type": "float"
        },
        {
         "name": "60.0",
         "rawType": "float64",
         "type": "float"
        },
        {
         "name": "62.0",
         "rawType": "float64",
         "type": "float"
        },
        {
         "name": "64.0",
         "rawType": "float64",
         "type": "float"
        },
        {
         "name": "65.0",
         "rawType": "float64",
         "type": "float"
        },
        {
         "name": "68.0",
         "rawType": "float64",
         "type": "float"
        },
        {
         "name": "74.0",
         "rawType": "float64",
         "type": "float"
        },
        {
         "name": "76.0",
         "rawType": "float64",
         "type": "float"
        },
        {
         "name": "77.0",
         "rawType": "float64",
         "type": "float"
        },
        {
         "name": "78.0",
         "rawType": "float64",
         "type": "float"
        },
        {
         "name": "80.0",
         "rawType": "float64",
         "type": "float"
        },
        {
         "name": "81.0",
         "rawType": "float64",
         "type": "float"
        },
        {
         "name": "82.0",
         "rawType": "float64",
         "type": "float"
        },
        {
         "name": "87.0",
         "rawType": "float64",
         "type": "float"
        },
        {
         "name": "89.0",
         "rawType": "float64",
         "type": "float"
        },
        {
         "name": "92.0",
         "rawType": "float64",
         "type": "float"
        },
        {
         "name": "96.0",
         "rawType": "float64",
         "type": "float"
        },
        {
         "name": "98.0",
         "rawType": "float64",
         "type": "float"
        },
        {
         "name": "100.0",
         "rawType": "float64",
         "type": "float"
        },
        {
         "name": "101.0",
         "rawType": "float64",
         "type": "float"
        },
        {
         "name": "102.0",
         "rawType": "float64",
         "type": "float"
        },
        {
         "name": "103.0",
         "rawType": "float64",
         "type": "float"
        },
        {
         "name": "107.0",
         "rawType": "float64",
         "type": "float"
        },
        {
         "name": "108.0",
         "rawType": "float64",
         "type": "float"
        },
        {
         "name": "109.0",
         "rawType": "float64",
         "type": "float"
        },
        {
         "name": "110.0",
         "rawType": "float64",
         "type": "float"
        },
        {
         "name": "111.0",
         "rawType": "float64",
         "type": "float"
        },
        {
         "name": "112.0",
         "rawType": "float64",
         "type": "float"
        },
        {
         "name": "113.0",
         "rawType": "float64",
         "type": "float"
        },
        {
         "name": "115.0",
         "rawType": "float64",
         "type": "float"
        },
        {
         "name": "116.0",
         "rawType": "float64",
         "type": "float"
        },
        {
         "name": "117.0",
         "rawType": "float64",
         "type": "float"
        },
        {
         "name": "120.0",
         "rawType": "float64",
         "type": "float"
        },
        {
         "name": "122.0",
         "rawType": "float64",
         "type": "float"
        },
        {
         "name": "124.0",
         "rawType": "float64",
         "type": "float"
        },
        {
         "name": "125.0",
         "rawType": "float64",
         "type": "float"
        },
        {
         "name": "130.0",
         "rawType": "float64",
         "type": "float"
        },
        {
         "name": "131.0",
         "rawType": "float64",
         "type": "float"
        },
        {
         "name": "132.0",
         "rawType": "float64",
         "type": "float"
        },
        {
         "name": "134.0",
         "rawType": "float64",
         "type": "float"
        },
        {
         "name": "136.0",
         "rawType": "float64",
         "type": "float"
        },
        {
         "name": "138.0",
         "rawType": "float64",
         "type": "float"
        },
        {
         "name": "142.0",
         "rawType": "float64",
         "type": "float"
        },
        {
         "name": "143.0",
         "rawType": "float64",
         "type": "float"
        },
        {
         "name": "145.0",
         "rawType": "float64",
         "type": "float"
        },
        {
         "name": "146.0",
         "rawType": "float64",
         "type": "float"
        },
        {
         "name": "151.0",
         "rawType": "float64",
         "type": "float"
        },
        {
         "name": "152.0",
         "rawType": "float64",
         "type": "float"
        },
        {
         "name": "153.0",
         "rawType": "float64",
         "type": "float"
        },
        {
         "name": "157.0",
         "rawType": "float64",
         "type": "float"
        },
        {
         "name": "158.0",
         "rawType": "float64",
         "type": "float"
        },
        {
         "name": "162.0",
         "rawType": "float64",
         "type": "float"
        },
        {
         "name": "164.0",
         "rawType": "float64",
         "type": "float"
        },
        {
         "name": "173.0",
         "rawType": "float64",
         "type": "float"
        },
        {
         "name": "176.0",
         "rawType": "float64",
         "type": "float"
        },
        {
         "name": "181.0",
         "rawType": "float64",
         "type": "float"
        },
        {
         "name": "183.0",
         "rawType": "float64",
         "type": "float"
        },
        {
         "name": "184.0",
         "rawType": "float64",
         "type": "float"
        },
        {
         "name": "188.0",
         "rawType": "float64",
         "type": "float"
        },
        {
         "name": "189.0",
         "rawType": "float64",
         "type": "float"
        },
        {
         "name": "191.0",
         "rawType": "float64",
         "type": "float"
        },
        {
         "name": "193.0",
         "rawType": "float64",
         "type": "float"
        },
        {
         "name": "194.0",
         "rawType": "float64",
         "type": "float"
        },
        {
         "name": "195.0",
         "rawType": "float64",
         "type": "float"
        },
        {
         "name": "202.0",
         "rawType": "float64",
         "type": "float"
        },
        {
         "name": "205.0",
         "rawType": "float64",
         "type": "float"
        },
        {
         "name": "210.0",
         "rawType": "float64",
         "type": "float"
        },
        {
         "name": "213.0",
         "rawType": "float64",
         "type": "float"
        },
        {
         "name": "215.0",
         "rawType": "float64",
         "type": "float"
        },
        {
         "name": "221.0",
         "rawType": "float64",
         "type": "float"
        },
        {
         "name": "223.0",
         "rawType": "float64",
         "type": "float"
        },
        {
         "name": "224.0",
         "rawType": "float64",
         "type": "float"
        },
        {
         "name": "225.0",
         "rawType": "float64",
         "type": "float"
        },
        {
         "name": "230.0",
         "rawType": "float64",
         "type": "float"
        },
        {
         "name": "232.0",
         "rawType": "float64",
         "type": "float"
        },
        {
         "name": "233.0",
         "rawType": "float64",
         "type": "float"
        },
        {
         "name": "234.0",
         "rawType": "float64",
         "type": "float"
        },
        {
         "name": "236.0",
         "rawType": "float64",
         "type": "float"
        },
        {
         "name": "237.0",
         "rawType": "float64",
         "type": "float"
        },
        {
         "name": "239.0",
         "rawType": "float64",
         "type": "float"
        },
        {
         "name": "240.0",
         "rawType": "float64",
         "type": "float"
        },
        {
         "name": "241.0",
         "rawType": "float64",
         "type": "float"
        },
        {
         "name": "244.0",
         "rawType": "float64",
         "type": "float"
        },
        {
         "name": "250.0",
         "rawType": "float64",
         "type": "float"
        },
        {
         "name": "251.0",
         "rawType": "float64",
         "type": "float"
        },
        {
         "name": "252.0",
         "rawType": "float64",
         "type": "float"
        },
        {
         "name": "253.0",
         "rawType": "float64",
         "type": "float"
        },
        {
         "name": "254.0",
         "rawType": "float64",
         "type": "float"
        },
        {
         "name": "256.0",
         "rawType": "float64",
         "type": "float"
        },
        {
         "name": "258.0",
         "rawType": "float64",
         "type": "float"
        },
        {
         "name": "260.0",
         "rawType": "float64",
         "type": "float"
        },
        {
         "name": "263.0",
         "rawType": "float64",
         "type": "float"
        },
        {
         "name": "266.0",
         "rawType": "float64",
         "type": "float"
        },
        {
         "name": "268.0",
         "rawType": "float64",
         "type": "float"
        },
        {
         "name": "270.0",
         "rawType": "float64",
         "type": "float"
        },
        {
         "name": "273.0",
         "rawType": "float64",
         "type": "float"
        },
        {
         "name": "277.0",
         "rawType": "float64",
         "type": "float"
        },
        {
         "name": "278.0",
         "rawType": "float64",
         "type": "float"
        },
        {
         "name": "283.0",
         "rawType": "float64",
         "type": "float"
        },
        {
         "name": "284.0",
         "rawType": "float64",
         "type": "float"
        },
        {
         "name": "288.0",
         "rawType": "float64",
         "type": "float"
        },
        {
         "name": "291.0",
         "rawType": "float64",
         "type": "float"
        },
        {
         "name": "295.0",
         "rawType": "float64",
         "type": "float"
        },
        {
         "name": "297.0",
         "rawType": "float64",
         "type": "float"
        },
        {
         "name": "298.0",
         "rawType": "float64",
         "type": "float"
        },
        {
         "name": "299.0",
         "rawType": "float64",
         "type": "float"
        },
        {
         "name": "302.0",
         "rawType": "float64",
         "type": "float"
        },
        {
         "name": "303.0",
         "rawType": "float64",
         "type": "float"
        },
        {
         "name": "310.0",
         "rawType": "float64",
         "type": "float"
        },
        {
         "name": "311.0",
         "rawType": "float64",
         "type": "float"
        },
        {
         "name": "313.0",
         "rawType": "float64",
         "type": "float"
        },
        {
         "name": "314.0",
         "rawType": "float64",
         "type": "float"
        },
        {
         "name": "315.0",
         "rawType": "float64",
         "type": "float"
        },
        {
         "name": "316.0",
         "rawType": "float64",
         "type": "float"
        },
        {
         "name": "319.0",
         "rawType": "float64",
         "type": "float"
        },
        {
         "name": "323.0",
         "rawType": "float64",
         "type": "float"
        },
        {
         "name": "324.0",
         "rawType": "float64",
         "type": "float"
        },
        {
         "name": "329.0",
         "rawType": "float64",
         "type": "float"
        },
        {
         "name": "330.0",
         "rawType": "float64",
         "type": "float"
        },
        {
         "name": "336.0",
         "rawType": "float64",
         "type": "float"
        },
        {
         "name": "337.0",
         "rawType": "float64",
         "type": "float"
        },
        {
         "name": "339.0",
         "rawType": "float64",
         "type": "float"
        },
        {
         "name": "346.0",
         "rawType": "float64",
         "type": "float"
        },
        {
         "name": "347.0",
         "rawType": "float64",
         "type": "float"
        },
        {
         "name": "348.0",
         "rawType": "float64",
         "type": "float"
        },
        {
         "name": "349.0",
         "rawType": "float64",
         "type": "float"
        },
        {
         "name": "350.0",
         "rawType": "float64",
         "type": "float"
        },
        {
         "name": "351.0",
         "rawType": "float64",
         "type": "float"
        },
        {
         "name": "352.0",
         "rawType": "float64",
         "type": "float"
        },
        {
         "name": "353.0",
         "rawType": "float64",
         "type": "float"
        },
        {
         "name": "355.0",
         "rawType": "float64",
         "type": "float"
        },
        {
         "name": "356.0",
         "rawType": "float64",
         "type": "float"
        },
        {
         "name": "359.0",
         "rawType": "float64",
         "type": "float"
        },
        {
         "name": "362.0",
         "rawType": "float64",
         "type": "float"
        },
        {
         "name": "363.0",
         "rawType": "float64",
         "type": "float"
        },
        {
         "name": "364.0",
         "rawType": "float64",
         "type": "float"
        },
        {
         "name": "366.0",
         "rawType": "float64",
         "type": "float"
        },
        {
         "name": "367.0",
         "rawType": "float64",
         "type": "float"
        },
        {
         "name": "369.0",
         "rawType": "float64",
         "type": "float"
        },
        {
         "name": "373.0",
         "rawType": "float64",
         "type": "float"
        },
        {
         "name": "375.0",
         "rawType": "float64",
         "type": "float"
        },
        {
         "name": "376.0",
         "rawType": "float64",
         "type": "float"
        },
        {
         "name": "379.0",
         "rawType": "float64",
         "type": "float"
        },
        {
         "name": "381.0",
         "rawType": "float64",
         "type": "float"
        },
        {
         "name": "382.0",
         "rawType": "float64",
         "type": "float"
        },
        {
         "name": "383.0",
         "rawType": "float64",
         "type": "float"
        },
        {
         "name": "384.0",
         "rawType": "float64",
         "type": "float"
        },
        {
         "name": "389.0",
         "rawType": "float64",
         "type": "float"
        },
        {
         "name": "390.0",
         "rawType": "float64",
         "type": "float"
        },
        {
         "name": "395.0",
         "rawType": "float64",
         "type": "float"
        },
        {
         "name": "398.0",
         "rawType": "float64",
         "type": "float"
        },
        {
         "name": "399.0",
         "rawType": "float64",
         "type": "float"
        },
        {
         "name": "400.0",
         "rawType": "float64",
         "type": "float"
        },
        {
         "name": "404.0",
         "rawType": "float64",
         "type": "float"
        },
        {
         "name": "409.0",
         "rawType": "float64",
         "type": "float"
        },
        {
         "name": "411.0",
         "rawType": "float64",
         "type": "float"
        },
        {
         "name": "412.0",
         "rawType": "float64",
         "type": "float"
        },
        {
         "name": "415.0",
         "rawType": "float64",
         "type": "float"
        },
        {
         "name": "416.0",
         "rawType": "float64",
         "type": "float"
        },
        {
         "name": "417.0",
         "rawType": "float64",
         "type": "float"
        },
        {
         "name": "420.0",
         "rawType": "float64",
         "type": "float"
        },
        {
         "name": "422.0",
         "rawType": "float64",
         "type": "float"
        },
        {
         "name": "426.0",
         "rawType": "float64",
         "type": "float"
        },
        {
         "name": "427.0",
         "rawType": "float64",
         "type": "float"
        },
        {
         "name": "428.0",
         "rawType": "float64",
         "type": "float"
        },
        {
         "name": "429.0",
         "rawType": "float64",
         "type": "float"
        },
        {
         "name": "430.0",
         "rawType": "float64",
         "type": "float"
        },
        {
         "name": "437.0",
         "rawType": "float64",
         "type": "float"
        },
        {
         "name": "440.0",
         "rawType": "float64",
         "type": "float"
        },
        {
         "name": "443.0",
         "rawType": "float64",
         "type": "float"
        },
        {
         "name": "444.0",
         "rawType": "float64",
         "type": "float"
        },
        {
         "name": "446.0",
         "rawType": "float64",
         "type": "float"
        },
        {
         "name": "448.0",
         "rawType": "float64",
         "type": "float"
        },
        {
         "name": "455.0",
         "rawType": "float64",
         "type": "float"
        },
        {
         "name": "460.0",
         "rawType": "float64",
         "type": "float"
        },
        {
         "name": "462.0",
         "rawType": "float64",
         "type": "float"
        },
        {
         "name": "463.0",
         "rawType": "float64",
         "type": "float"
        },
        {
         "name": "464.0",
         "rawType": "float64",
         "type": "float"
        },
        {
         "name": "465.0",
         "rawType": "float64",
         "type": "float"
        },
        {
         "name": "468.0",
         "rawType": "float64",
         "type": "float"
        },
        {
         "name": "470.0",
         "rawType": "float64",
         "type": "float"
        },
        {
         "name": "473.0",
         "rawType": "float64",
         "type": "float"
        },
        {
         "name": "474.0",
         "rawType": "float64",
         "type": "float"
        },
        {
         "name": "475.0",
         "rawType": "float64",
         "type": "float"
        },
        {
         "name": "477.0",
         "rawType": "float64",
         "type": "float"
        },
        {
         "name": "479.0",
         "rawType": "float64",
         "type": "float"
        },
        {
         "name": "480.0",
         "rawType": "float64",
         "type": "float"
        },
        {
         "name": "482.0",
         "rawType": "float64",
         "type": "float"
        },
        {
         "name": "485.0",
         "rawType": "float64",
         "type": "float"
        },
        {
         "name": "486.0",
         "rawType": "float64",
         "type": "float"
        },
        {
         "name": "491.0",
         "rawType": "float64",
         "type": "float"
        },
        {
         "name": "492.0",
         "rawType": "float64",
         "type": "float"
        },
        {
         "name": "494.0",
         "rawType": "float64",
         "type": "float"
        },
        {
         "name": "495.0",
         "rawType": "float64",
         "type": "float"
        },
        {
         "name": "499.0",
         "rawType": "float64",
         "type": "float"
        },
        {
         "name": "500.0",
         "rawType": "float64",
         "type": "float"
        },
        {
         "name": "502.0",
         "rawType": "float64",
         "type": "float"
        },
        {
         "name": "504.0",
         "rawType": "float64",
         "type": "float"
        },
        {
         "name": "508.0",
         "rawType": "float64",
         "type": "float"
        },
        {
         "name": "510.0",
         "rawType": "float64",
         "type": "float"
        },
        {
         "name": "515.0",
         "rawType": "float64",
         "type": "float"
        },
        {
         "name": "517.0",
         "rawType": "float64",
         "type": "float"
        },
        {
         "name": "521.0",
         "rawType": "float64",
         "type": "float"
        },
        {
         "name": "522.0",
         "rawType": "float64",
         "type": "float"
        },
        {
         "name": "524.0",
         "rawType": "float64",
         "type": "float"
        },
        {
         "name": "525.0",
         "rawType": "float64",
         "type": "float"
        },
        {
         "name": "528.0",
         "rawType": "float64",
         "type": "float"
        },
        {
         "name": "532.0",
         "rawType": "float64",
         "type": "float"
        },
        {
         "name": "534.0",
         "rawType": "float64",
         "type": "float"
        },
        {
         "name": "542.0",
         "rawType": "float64",
         "type": "float"
        },
        {
         "name": "544.0",
         "rawType": "float64",
         "type": "float"
        },
        {
         "name": "547.0",
         "rawType": "float64",
         "type": "float"
        },
        {
         "name": "553.0",
         "rawType": "float64",
         "type": "float"
        },
        {
         "name": "555.0",
         "rawType": "float64",
         "type": "float"
        },
        {
         "name": "557.0",
         "rawType": "float64",
         "type": "float"
        },
        {
         "name": "559.0",
         "rawType": "float64",
         "type": "float"
        },
        {
         "name": "563.0",
         "rawType": "float64",
         "type": "float"
        },
        {
         "name": "564.0",
         "rawType": "float64",
         "type": "float"
        },
        {
         "name": "566.0",
         "rawType": "float64",
         "type": "float"
        },
        {
         "name": "567.0",
         "rawType": "float64",
         "type": "float"
        },
        {
         "name": "569.0",
         "rawType": "float64",
         "type": "float"
        },
        {
         "name": "575.0",
         "rawType": "float64",
         "type": "float"
        },
        {
         "name": "583.0",
         "rawType": "float64",
         "type": "float"
        },
        {
         "name": "585.0",
         "rawType": "float64",
         "type": "float"
        },
        {
         "name": "586.0",
         "rawType": "float64",
         "type": "float"
        },
        {
         "name": "588.0",
         "rawType": "float64",
         "type": "float"
        },
        {
         "name": "593.0",
         "rawType": "float64",
         "type": "float"
        },
        {
         "name": "599.0",
         "rawType": "float64",
         "type": "float"
        },
        {
         "name": "600.0",
         "rawType": "float64",
         "type": "float"
        },
        {
         "name": "606.0",
         "rawType": "float64",
         "type": "float"
        },
        {
         "name": "607.0",
         "rawType": "float64",
         "type": "float"
        },
        {
         "name": "609.0",
         "rawType": "float64",
         "type": "float"
        },
        {
         "name": "610.0",
         "rawType": "float64",
         "type": "float"
        },
        {
         "name": "616.0",
         "rawType": "float64",
         "type": "float"
        },
        {
         "name": "617.0",
         "rawType": "float64",
         "type": "float"
        },
        {
         "name": "618.0",
         "rawType": "float64",
         "type": "float"
        },
        {
         "name": "622.0",
         "rawType": "float64",
         "type": "float"
        },
        {
         "name": "626.0",
         "rawType": "float64",
         "type": "float"
        },
        {
         "name": "631.0",
         "rawType": "float64",
         "type": "float"
        },
        {
         "name": "632.0",
         "rawType": "float64",
         "type": "float"
        },
        {
         "name": "634.0",
         "rawType": "float64",
         "type": "float"
        },
        {
         "name": "636.0",
         "rawType": "float64",
         "type": "float"
        },
        {
         "name": "641.0",
         "rawType": "float64",
         "type": "float"
        },
        {
         "name": "644.0",
         "rawType": "float64",
         "type": "float"
        },
        {
         "name": "645.0",
         "rawType": "float64",
         "type": "float"
        },
        {
         "name": "647.0",
         "rawType": "float64",
         "type": "float"
        },
        {
         "name": "651.0",
         "rawType": "float64",
         "type": "float"
        },
        {
         "name": "653.0",
         "rawType": "float64",
         "type": "float"
        },
        {
         "name": "655.0",
         "rawType": "float64",
         "type": "float"
        },
        {
         "name": "656.0",
         "rawType": "float64",
         "type": "float"
        },
        {
         "name": "658.0",
         "rawType": "float64",
         "type": "float"
        },
        {
         "name": "659.0",
         "rawType": "float64",
         "type": "float"
        },
        {
         "name": "662.0",
         "rawType": "float64",
         "type": "float"
        },
        {
         "name": "665.0",
         "rawType": "float64",
         "type": "float"
        },
        {
         "name": "667.0",
         "rawType": "float64",
         "type": "float"
        },
        {
         "name": "668.0",
         "rawType": "float64",
         "type": "float"
        },
        {
         "name": "669.0",
         "rawType": "float64",
         "type": "float"
        },
        {
         "name": "670.0",
         "rawType": "float64",
         "type": "float"
        },
        {
         "name": "673.0",
         "rawType": "float64",
         "type": "float"
        },
        {
         "name": "675.0",
         "rawType": "float64",
         "type": "float"
        },
        {
         "name": "677.0",
         "rawType": "float64",
         "type": "float"
        },
        {
         "name": "678.0",
         "rawType": "float64",
         "type": "float"
        },
        {
         "name": "679.0",
         "rawType": "float64",
         "type": "float"
        },
        {
         "name": "680.0",
         "rawType": "float64",
         "type": "float"
        },
        {
         "name": "681.0",
         "rawType": "float64",
         "type": "float"
        },
        {
         "name": "682.0",
         "rawType": "float64",
         "type": "float"
        },
        {
         "name": "684.0",
         "rawType": "float64",
         "type": "float"
        },
        {
         "name": "686.0",
         "rawType": "float64",
         "type": "float"
        },
        {
         "name": "692.0",
         "rawType": "float64",
         "type": "float"
        },
        {
         "name": "693.0",
         "rawType": "float64",
         "type": "float"
        },
        {
         "name": "695.0",
         "rawType": "float64",
         "type": "float"
        },
        {
         "name": "701.0",
         "rawType": "float64",
         "type": "float"
        },
        {
         "name": "705.0",
         "rawType": "float64",
         "type": "float"
        },
        {
         "name": "708.0",
         "rawType": "float64",
         "type": "float"
        },
        {
         "name": "714.0",
         "rawType": "float64",
         "type": "float"
        },
        {
         "name": "715.0",
         "rawType": "float64",
         "type": "float"
        },
        {
         "name": "720.0",
         "rawType": "float64",
         "type": "float"
        },
        {
         "name": "721.0",
         "rawType": "float64",
         "type": "float"
        },
        {
         "name": "722.0",
         "rawType": "float64",
         "type": "float"
        },
        {
         "name": "723.0",
         "rawType": "float64",
         "type": "float"
        },
        {
         "name": "724.0",
         "rawType": "float64",
         "type": "float"
        },
        {
         "name": "725.0",
         "rawType": "float64",
         "type": "float"
        },
        {
         "name": "727.0",
         "rawType": "float64",
         "type": "float"
        },
        {
         "name": "729.0",
         "rawType": "float64",
         "type": "float"
        },
        {
         "name": "730.0",
         "rawType": "float64",
         "type": "float"
        },
        {
         "name": "732.0",
         "rawType": "float64",
         "type": "float"
        },
        {
         "name": "735.0",
         "rawType": "float64",
         "type": "float"
        },
        {
         "name": "740.0",
         "rawType": "float64",
         "type": "float"
        },
        {
         "name": "744.0",
         "rawType": "float64",
         "type": "float"
        },
        {
         "name": "749.0",
         "rawType": "float64",
         "type": "float"
        },
        {
         "name": "751.0",
         "rawType": "float64",
         "type": "float"
        },
        {
         "name": "757.0",
         "rawType": "float64",
         "type": "float"
        },
        {
         "name": "758.0",
         "rawType": "float64",
         "type": "float"
        },
        {
         "name": "759.0",
         "rawType": "float64",
         "type": "float"
        },
        {
         "name": "760.0",
         "rawType": "float64",
         "type": "float"
        },
        {
         "name": "761.0",
         "rawType": "float64",
         "type": "float"
        },
        {
         "name": "763.0",
         "rawType": "float64",
         "type": "float"
        },
        {
         "name": "764.0",
         "rawType": "float64",
         "type": "float"
        },
        {
         "name": "766.0",
         "rawType": "float64",
         "type": "float"
        },
        {
         "name": "768.0",
         "rawType": "float64",
         "type": "float"
        },
        {
         "name": "778.0",
         "rawType": "float64",
         "type": "float"
        },
        {
         "name": "781.0",
         "rawType": "float64",
         "type": "float"
        },
        {
         "name": "782.0",
         "rawType": "float64",
         "type": "float"
        },
        {
         "name": "784.0",
         "rawType": "float64",
         "type": "float"
        },
        {
         "name": "785.0",
         "rawType": "float64",
         "type": "float"
        },
        {
         "name": "788.0",
         "rawType": "float64",
         "type": "float"
        },
        {
         "name": "793.0",
         "rawType": "float64",
         "type": "float"
        },
        {
         "name": "795.0",
         "rawType": "float64",
         "type": "float"
        },
        {
         "name": "800.0",
         "rawType": "float64",
         "type": "float"
        },
        {
         "name": "805.0",
         "rawType": "float64",
         "type": "float"
        },
        {
         "name": "809.0",
         "rawType": "float64",
         "type": "float"
        },
        {
         "name": "812.0",
         "rawType": "float64",
         "type": "float"
        },
        {
         "name": "813.0",
         "rawType": "float64",
         "type": "float"
        },
        {
         "name": "821.0",
         "rawType": "float64",
         "type": "float"
        },
        {
         "name": "825.0",
         "rawType": "float64",
         "type": "float"
        },
        {
         "name": "833.0",
         "rawType": "float64",
         "type": "float"
        },
        {
         "name": "843.0",
         "rawType": "float64",
         "type": "float"
        },
        {
         "name": "844.0",
         "rawType": "float64",
         "type": "float"
        },
        {
         "name": "846.0",
         "rawType": "float64",
         "type": "float"
        },
        {
         "name": "853.0",
         "rawType": "float64",
         "type": "float"
        },
        {
         "name": "855.0",
         "rawType": "float64",
         "type": "float"
        },
        {
         "name": "857.0",
         "rawType": "float64",
         "type": "float"
        },
        {
         "name": "858.0",
         "rawType": "float64",
         "type": "float"
        },
        {
         "name": "861.0",
         "rawType": "float64",
         "type": "float"
        },
        {
         "name": "862.0",
         "rawType": "float64",
         "type": "float"
        },
        {
         "name": "864.0",
         "rawType": "float64",
         "type": "float"
        },
        {
         "name": "865.0",
         "rawType": "float64",
         "type": "float"
        },
        {
         "name": "868.0",
         "rawType": "float64",
         "type": "float"
        },
        {
         "name": "870.0",
         "rawType": "float64",
         "type": "float"
        },
        {
         "name": "871.0",
         "rawType": "float64",
         "type": "float"
        },
        {
         "name": "876.0",
         "rawType": "float64",
         "type": "float"
        },
        {
         "name": "878.0",
         "rawType": "float64",
         "type": "float"
        },
        {
         "name": "880.0",
         "rawType": "float64",
         "type": "float"
        },
        {
         "name": "881.0",
         "rawType": "float64",
         "type": "float"
        },
        {
         "name": "882.0",
         "rawType": "float64",
         "type": "float"
        },
        {
         "name": "884.0",
         "rawType": "float64",
         "type": "float"
        },
        {
         "name": "887.0",
         "rawType": "float64",
         "type": "float"
        },
        {
         "name": "891.0",
         "rawType": "float64",
         "type": "float"
        },
        {
         "name": "892.0",
         "rawType": "float64",
         "type": "float"
        },
        {
         "name": "896.0",
         "rawType": "float64",
         "type": "float"
        },
        {
         "name": "898.0",
         "rawType": "float64",
         "type": "float"
        },
        {
         "name": "903.0",
         "rawType": "float64",
         "type": "float"
        },
        {
         "name": "905.0",
         "rawType": "float64",
         "type": "float"
        },
        {
         "name": "906.0",
         "rawType": "float64",
         "type": "float"
        },
        {
         "name": "910.0",
         "rawType": "float64",
         "type": "float"
        },
        {
         "name": "911.0",
         "rawType": "float64",
         "type": "float"
        },
        {
         "name": "919.0",
         "rawType": "float64",
         "type": "float"
        },
        {
         "name": "926.0",
         "rawType": "float64",
         "type": "float"
        },
        {
         "name": "928.0",
         "rawType": "float64",
         "type": "float"
        },
        {
         "name": "930.0",
         "rawType": "float64",
         "type": "float"
        },
        {
         "name": "932.0",
         "rawType": "float64",
         "type": "float"
        },
        {
         "name": "933.0",
         "rawType": "float64",
         "type": "float"
        },
        {
         "name": "935.0",
         "rawType": "float64",
         "type": "float"
        },
        {
         "name": "936.0",
         "rawType": "float64",
         "type": "float"
        },
        {
         "name": "939.0",
         "rawType": "float64",
         "type": "float"
        },
        {
         "name": "940.0",
         "rawType": "float64",
         "type": "float"
        },
        {
         "name": "941.0",
         "rawType": "float64",
         "type": "float"
        },
        {
         "name": "943.0",
         "rawType": "float64",
         "type": "float"
        },
        {
         "name": "947.0",
         "rawType": "float64",
         "type": "float"
        },
        {
         "name": "948.0",
         "rawType": "float64",
         "type": "float"
        },
        {
         "name": "949.0",
         "rawType": "float64",
         "type": "float"
        },
        {
         "name": "951.0",
         "rawType": "float64",
         "type": "float"
        },
        {
         "name": "952.0",
         "rawType": "float64",
         "type": "float"
        },
        {
         "name": "955.0",
         "rawType": "float64",
         "type": "float"
        },
        {
         "name": "957.0",
         "rawType": "float64",
         "type": "float"
        },
        {
         "name": "958.0",
         "rawType": "float64",
         "type": "float"
        },
        {
         "name": "959.0",
         "rawType": "float64",
         "type": "float"
        },
        {
         "name": "961.0",
         "rawType": "float64",
         "type": "float"
        },
        {
         "name": "962.0",
         "rawType": "float64",
         "type": "float"
        },
        {
         "name": "965.0",
         "rawType": "float64",
         "type": "float"
        },
        {
         "name": "967.0",
         "rawType": "float64",
         "type": "float"
        },
        {
         "name": "968.0",
         "rawType": "float64",
         "type": "float"
        },
        {
         "name": "969.0",
         "rawType": "float64",
         "type": "float"
        },
        {
         "name": "972.0",
         "rawType": "float64",
         "type": "float"
        },
        {
         "name": "973.0",
         "rawType": "float64",
         "type": "float"
        },
        {
         "name": "974.0",
         "rawType": "float64",
         "type": "float"
        },
        {
         "name": "975.0",
         "rawType": "float64",
         "type": "float"
        },
        {
         "name": "977.0",
         "rawType": "float64",
         "type": "float"
        },
        {
         "name": "981.0",
         "rawType": "float64",
         "type": "float"
        },
        {
         "name": "984.0",
         "rawType": "float64",
         "type": "float"
        },
        {
         "name": "985.0",
         "rawType": "float64",
         "type": "float"
        },
        {
         "name": "986.0",
         "rawType": "float64",
         "type": "float"
        },
        {
         "name": "990.0",
         "rawType": "float64",
         "type": "float"
        },
        {
         "name": "993.0",
         "rawType": "float64",
         "type": "float"
        },
        {
         "name": "996.0",
         "rawType": "float64",
         "type": "float"
        },
        {
         "name": "997.0",
         "rawType": "float64",
         "type": "float"
        },
        {
         "name": "1000.0",
         "rawType": "float64",
         "type": "float"
        },
        {
         "name": "1004.0",
         "rawType": "float64",
         "type": "float"
        },
        {
         "name": "1006.0",
         "rawType": "float64",
         "type": "float"
        },
        {
         "name": "1008.0",
         "rawType": "float64",
         "type": "float"
        },
        {
         "name": "1014.0",
         "rawType": "float64",
         "type": "float"
        },
        {
         "name": "1015.0",
         "rawType": "float64",
         "type": "float"
        },
        {
         "name": "1016.0",
         "rawType": "float64",
         "type": "float"
        },
        {
         "name": "1017.0",
         "rawType": "float64",
         "type": "float"
        },
        {
         "name": "1018.0",
         "rawType": "float64",
         "type": "float"
        },
        {
         "name": "1024.0",
         "rawType": "float64",
         "type": "float"
        },
        {
         "name": "1025.0",
         "rawType": "float64",
         "type": "float"
        },
        {
         "name": "1028.0",
         "rawType": "float64",
         "type": "float"
        },
        {
         "name": "1030.0",
         "rawType": "float64",
         "type": "float"
        },
        {
         "name": "1035.0",
         "rawType": "float64",
         "type": "float"
        },
        {
         "name": "1038.0",
         "rawType": "float64",
         "type": "float"
        },
        {
         "name": "1042.0",
         "rawType": "float64",
         "type": "float"
        },
        {
         "name": "1043.0",
         "rawType": "float64",
         "type": "float"
        },
        {
         "name": "1044.0",
         "rawType": "float64",
         "type": "float"
        },
        {
         "name": "1047.0",
         "rawType": "float64",
         "type": "float"
        },
        {
         "name": "1048.0",
         "rawType": "float64",
         "type": "float"
        },
        {
         "name": "1050.0",
         "rawType": "float64",
         "type": "float"
        },
        {
         "name": "1051.0",
         "rawType": "float64",
         "type": "float"
        },
        {
         "name": "1052.0",
         "rawType": "float64",
         "type": "float"
        },
        {
         "name": "1053.0",
         "rawType": "float64",
         "type": "float"
        },
        {
         "name": "1054.0",
         "rawType": "float64",
         "type": "float"
        },
        {
         "name": "1055.0",
         "rawType": "float64",
         "type": "float"
        },
        {
         "name": "1056.0",
         "rawType": "float64",
         "type": "float"
        },
        {
         "name": "1057.0",
         "rawType": "float64",
         "type": "float"
        },
        {
         "name": "1058.0",
         "rawType": "float64",
         "type": "float"
        },
        {
         "name": "1059.0",
         "rawType": "float64",
         "type": "float"
        },
        {
         "name": "1060.0",
         "rawType": "float64",
         "type": "float"
        },
        {
         "name": "1061.0",
         "rawType": "float64",
         "type": "float"
        },
        {
         "name": "1062.0",
         "rawType": "float64",
         "type": "float"
        },
        {
         "name": "1063.0",
         "rawType": "float64",
         "type": "float"
        },
        {
         "name": "1064.0",
         "rawType": "float64",
         "type": "float"
        },
        {
         "name": "1065.0",
         "rawType": "float64",
         "type": "float"
        },
        {
         "name": "1066.0",
         "rawType": "float64",
         "type": "float"
        },
        {
         "name": "1067.0",
         "rawType": "float64",
         "type": "float"
        },
        {
         "name": "1068.0",
         "rawType": "float64",
         "type": "float"
        },
        {
         "name": "1069.0",
         "rawType": "float64",
         "type": "float"
        },
        {
         "name": "1070.0",
         "rawType": "float64",
         "type": "float"
        },
        {
         "name": "1071.0",
         "rawType": "float64",
         "type": "float"
        },
        {
         "name": "1072.0",
         "rawType": "float64",
         "type": "float"
        },
        {
         "name": "1073.0",
         "rawType": "float64",
         "type": "float"
        },
        {
         "name": "1074.0",
         "rawType": "float64",
         "type": "float"
        },
        {
         "name": "1075.0",
         "rawType": "float64",
         "type": "float"
        },
        {
         "name": "1077.0",
         "rawType": "float64",
         "type": "float"
        },
        {
         "name": "1078.0",
         "rawType": "float64",
         "type": "float"
        },
        {
         "name": "1079.0",
         "rawType": "float64",
         "type": "float"
        },
        {
         "name": "1080.0",
         "rawType": "float64",
         "type": "float"
        },
        {
         "name": "1083.0",
         "rawType": "float64",
         "type": "float"
        },
        {
         "name": "1084.0",
         "rawType": "float64",
         "type": "float"
        },
        {
         "name": "1085.0",
         "rawType": "float64",
         "type": "float"
        },
        {
         "name": "1086.0",
         "rawType": "float64",
         "type": "float"
        },
        {
         "name": "1089.0",
         "rawType": "float64",
         "type": "float"
        },
        {
         "name": "1091.0",
         "rawType": "float64",
         "type": "float"
        },
        {
         "name": "1092.0",
         "rawType": "float64",
         "type": "float"
        },
        {
         "name": "1097.0",
         "rawType": "float64",
         "type": "float"
        },
        {
         "name": "1101.0",
         "rawType": "float64",
         "type": "float"
        },
        {
         "name": "1106.0",
         "rawType": "float64",
         "type": "float"
        },
        {
         "name": "1108.0",
         "rawType": "float64",
         "type": "float"
        },
        {
         "name": "1112.0",
         "rawType": "float64",
         "type": "float"
        },
        {
         "name": "1113.0",
         "rawType": "float64",
         "type": "float"
        },
        {
         "name": "1114.0",
         "rawType": "float64",
         "type": "float"
        },
        {
         "name": "1116.0",
         "rawType": "float64",
         "type": "float"
        },
        {
         "name": "1119.0",
         "rawType": "float64",
         "type": "float"
        },
        {
         "name": "1120.0",
         "rawType": "float64",
         "type": "float"
        },
        {
         "name": "1121.0",
         "rawType": "float64",
         "type": "float"
        },
        {
         "name": "1122.0",
         "rawType": "float64",
         "type": "float"
        },
        {
         "name": "1123.0",
         "rawType": "float64",
         "type": "float"
        },
        {
         "name": "1124.0",
         "rawType": "float64",
         "type": "float"
        },
        {
         "name": "1125.0",
         "rawType": "float64",
         "type": "float"
        },
        {
         "name": "1127.0",
         "rawType": "float64",
         "type": "float"
        },
        {
         "name": "1128.0",
         "rawType": "float64",
         "type": "float"
        },
        {
         "name": "1130.0",
         "rawType": "float64",
         "type": "float"
        },
        {
         "name": "1134.0",
         "rawType": "float64",
         "type": "float"
        },
        {
         "name": "1135.0",
         "rawType": "float64",
         "type": "float"
        },
        {
         "name": "1137.0",
         "rawType": "float64",
         "type": "float"
        },
        {
         "name": "1138.0",
         "rawType": "float64",
         "type": "float"
        },
        {
         "name": "1139.0",
         "rawType": "float64",
         "type": "float"
        },
        {
         "name": "1140.0",
         "rawType": "float64",
         "type": "float"
        },
        {
         "name": "1141.0",
         "rawType": "float64",
         "type": "float"
        },
        {
         "name": "1142.0",
         "rawType": "float64",
         "type": "float"
        },
        {
         "name": "1143.0",
         "rawType": "float64",
         "type": "float"
        },
        {
         "name": "1144.0",
         "rawType": "float64",
         "type": "float"
        },
        {
         "name": "1145.0",
         "rawType": "float64",
         "type": "float"
        },
        {
         "name": "1146.0",
         "rawType": "float64",
         "type": "float"
        },
        {
         "name": "1147.0",
         "rawType": "float64",
         "type": "float"
        },
        {
         "name": "1148.0",
         "rawType": "float64",
         "type": "float"
        },
        {
         "name": "1149.0",
         "rawType": "float64",
         "type": "float"
        },
        {
         "name": "1150.0",
         "rawType": "float64",
         "type": "float"
        },
        {
         "name": "1151.0",
         "rawType": "float64",
         "type": "float"
        },
        {
         "name": "1152.0",
         "rawType": "float64",
         "type": "float"
        },
        {
         "name": "1153.0",
         "rawType": "float64",
         "type": "float"
        },
        {
         "name": "1154.0",
         "rawType": "float64",
         "type": "float"
        },
        {
         "name": "1155.0",
         "rawType": "float64",
         "type": "float"
        },
        {
         "name": "1156.0",
         "rawType": "float64",
         "type": "float"
        },
        {
         "name": "1157.0",
         "rawType": "float64",
         "type": "float"
        },
        {
         "name": "1158.0",
         "rawType": "float64",
         "type": "float"
        },
        {
         "name": "1159.0",
         "rawType": "float64",
         "type": "float"
        },
        {
         "name": "1160.0",
         "rawType": "float64",
         "type": "float"
        },
        {
         "name": "1161.0",
         "rawType": "float64",
         "type": "float"
        },
        {
         "name": "1162.0",
         "rawType": "float64",
         "type": "float"
        },
        {
         "name": "1163.0",
         "rawType": "float64",
         "type": "float"
        },
        {
         "name": "1164.0",
         "rawType": "float64",
         "type": "float"
        },
        {
         "name": "1165.0",
         "rawType": "float64",
         "type": "float"
        },
        {
         "name": "1166.0",
         "rawType": "float64",
         "type": "float"
        },
        {
         "name": "1167.0",
         "rawType": "float64",
         "type": "float"
        },
        {
         "name": "1168.0",
         "rawType": "float64",
         "type": "float"
        },
        {
         "name": "1169.0",
         "rawType": "float64",
         "type": "float"
        },
        {
         "name": "1170.0",
         "rawType": "float64",
         "type": "float"
        },
        {
         "name": "1171.0",
         "rawType": "float64",
         "type": "float"
        },
        {
         "name": "1172.0",
         "rawType": "float64",
         "type": "float"
        },
        {
         "name": "1173.0",
         "rawType": "float64",
         "type": "float"
        },
        {
         "name": "1174.0",
         "rawType": "float64",
         "type": "float"
        },
        {
         "name": "1175.0",
         "rawType": "float64",
         "type": "float"
        },
        {
         "name": "1176.0",
         "rawType": "float64",
         "type": "float"
        },
        {
         "name": "1177.0",
         "rawType": "float64",
         "type": "float"
        },
        {
         "name": "1178.0",
         "rawType": "float64",
         "type": "float"
        },
        {
         "name": "1179.0",
         "rawType": "float64",
         "type": "float"
        },
        {
         "name": "1180.0",
         "rawType": "float64",
         "type": "float"
        },
        {
         "name": "1181.0",
         "rawType": "float64",
         "type": "float"
        },
        {
         "name": "1183.0",
         "rawType": "float64",
         "type": "float"
        },
        {
         "name": "1184.0",
         "rawType": "float64",
         "type": "float"
        },
        {
         "name": "1185.0",
         "rawType": "float64",
         "type": "float"
        },
        {
         "name": "1186.0",
         "rawType": "float64",
         "type": "float"
        },
        {
         "name": "1187.0",
         "rawType": "float64",
         "type": "float"
        },
        {
         "name": "1188.0",
         "rawType": "float64",
         "type": "float"
        },
        {
         "name": "1189.0",
         "rawType": "float64",
         "type": "float"
        },
        {
         "name": "1190.0",
         "rawType": "float64",
         "type": "float"
        },
        {
         "name": "1191.0",
         "rawType": "float64",
         "type": "float"
        },
        {
         "name": "1192.0",
         "rawType": "float64",
         "type": "float"
        },
        {
         "name": "1195.0",
         "rawType": "float64",
         "type": "float"
        },
        {
         "name": "1196.0",
         "rawType": "float64",
         "type": "float"
        },
        {
         "name": "1197.0",
         "rawType": "float64",
         "type": "float"
        },
        {
         "name": "1198.0",
         "rawType": "float64",
         "type": "float"
        },
        {
         "name": "1199.0",
         "rawType": "float64",
         "type": "float"
        },
        {
         "name": "1200.0",
         "rawType": "float64",
         "type": "float"
        },
        {
         "name": "1202.0",
         "rawType": "float64",
         "type": "float"
        },
        {
         "name": "1203.0",
         "rawType": "float64",
         "type": "float"
        },
        {
         "name": "1206.0",
         "rawType": "float64",
         "type": "float"
        },
        {
         "name": "1208.0",
         "rawType": "float64",
         "type": "float"
        },
        {
         "name": "1210.0",
         "rawType": "float64",
         "type": "float"
        },
        {
         "name": "1219.0",
         "rawType": "float64",
         "type": "float"
        },
        {
         "name": "1221.0",
         "rawType": "float64",
         "type": "float"
        },
        {
         "name": "1225.0",
         "rawType": "float64",
         "type": "float"
        },
        {
         "name": "1226.0",
         "rawType": "float64",
         "type": "float"
        },
        {
         "name": "1227.0",
         "rawType": "float64",
         "type": "float"
        },
        {
         "name": "1228.0",
         "rawType": "float64",
         "type": "float"
        },
        {
         "name": "1230.0",
         "rawType": "float64",
         "type": "float"
        },
        {
         "name": "1232.0",
         "rawType": "float64",
         "type": "float"
        },
        {
         "name": "1233.0",
         "rawType": "float64",
         "type": "float"
        },
        {
         "name": "1234.0",
         "rawType": "float64",
         "type": "float"
        },
        {
         "name": "1235.0",
         "rawType": "float64",
         "type": "float"
        },
        {
         "name": "1237.0",
         "rawType": "float64",
         "type": "float"
        },
        {
         "name": "1244.0",
         "rawType": "float64",
         "type": "float"
        },
        {
         "name": "1247.0",
         "rawType": "float64",
         "type": "float"
        },
        {
         "name": "1251.0",
         "rawType": "float64",
         "type": "float"
        },
        {
         "name": "1252.0",
         "rawType": "float64",
         "type": "float"
        },
        {
         "name": "1253.0",
         "rawType": "float64",
         "type": "float"
        },
        {
         "name": "1254.0",
         "rawType": "float64",
         "type": "float"
        },
        {
         "name": "1257.0",
         "rawType": "float64",
         "type": "float"
        },
        {
         "name": "1260.0",
         "rawType": "float64",
         "type": "float"
        },
        {
         "name": "1261.0",
         "rawType": "float64",
         "type": "float"
        },
        {
         "name": "1263.0",
         "rawType": "float64",
         "type": "float"
        },
        {
         "name": "1266.0",
         "rawType": "float64",
         "type": "float"
        },
        {
         "name": "1267.0",
         "rawType": "float64",
         "type": "float"
        },
        {
         "name": "1271.0",
         "rawType": "float64",
         "type": "float"
        },
        {
         "name": "1273.0",
         "rawType": "float64",
         "type": "float"
        },
        {
         "name": "1274.0",
         "rawType": "float64",
         "type": "float"
        },
        {
         "name": "1276.0",
         "rawType": "float64",
         "type": "float"
        },
        {
         "name": "1277.0",
         "rawType": "float64",
         "type": "float"
        },
        {
         "name": "1278.0",
         "rawType": "float64",
         "type": "float"
        },
        {
         "name": "1279.0",
         "rawType": "float64",
         "type": "float"
        },
        {
         "name": "1280.0",
         "rawType": "float64",
         "type": "float"
        },
        {
         "name": "1281.0",
         "rawType": "float64",
         "type": "float"
        },
        {
         "name": "1282.0",
         "rawType": "float64",
         "type": "float"
        },
        {
         "name": "1283.0",
         "rawType": "float64",
         "type": "float"
        },
        {
         "name": "1285.0",
         "rawType": "float64",
         "type": "float"
        },
        {
         "name": "1286.0",
         "rawType": "float64",
         "type": "float"
        },
        {
         "name": "1289.0",
         "rawType": "float64",
         "type": "float"
        },
        {
         "name": "1290.0",
         "rawType": "float64",
         "type": "float"
        },
        {
         "name": "1291.0",
         "rawType": "float64",
         "type": "float"
        },
        {
         "name": "1292.0",
         "rawType": "float64",
         "type": "float"
        },
        {
         "name": "1293.0",
         "rawType": "float64",
         "type": "float"
        },
        {
         "name": "1294.0",
         "rawType": "float64",
         "type": "float"
        },
        {
         "name": "1295.0",
         "rawType": "float64",
         "type": "float"
        },
        {
         "name": "1296.0",
         "rawType": "float64",
         "type": "float"
        },
        {
         "name": "1297.0",
         "rawType": "float64",
         "type": "float"
        },
        {
         "name": "1298.0",
         "rawType": "float64",
         "type": "float"
        },
        {
         "name": "1299.0",
         "rawType": "float64",
         "type": "float"
        },
        {
         "name": "1303.0",
         "rawType": "float64",
         "type": "float"
        },
        {
         "name": "1304.0",
         "rawType": "float64",
         "type": "float"
        },
        {
         "name": "1305.0",
         "rawType": "float64",
         "type": "float"
        },
        {
         "name": "1306.0",
         "rawType": "float64",
         "type": "float"
        },
        {
         "name": "1307.0",
         "rawType": "float64",
         "type": "float"
        },
        {
         "name": "1308.0",
         "rawType": "float64",
         "type": "float"
        },
        {
         "name": "1313.0",
         "rawType": "float64",
         "type": "float"
        },
        {
         "name": "1314.0",
         "rawType": "float64",
         "type": "float"
        },
        {
         "name": "1315.0",
         "rawType": "float64",
         "type": "float"
        },
        {
         "name": "1317.0",
         "rawType": "float64",
         "type": "float"
        },
        {
         "name": "1318.0",
         "rawType": "float64",
         "type": "float"
        },
        {
         "name": "1319.0",
         "rawType": "float64",
         "type": "float"
        },
        {
         "name": "1320.0",
         "rawType": "float64",
         "type": "float"
        },
        {
         "name": "1321.0",
         "rawType": "float64",
         "type": "float"
        },
        {
         "name": "1324.0",
         "rawType": "float64",
         "type": "float"
        },
        {
         "name": "1326.0",
         "rawType": "float64",
         "type": "float"
        },
        {
         "name": "1328.0",
         "rawType": "float64",
         "type": "float"
        },
        {
         "name": "1329.0",
         "rawType": "float64",
         "type": "float"
        },
        {
         "name": "1330.0",
         "rawType": "float64",
         "type": "float"
        },
        {
         "name": "1331.0",
         "rawType": "float64",
         "type": "float"
        },
        {
         "name": "1332.0",
         "rawType": "float64",
         "type": "float"
        },
        {
         "name": "1333.0",
         "rawType": "float64",
         "type": "float"
        },
        {
         "name": "1334.0",
         "rawType": "float64",
         "type": "float"
        },
        {
         "name": "1335.0",
         "rawType": "float64",
         "type": "float"
        },
        {
         "name": "1336.0",
         "rawType": "float64",
         "type": "float"
        },
        {
         "name": "1337.0",
         "rawType": "float64",
         "type": "float"
        },
        {
         "name": "1338.0",
         "rawType": "float64",
         "type": "float"
        },
        {
         "name": "1340.0",
         "rawType": "float64",
         "type": "float"
        },
        {
         "name": "1343.0",
         "rawType": "float64",
         "type": "float"
        },
        {
         "name": "1344.0",
         "rawType": "float64",
         "type": "float"
        },
        {
         "name": "1346.0",
         "rawType": "float64",
         "type": "float"
        },
        {
         "name": "1348.0",
         "rawType": "float64",
         "type": "float"
        },
        {
         "name": "1349.0",
         "rawType": "float64",
         "type": "float"
        },
        {
         "name": "1350.0",
         "rawType": "float64",
         "type": "float"
        },
        {
         "name": "1351.0",
         "rawType": "float64",
         "type": "float"
        },
        {
         "name": "1354.0",
         "rawType": "float64",
         "type": "float"
        },
        {
         "name": "1355.0",
         "rawType": "float64",
         "type": "float"
        },
        {
         "name": "1356.0",
         "rawType": "float64",
         "type": "float"
        },
        {
         "name": "1357.0",
         "rawType": "float64",
         "type": "float"
        },
        {
         "name": "1358.0",
         "rawType": "float64",
         "type": "float"
        },
        {
         "name": "1359.0",
         "rawType": "float64",
         "type": "float"
        },
        {
         "name": "1360.0",
         "rawType": "float64",
         "type": "float"
        },
        {
         "name": "1361.0",
         "rawType": "float64",
         "type": "float"
        },
        {
         "name": "1362.0",
         "rawType": "float64",
         "type": "float"
        },
        {
         "name": "1363.0",
         "rawType": "float64",
         "type": "float"
        },
        {
         "name": "1364.0",
         "rawType": "float64",
         "type": "float"
        },
        {
         "name": "1365.0",
         "rawType": "float64",
         "type": "float"
        },
        {
         "name": "1366.0",
         "rawType": "float64",
         "type": "float"
        },
        {
         "name": "1367.0",
         "rawType": "float64",
         "type": "float"
        },
        {
         "name": "1368.0",
         "rawType": "float64",
         "type": "float"
        },
        {
         "name": "1369.0",
         "rawType": "float64",
         "type": "float"
        },
        {
         "name": "1371.0",
         "rawType": "float64",
         "type": "float"
        },
        {
         "name": "1372.0",
         "rawType": "float64",
         "type": "float"
        },
        {
         "name": "1377.0",
         "rawType": "float64",
         "type": "float"
        },
        {
         "name": "1378.0",
         "rawType": "float64",
         "type": "float"
        },
        {
         "name": "1386.0",
         "rawType": "float64",
         "type": "float"
        },
        {
         "name": "1387.0",
         "rawType": "float64",
         "type": "float"
        },
        {
         "name": "1390.0",
         "rawType": "float64",
         "type": "float"
        },
        {
         "name": "1391.0",
         "rawType": "float64",
         "type": "float"
        },
        {
         "name": "1393.0",
         "rawType": "float64",
         "type": "float"
        },
        {
         "name": "1394.0",
         "rawType": "float64",
         "type": "float"
        },
        {
         "name": "1395.0",
         "rawType": "float64",
         "type": "float"
        },
        {
         "name": "1396.0",
         "rawType": "float64",
         "type": "float"
        },
        {
         "name": "1397.0",
         "rawType": "float64",
         "type": "float"
        },
        {
         "name": "1398.0",
         "rawType": "float64",
         "type": "float"
        },
        {
         "name": "1400.0",
         "rawType": "float64",
         "type": "float"
        },
        {
         "name": "1401.0",
         "rawType": "float64",
         "type": "float"
        },
        {
         "name": "1402.0",
         "rawType": "float64",
         "type": "float"
        },
        {
         "name": "1403.0",
         "rawType": "float64",
         "type": "float"
        },
        {
         "name": "1404.0",
         "rawType": "float64",
         "type": "float"
        },
        {
         "name": "1405.0",
         "rawType": "float64",
         "type": "float"
        },
        {
         "name": "1406.0",
         "rawType": "float64",
         "type": "float"
        },
        {
         "name": "1407.0",
         "rawType": "float64",
         "type": "float"
        },
        {
         "name": "1408.0",
         "rawType": "float64",
         "type": "float"
        },
        {
         "name": "1409.0",
         "rawType": "float64",
         "type": "float"
        },
        {
         "name": "1410.0",
         "rawType": "float64",
         "type": "float"
        },
        {
         "name": "1411.0",
         "rawType": "float64",
         "type": "float"
        },
        {
         "name": "1412.0",
         "rawType": "float64",
         "type": "float"
        },
        {
         "name": "1414.0",
         "rawType": "float64",
         "type": "float"
        },
        {
         "name": "1415.0",
         "rawType": "float64",
         "type": "float"
        },
        {
         "name": "1416.0",
         "rawType": "float64",
         "type": "float"
        },
        {
         "name": "1418.0",
         "rawType": "float64",
         "type": "float"
        },
        {
         "name": "1419.0",
         "rawType": "float64",
         "type": "float"
        },
        {
         "name": "1420.0",
         "rawType": "float64",
         "type": "float"
        },
        {
         "name": "1421.0",
         "rawType": "float64",
         "type": "float"
        },
        {
         "name": "1422.0",
         "rawType": "float64",
         "type": "float"
        },
        {
         "name": "1423.0",
         "rawType": "float64",
         "type": "float"
        },
        {
         "name": "1424.0",
         "rawType": "float64",
         "type": "float"
        },
        {
         "name": "1425.0",
         "rawType": "float64",
         "type": "float"
        },
        {
         "name": "1426.0",
         "rawType": "float64",
         "type": "float"
        },
        {
         "name": "1427.0",
         "rawType": "float64",
         "type": "float"
        },
        {
         "name": "1428.0",
         "rawType": "float64",
         "type": "float"
        },
        {
         "name": "1429.0",
         "rawType": "float64",
         "type": "float"
        },
        {
         "name": "1430.0",
         "rawType": "float64",
         "type": "float"
        },
        {
         "name": "1431.0",
         "rawType": "float64",
         "type": "float"
        },
        {
         "name": "1432.0",
         "rawType": "float64",
         "type": "float"
        },
        {
         "name": "1433.0",
         "rawType": "float64",
         "type": "float"
        },
        {
         "name": "1434.0",
         "rawType": "float64",
         "type": "float"
        },
        {
         "name": "1435.0",
         "rawType": "float64",
         "type": "float"
        },
        {
         "name": "1436.0",
         "rawType": "float64",
         "type": "float"
        },
        {
         "name": "1437.0",
         "rawType": "float64",
         "type": "float"
        },
        {
         "name": "1439.0",
         "rawType": "float64",
         "type": "float"
        },
        {
         "name": "1440.0",
         "rawType": "float64",
         "type": "float"
        },
        {
         "name": "1441.0",
         "rawType": "float64",
         "type": "float"
        },
        {
         "name": "1442.0",
         "rawType": "float64",
         "type": "float"
        },
        {
         "name": "1443.0",
         "rawType": "float64",
         "type": "float"
        },
        {
         "name": "1444.0",
         "rawType": "float64",
         "type": "float"
        }
       ],
       "ref": "9f75068a-dce9-48ab-a9f7-0167d3e5b63a",
       "rows": [
        [
         "1",
         "0.0",
         "0.0",
         "0.0",
         "0.0",
         "0.0",
         "0.0",
         "0.0",
         "0.0",
         "0.0",
         "0.0",
         "0.0",
         "0.0",
         "0.0",
         "0.0",
         "0.0",
         "0.0",
         "0.0",
         "0.0",
         "0.0",
         "0.0",
         "0.0",
         "0.0",
         "1.0",
         "0.0",
         "0.0",
         "0.0",
         "0.0",
         "0.0",
         "0.0",
         "0.0",
         "0.0",
         "0.0",
         "0.0",
         "0.0",
         "0.0",
         "0.0",
         "0.0",
         "0.0",
         "0.0",
         "0.0",
         "0.0",
         "0.0",
         "0.0",
         "0.0",
         "0.0",
         "0.0",
         "0.0",
         "0.0",
         "0.0",
         "0.0",
         "0.0",
         "0.0",
         "0.0",
         "0.0",
         "1.0",
         "0.0",
         "0.0",
         "0.0",
         "0.0",
         "0.0",
         "0.0",
         "0.0",
         "0.0",
         "0.0",
         "0.0",
         "0.0",
         "0.0",
         "0.0",
         "0.0",
         "0.0",
         "0.0",
         "0.0",
         "0.0",
         "0.0",
         "0.0",
         "0.0",
         "1.0",
         "0.0",
         "0.0",
         "0.0",
         "0.0",
         "0.0",
         "0.0",
         "0.0",
         "0.0",
         "0.0",
         "0.0",
         "0.0",
         "0.0",
         "0.0",
         "0.0",
         "0.0",
         "0.0",
         "0.0",
         "0.0",
         "0.0",
         "0.0",
         "0.0",
         "0.0",
         "0.0",
         "0.0",
         "0.0",
         "0.0",
         "0.0",
         "0.0",
         "0.0",
         "0.0",
         "0.0",
         "0.0",
         "0.0",
         "0.0",
         "0.0",
         "0.0",
         "0.0",
         "0.0",
         "0.0",
         "0.0",
         "0.0",
         "0.0",
         "0.0",
         "0.0",
         "0.0",
         "0.0",
         "1.0",
         "0.0",
         "0.0",
         "0.0",
         "0.0",
         "0.0",
         "0.0",
         "0.0",
         "0.0",
         "0.0",
         "0.0",
         "0.0",
         "0.0",
         "0.0",
         "0.0",
         "1.0",
         "0.0",
         "0.0",
         "0.0",
         "0.0",
         "0.0",
         "0.0",
         "0.0",
         "0.0",
         "1.0",
         "0.0",
         "0.0",
         "0.0",
         "0.0",
         "1.0",
         "0.0",
         "0.0",
         "0.0",
         "0.0",
         "0.0",
         "0.0",
         "0.0",
         "0.0",
         "0.0",
         "0.0",
         "0.0",
         "0.0",
         "0.0",
         "0.0",
         "0.0",
         "0.0",
         "0.0",
         "0.0",
         "0.0",
         "0.0",
         "0.0",
         "0.0",
         "0.0",
         "0.0",
         "0.0",
         "1.0",
         "0.0",
         "0.0",
         "0.0",
         "0.0",
         "0.0",
         "0.0",
         "0.0",
         "0.0",
         "0.0",
         "0.0",
         "0.0",
         "0.0",
         "0.0",
         "0.0",
         "0.0",
         "0.0",
         "0.0",
         "0.0",
         "0.0",
         "0.0",
         "0.0",
         "0.0",
         "0.0",
         "0.0",
         "0.0",
         "0.0",
         "0.0",
         "0.0",
         "0.0",
         "0.0",
         "0.0",
         "0.0",
         "0.0",
         "0.0",
         "0.0",
         "0.0",
         "0.0",
         "0.0",
         "0.0",
         "0.0",
         "0.0",
         "0.0",
         "0.0",
         "1.0",
         "0.0",
         "0.0",
         "0.0",
         "0.0",
         "0.0",
         "0.0",
         "0.0",
         "0.0",
         "0.0",
         "0.0",
         "0.0",
         "0.0",
         "1.0",
         "0.0",
         "0.0",
         "0.0",
         "0.0",
         "0.0",
         "0.0",
         "0.0",
         "0.0",
         "0.0",
         "0.0",
         "0.0",
         "0.0",
         "0.0",
         "0.0",
         "0.0",
         "0.0",
         "0.0",
         "1.0",
         "0.0",
         "0.0",
         "0.0",
         "0.0",
         "0.0",
         "0.0",
         "0.0",
         "0.0",
         "0.0",
         "0.0",
         "0.0",
         "0.0",
         "0.0",
         "1.0",
         "0.0",
         "0.0",
         "0.0",
         "0.0",
         "0.0",
         "0.0",
         "0.0",
         "0.0",
         "0.0",
         "0.0",
         "0.0",
         "0.0",
         "0.0",
         "0.0",
         "0.0",
         "0.0",
         "0.0",
         "1.0",
         "0.0",
         "0.0",
         "0.0",
         "0.0",
         "0.0",
         "0.0",
         "0.0",
         "0.0",
         "0.0",
         "0.0",
         "0.0",
         "0.0",
         "0.0",
         "0.0",
         "0.0",
         "0.0",
         "0.0",
         "0.0",
         "0.0",
         "0.0",
         "0.0",
         "0.0",
         "0.0",
         "0.0",
         "0.0",
         "0.0",
         "0.0",
         "0.0",
         "0.0",
         "1.0",
         "0.0",
         "0.0",
         "0.0",
         "0.0",
         "0.0",
         "0.0",
         "0.0",
         "0.0",
         "0.0",
         "0.0",
         "0.0",
         "0.0",
         "0.0",
         "1.0",
         "0.0",
         "0.0",
         "0.0",
         "0.0",
         "0.0",
         "0.0",
         "0.0",
         "0.0",
         "0.0",
         "0.0",
         "0.0",
         "0.0",
         "0.0",
         "0.0",
         "0.0",
         "0.0",
         "0.0",
         "0.0",
         "0.0",
         "0.0",
         "0.0",
         "0.0",
         "0.0",
         "0.0",
         "0.0",
         "0.0",
         "0.0",
         "0.0",
         "0.0",
         "0.0",
         "0.0",
         "0.0",
         "0.0",
         "0.0",
         "0.0",
         "0.0",
         "0.0",
         "0.0",
         "0.0",
         "0.0",
         "0.0",
         "0.0",
         "0.0",
         "0.0",
         "1.0",
         "0.0",
         "0.0",
         "0.0",
         "0.0",
         "0.0",
         "0.0",
         "0.0",
         "0.0",
         "0.0",
         "0.0",
         "0.0",
         "0.0",
         "0.0",
         "0.0",
         "0.0",
         "0.0",
         "0.0",
         "0.0",
         "0.0",
         "0.0",
         "0.0",
         "0.0",
         "0.0",
         "0.0",
         "0.0",
         "0.0",
         "1.0",
         "0.0",
         "0.0",
         "0.0",
         "0.0",
         "0.0",
         "0.0",
         "1.0",
         "0.0",
         "0.0",
         "0.0",
         "0.0",
         "0.0",
         "0.0",
         "0.0",
         "0.0",
         "0.0",
         "0.0",
         "0.0",
         "0.0",
         "0.0",
         "0.0",
         "0.0",
         "0.0",
         "0.0",
         "0.0",
         "0.0",
         "0.0",
         "0.0",
         "0.0",
         "0.0",
         "0.0",
         "0.0",
         "0.0",
         "0.0",
         "0.0",
         "0.0",
         "1.0",
         "0.0",
         "0.0",
         "0.0",
         "0.0",
         "0.0",
         "0.0",
         "0.0",
         "0.0",
         "0.0",
         "0.0",
         "0.0",
         "0.0",
         "0.0",
         "0.0",
         "0.0",
         "0.0",
         "0.0",
         "0.0",
         "0.0",
         "0.0",
         "0.0",
         "0.0",
         "0.0",
         "0.0",
         "0.0",
         "0.0",
         "0.0",
         "0.0",
         "0.0",
         "0.0",
         "0.0",
         "0.0",
         "0.0",
         "0.0",
         "0.0",
         "0.0",
         "0.0",
         "0.0",
         "0.0",
         "0.0",
         "0.0",
         "0.0",
         "0.0",
         "0.0",
         "0.0",
         "0.0",
         "0.0",
         "0.0",
         "0.0",
         "0.0",
         "0.0",
         "0.0",
         "0.0",
         "0.0",
         "0.0",
         "0.0",
         "0.0",
         "0.0",
         "0.0",
         "0.0",
         "0.0",
         "0.0",
         "0.0",
         "0.0",
         "0.0",
         "0.0",
         "0.0",
         "0.0",
         "0.0",
         "0.0",
         "0.0",
         "0.0",
         "0.0",
         "0.0",
         "0.0",
         "0.0",
         "0.0",
         "0.0",
         "0.0",
         "0.0",
         "0.0",
         "0.0",
         "0.0",
         "0.0",
         "0.0",
         "0.0",
         "0.0",
         "1.0",
         "0.0",
         "0.0",
         "0.0",
         "0.0",
         "0.0",
         "0.0",
         "0.0",
         "0.0",
         "0.0",
         "0.0",
         "0.0",
         "1.0",
         "0.0",
         "1.0",
         "0.0",
         "0.0",
         "0.0",
         "0.0",
         "0.0",
         "0.0",
         "0.0",
         "0.0",
         "0.0",
         "0.0",
         "0.0",
         "0.0",
         "0.0",
         "0.0",
         "0.0",
         "0.0",
         "0.0",
         "0.0",
         "0.0",
         "0.0",
         "0.0",
         "0.0",
         "0.0",
         "0.0",
         "0.0",
         "1.0",
         "0.0",
         "0.0",
         "0.0",
         "0.0",
         "0.0",
         "0.0",
         "0.0",
         "0.0",
         "0.0",
         "0.0",
         "0.0",
         "0.0",
         "0.0",
         "0.0",
         "0.0",
         "0.0",
         "0.0",
         "0.0",
         "0.0",
         "0.0",
         "0.0",
         "0.0",
         "0.0",
         "0.0",
         "0.0",
         "0.0",
         "0.0",
         "0.0",
         "0.0",
         "0.0",
         "0.0",
         "0.0",
         "0.0",
         "1.0",
         "0.0",
         "0.0",
         "0.0",
         "0.0",
         "0.0",
         "0.0",
         "0.0",
         "0.0",
         "1.0",
         "0.0",
         "0.0",
         "0.0",
         "0.0",
         "0.0",
         "0.0",
         "0.0",
         "0.0",
         "0.0",
         "0.0",
         "0.0",
         "0.0",
         "0.0",
         "0.0",
         "0.0",
         "0.0",
         "0.0",
         "0.0",
         "0.0",
         "0.0",
         "0.0",
         "0.0",
         "0.0",
         "0.0",
         "0.0",
         "0.0",
         "0.0",
         "0.0",
         "0.0",
         "0.0",
         "0.0",
         "0.0",
         "0.0",
         "0.0",
         "0.0",
         "0.0",
         "0.0",
         "0.0",
         "0.0",
         "0.0",
         "0.0",
         "1.0",
         "0.0",
         "0.0",
         "0.0",
         "0.0",
         "1.0",
         "0.0",
         "0.0",
         "0.0",
         "0.0",
         "0.0",
         "0.0",
         "0.0",
         "0.0",
         "1.0",
         "0.0",
         "0.0",
         "0.0",
         "0.0",
         "0.0",
         "0.0",
         "1.0",
         "0.0",
         "0.0",
         "0.0",
         "0.0",
         "0.0",
         "1.0",
         "0.0",
         "0.0",
         "0.0",
         "0.0",
         "0.0",
         "0.0",
         "0.0",
         "0.0",
         "0.0",
         "0.0",
         "0.0",
         "0.0",
         "0.0",
         "0.0",
         "0.0",
         "0.0",
         "0.0",
         "0.0",
         "1.0",
         "0.0",
         "1.0",
         "1.0",
         "1.0",
         "0.0",
         "0.0",
         "0.0",
         "0.0",
         "1.0",
         "0.0",
         "1.0",
         "0.0",
         "0.0",
         "0.0",
         "0.0",
         "0.0"
        ],
        [
         "2",
         "0.0",
         "0.0",
         "0.0",
         "0.0",
         "0.0",
         "0.0",
         "0.0",
         "0.0",
         "0.0",
         "0.0",
         "0.0",
         "0.0",
         "0.0",
         "0.0",
         "0.0",
         "0.0",
         "0.0",
         "0.0",
         "0.0",
         "0.0",
         "0.0",
         "0.0",
         "0.0",
         "0.0",
         "0.0",
         "0.0",
         "0.0",
         "0.0",
         "0.0",
         "0.0",
         "0.0",
         "0.0",
         "0.0",
         "0.0",
         "0.0",
         "0.0",
         "0.0",
         "0.0",
         "0.0",
         "0.0",
         "0.0",
         "0.0",
         "0.0",
         "0.0",
         "0.0",
         "0.0",
         "0.0",
         "0.0",
         "0.0",
         "0.0",
         "0.0",
         "0.0",
         "0.0",
         "0.0",
         "0.0",
         "0.0",
         "0.0",
         "0.0",
         "0.0",
         "0.0",
         "0.0",
         "0.0",
         "0.0",
         "0.0",
         "0.0",
         "0.0",
         "0.0",
         "0.0",
         "0.0",
         "0.0",
         "0.0",
         "0.0",
         "0.0",
         "0.0",
         "0.0",
         "0.0",
         "0.0",
         "0.0",
         "0.0",
         "0.0",
         "0.0",
         "0.0",
         "0.0",
         "0.0",
         "0.0",
         "0.0",
         "0.0",
         "0.0",
         "0.0",
         "0.0",
         "0.0",
         "0.0",
         "0.0",
         "0.0",
         "0.0",
         "0.0",
         "0.0",
         "0.0",
         "0.0",
         "0.0",
         "0.0",
         "0.0",
         "0.0",
         "0.0",
         "0.0",
         "0.0",
         "0.0",
         "0.0",
         "0.0",
         "0.0",
         "0.0",
         "0.0",
         "0.0",
         "0.0",
         "0.0",
         "0.0",
         "0.0",
         "0.0",
         "0.0",
         "0.0",
         "0.0",
         "0.0",
         "0.0",
         "0.0",
         "0.0",
         "0.0",
         "0.0",
         "0.0",
         "0.0",
         "0.0",
         "0.0",
         "0.0",
         "0.0",
         "0.0",
         "0.0",
         "0.0",
         "0.0",
         "0.0",
         "0.0",
         "0.0",
         "0.0",
         "0.0",
         "0.0",
         "0.0",
         "0.0",
         "0.0",
         "0.0",
         "0.0",
         "0.0",
         "0.0",
         "0.0",
         "0.0",
         "0.0",
         "0.0",
         "0.0",
         "0.0",
         "0.0",
         "0.0",
         "0.0",
         "0.0",
         "0.0",
         "0.0",
         "0.0",
         "0.0",
         "0.0",
         "0.0",
         "0.0",
         "0.0",
         "0.0",
         "0.0",
         "0.0",
         "0.0",
         "0.0",
         "0.0",
         "0.0",
         "0.0",
         "0.0",
         "0.0",
         "0.0",
         "0.0",
         "0.0",
         "0.0",
         "0.0",
         "0.0",
         "0.0",
         "0.0",
         "0.0",
         "0.0",
         "0.0",
         "0.0",
         "0.0",
         "0.0",
         "0.0",
         "0.0",
         "0.0",
         "0.0",
         "0.0",
         "0.0",
         "0.0",
         "0.0",
         "0.0",
         "0.0",
         "0.0",
         "0.0",
         "0.0",
         "0.0",
         "0.0",
         "0.0",
         "0.0",
         "0.0",
         "0.0",
         "0.0",
         "0.0",
         "0.0",
         "0.0",
         "0.0",
         "0.0",
         "0.0",
         "0.0",
         "0.0",
         "0.0",
         "0.0",
         "0.0",
         "0.0",
         "0.0",
         "0.0",
         "0.0",
         "0.0",
         "0.0",
         "0.0",
         "0.0",
         "0.0",
         "0.0",
         "0.0",
         "0.0",
         "0.0",
         "0.0",
         "0.0",
         "0.0",
         "0.0",
         "0.0",
         "0.0",
         "0.0",
         "0.0",
         "0.0",
         "0.0",
         "0.0",
         "0.0",
         "0.0",
         "0.0",
         "0.0",
         "0.0",
         "0.0",
         "0.0",
         "0.0",
         "0.0",
         "0.0",
         "0.0",
         "0.0",
         "0.0",
         "0.0",
         "0.0",
         "0.0",
         "0.0",
         "0.0",
         "0.0",
         "0.0",
         "0.0",
         "0.0",
         "0.0",
         "0.0",
         "0.0",
         "0.0",
         "0.0",
         "0.0",
         "0.0",
         "0.0",
         "0.0",
         "0.0",
         "0.0",
         "0.0",
         "0.0",
         "0.0",
         "0.0",
         "0.0",
         "0.0",
         "0.0",
         "0.0",
         "0.0",
         "0.0",
         "0.0",
         "0.0",
         "0.0",
         "0.0",
         "0.0",
         "0.0",
         "0.0",
         "0.0",
         "0.0",
         "0.0",
         "0.0",
         "0.0",
         "0.0",
         "0.0",
         "0.0",
         "0.0",
         "0.0",
         "0.0",
         "0.0",
         "0.0",
         "0.0",
         "0.0",
         "0.0",
         "0.0",
         "0.0",
         "0.0",
         "0.0",
         "0.0",
         "0.0",
         "0.0",
         "0.0",
         "0.0",
         "0.0",
         "0.0",
         "0.0",
         "0.0",
         "0.0",
         "0.0",
         "0.0",
         "0.0",
         "0.0",
         "0.0",
         "0.0",
         "0.0",
         "0.0",
         "0.0",
         "0.0",
         "0.0",
         "0.0",
         "0.0",
         "0.0",
         "0.0",
         "0.0",
         "0.0",
         "0.0",
         "0.0",
         "0.0",
         "0.0",
         "0.0",
         "0.0",
         "0.0",
         "0.0",
         "0.0",
         "0.0",
         "0.0",
         "0.0",
         "0.0",
         "0.0",
         "0.0",
         "0.0",
         "0.0",
         "0.0",
         "0.0",
         "0.0",
         "0.0",
         "0.0",
         "0.0",
         "0.0",
         "0.0",
         "0.0",
         "0.0",
         "0.0",
         "0.0",
         "0.0",
         "0.0",
         "0.0",
         "0.0",
         "0.0",
         "0.0",
         "0.0",
         "0.0",
         "0.0",
         "0.0",
         "0.0",
         "0.0",
         "0.0",
         "0.0",
         "0.0",
         "0.0",
         "0.0",
         "0.0",
         "0.0",
         "0.0",
         "0.0",
         "0.0",
         "0.0",
         "0.0",
         "0.0",
         "0.0",
         "0.0",
         "0.0",
         "0.0",
         "0.0",
         "0.0",
         "0.0",
         "0.0",
         "0.0",
         "0.0",
         "0.0",
         "0.0",
         "0.0",
         "0.0",
         "0.0",
         "0.0",
         "0.0",
         "0.0",
         "0.0",
         "0.0",
         "0.0",
         "0.0",
         "0.0",
         "0.0",
         "0.0",
         "0.0",
         "0.0",
         "1.0",
         "0.0",
         "0.0",
         "0.0",
         "0.0",
         "0.0",
         "0.0",
         "0.0",
         "0.0",
         "0.0",
         "0.0",
         "0.0",
         "0.0",
         "0.0",
         "0.0",
         "0.0",
         "0.0",
         "0.0",
         "0.0",
         "0.0",
         "0.0",
         "0.0",
         "0.0",
         "0.0",
         "0.0",
         "0.0",
         "0.0",
         "0.0",
         "0.0",
         "0.0",
         "0.0",
         "0.0",
         "0.0",
         "0.0",
         "0.0",
         "0.0",
         "0.0",
         "0.0",
         "0.0",
         "0.0",
         "0.0",
         "0.0",
         "0.0",
         "0.0",
         "0.0",
         "0.0",
         "0.0",
         "0.0",
         "0.0",
         "0.0",
         "0.0",
         "0.0",
         "0.0",
         "0.0",
         "0.0",
         "0.0",
         "0.0",
         "0.0",
         "0.0",
         "0.0",
         "0.0",
         "0.0",
         "0.0",
         "0.0",
         "0.0",
         "0.0",
         "0.0",
         "0.0",
         "0.0",
         "0.0",
         "0.0",
         "0.0",
         "0.0",
         "0.0",
         "0.0",
         "0.0",
         "0.0",
         "0.0",
         "0.0",
         "0.0",
         "0.0",
         "0.0",
         "0.0",
         "0.0",
         "0.0",
         "0.0",
         "0.0",
         "0.0",
         "0.0",
         "0.0",
         "0.0",
         "0.0",
         "0.0",
         "0.0",
         "0.0",
         "0.0",
         "0.0",
         "0.0",
         "0.0",
         "0.0",
         "0.0",
         "0.0",
         "0.0",
         "0.0",
         "0.0",
         "0.0",
         "0.0",
         "1.0",
         "0.0",
         "0.0",
         "0.0",
         "0.0",
         "0.0",
         "0.0",
         "0.0",
         "0.0",
         "0.0",
         "0.0",
         "0.0",
         "0.0",
         "0.0",
         "0.0",
         "0.0",
         "0.0",
         "0.0",
         "0.0",
         "0.0",
         "0.0",
         "0.0",
         "0.0",
         "0.0",
         "0.0",
         "0.0",
         "0.0",
         "0.0",
         "0.0",
         "0.0",
         "0.0",
         "0.0",
         "0.0",
         "0.0",
         "0.0",
         "0.0",
         "0.0",
         "0.0",
         "0.0",
         "0.0",
         "0.0",
         "0.0",
         "0.0",
         "0.0",
         "0.0",
         "0.0",
         "0.0",
         "0.0",
         "0.0",
         "0.0",
         "0.0",
         "0.0",
         "0.0",
         "0.0",
         "0.0",
         "0.0",
         "0.0",
         "0.0",
         "0.0",
         "0.0",
         "0.0",
         "0.0",
         "0.0",
         "0.0",
         "0.0",
         "0.0",
         "0.0",
         "0.0",
         "0.0",
         "0.0",
         "0.0",
         "0.0",
         "0.0",
         "0.0",
         "0.0",
         "0.0",
         "0.0",
         "1.0",
         "0.0",
         "0.0",
         "0.0",
         "0.0",
         "1.0",
         "0.0",
         "0.0",
         "0.0",
         "0.0",
         "0.0",
         "0.0",
         "0.0",
         "0.0",
         "0.0",
         "0.0",
         "0.0",
         "0.0",
         "0.0",
         "0.0",
         "0.0",
         "0.0",
         "0.0",
         "0.0",
         "0.0",
         "0.0",
         "0.0",
         "0.0",
         "0.0",
         "0.0",
         "0.0",
         "0.0",
         "0.0",
         "0.0",
         "0.0",
         "0.0",
         "0.0",
         "0.0",
         "0.0",
         "0.0",
         "0.0",
         "0.0",
         "0.0",
         "0.0",
         "0.0",
         "0.0",
         "0.0",
         "0.0",
         "0.0",
         "0.0",
         "0.0",
         "0.0",
         "0.0",
         "0.0",
         "0.0",
         "0.0",
         "0.0",
         "0.0",
         "0.0",
         "0.0",
         "0.0",
         "0.0",
         "0.0",
         "0.0",
         "0.0",
         "0.0",
         "0.0",
         "0.0",
         "0.0",
         "0.0",
         "0.0",
         "0.0",
         "0.0",
         "0.0",
         "0.0",
         "0.0",
         "0.0",
         "0.0",
         "0.0",
         "0.0",
         "0.0",
         "0.0",
         "0.0",
         "1.0",
         "0.0",
         "0.0",
         "0.0",
         "0.0",
         "1.0",
         "0.0",
         "0.0",
         "0.0",
         "0.0",
         "0.0",
         "0.0",
         "0.0",
         "0.0",
         "0.0",
         "0.0",
         "0.0",
         "0.0",
         "0.0",
         "0.0",
         "0.0",
         "0.0"
        ],
        [
         "3",
         "0.0",
         "0.0",
         "0.0",
         "0.0",
         "0.0",
         "1.0",
         "0.0",
         "0.0",
         "0.0",
         "0.0",
         "1.0",
         "0.0",
         "0.0",
         "0.0",
         "1.0",
         "0.0",
         "0.0",
         "0.0",
         "0.0",
         "0.0",
         "0.0",
         "0.0",
         "1.0",
         "0.0",
         "1.0",
         "0.0",
         "0.0",
         "0.0",
         "0.0",
         "0.0",
         "0.0",
         "0.0",
         "1.0",
         "0.0",
         "0.0",
         "0.0",
         "0.0",
         "0.0",
         "0.0",
         "0.0",
         "0.0",
         "0.0",
         "0.0",
         "0.0",
         "0.0",
         "0.0",
         "0.0",
         "0.0",
         "0.0",
         "0.0",
         "0.0",
         "0.0",
         "0.0",
         "0.0",
         "1.0",
         "0.0",
         "0.0",
         "0.0",
         "0.0",
         "0.0",
         "1.0",
         "0.0",
         "1.0",
         "0.0",
         "0.0",
         "0.0",
         "0.0",
         "0.0",
         "0.0",
         "0.0",
         "0.0",
         "0.0",
         "0.0",
         "0.0",
         "0.0",
         "0.0",
         "0.0",
         "0.0",
         "0.0",
         "0.0",
         "0.0",
         "0.0",
         "0.0",
         "0.0",
         "0.0",
         "0.0",
         "0.0",
         "0.0",
         "0.0",
         "0.0",
         "0.0",
         "1.0",
         "0.0",
         "0.0",
         "0.0",
         "0.0",
         "0.0",
         "1.0",
         "0.0",
         "0.0",
         "0.0",
         "0.0",
         "0.0",
         "0.0",
         "0.0",
         "0.0",
         "0.0",
         "0.0",
         "0.0",
         "0.0",
         "0.0",
         "0.0",
         "0.0",
         "0.0",
         "0.0",
         "0.0",
         "0.0",
         "0.0",
         "0.0",
         "0.0",
         "0.0",
         "0.0",
         "0.0",
         "0.0",
         "0.0",
         "0.0",
         "0.0",
         "0.0",
         "0.0",
         "0.0",
         "0.0",
         "0.0",
         "0.0",
         "0.0",
         "0.0",
         "0.0",
         "0.0",
         "0.0",
         "0.0",
         "0.0",
         "0.0",
         "0.0",
         "0.0",
         "0.0",
         "0.0",
         "0.0",
         "0.0",
         "0.0",
         "0.0",
         "0.0",
         "0.0",
         "0.0",
         "0.0",
         "0.0",
         "0.0",
         "0.0",
         "0.0",
         "0.0",
         "0.0",
         "0.0",
         "0.0",
         "0.0",
         "0.0",
         "0.0",
         "0.0",
         "0.0",
         "0.0",
         "0.0",
         "0.0",
         "0.0",
         "0.0",
         "0.0",
         "0.0",
         "1.0",
         "0.0",
         "0.0",
         "0.0",
         "0.0",
         "0.0",
         "0.0",
         "0.0",
         "0.0",
         "0.0",
         "0.0",
         "0.0",
         "0.0",
         "0.0",
         "0.0",
         "0.0",
         "0.0",
         "0.0",
         "0.0",
         "0.0",
         "0.0",
         "0.0",
         "0.0",
         "0.0",
         "0.0",
         "0.0",
         "0.0",
         "0.0",
         "0.0",
         "0.0",
         "0.0",
         "0.0",
         "0.0",
         "0.0",
         "0.0",
         "0.0",
         "0.0",
         "0.0",
         "0.0",
         "0.0",
         "0.0",
         "0.0",
         "0.0",
         "0.0",
         "0.0",
         "0.0",
         "0.0",
         "0.0",
         "0.0",
         "0.0",
         "0.0",
         "0.0",
         "0.0",
         "0.0",
         "0.0",
         "0.0",
         "0.0",
         "0.0",
         "0.0",
         "0.0",
         "0.0",
         "0.0",
         "0.0",
         "0.0",
         "0.0",
         "0.0",
         "0.0",
         "0.0",
         "0.0",
         "0.0",
         "0.0",
         "0.0",
         "0.0",
         "0.0",
         "0.0",
         "0.0",
         "0.0",
         "0.0",
         "0.0",
         "0.0",
         "0.0",
         "0.0",
         "0.0",
         "0.0",
         "0.0",
         "0.0",
         "0.0",
         "0.0",
         "0.0",
         "0.0",
         "0.0",
         "0.0",
         "0.0",
         "0.0",
         "0.0",
         "0.0",
         "0.0",
         "0.0",
         "0.0",
         "0.0",
         "0.0",
         "0.0",
         "0.0",
         "0.0",
         "0.0",
         "0.0",
         "0.0",
         "0.0",
         "0.0",
         "0.0",
         "0.0",
         "0.0",
         "0.0",
         "0.0",
         "0.0",
         "0.0",
         "0.0",
         "0.0",
         "0.0",
         "0.0",
         "0.0",
         "1.0",
         "0.0",
         "0.0",
         "0.0",
         "0.0",
         "0.0",
         "0.0",
         "0.0",
         "0.0",
         "0.0",
         "0.0",
         "0.0",
         "1.0",
         "1.0",
         "0.0",
         "0.0",
         "0.0",
         "0.0",
         "0.0",
         "0.0",
         "0.0",
         "0.0",
         "1.0",
         "0.0",
         "0.0",
         "0.0",
         "0.0",
         "0.0",
         "0.0",
         "0.0",
         "0.0",
         "0.0",
         "0.0",
         "0.0",
         "0.0",
         "0.0",
         "0.0",
         "0.0",
         "0.0",
         "1.0",
         "0.0",
         "1.0",
         "0.0",
         "0.0",
         "0.0",
         "0.0",
         "0.0",
         "0.0",
         "0.0",
         "0.0",
         "0.0",
         "0.0",
         "0.0",
         "0.0",
         "0.0",
         "0.0",
         "0.0",
         "0.0",
         "0.0",
         "0.0",
         "0.0",
         "0.0",
         "0.0",
         "1.0",
         "0.0",
         "0.0",
         "0.0",
         "0.0",
         "0.0",
         "0.0",
         "0.0",
         "0.0",
         "0.0",
         "0.0",
         "0.0",
         "0.0",
         "0.0",
         "0.0",
         "0.0",
         "0.0",
         "0.0",
         "0.0",
         "0.0",
         "0.0",
         "0.0",
         "0.0",
         "0.0",
         "0.0",
         "0.0",
         "0.0",
         "0.0",
         "0.0",
         "0.0",
         "0.0",
         "0.0",
         "0.0",
         "0.0",
         "0.0",
         "0.0",
         "0.0",
         "1.0",
         "0.0",
         "0.0",
         "0.0",
         "0.0",
         "0.0",
         "0.0",
         "0.0",
         "0.0",
         "0.0",
         "0.0",
         "0.0",
         "0.0",
         "1.0",
         "0.0",
         "0.0",
         "0.0",
         "0.0",
         "0.0",
         "0.0",
         "0.0",
         "0.0",
         "0.0",
         "0.0",
         "0.0",
         "0.0",
         "0.0",
         "0.0",
         "0.0",
         "0.0",
         "0.0",
         "0.0",
         "0.0",
         "0.0",
         "0.0",
         "1.0",
         "0.0",
         "0.0",
         "0.0",
         "0.0",
         "0.0",
         "0.0",
         "0.0",
         "0.0",
         "0.0",
         "0.0",
         "0.0",
         "0.0",
         "0.0",
         "1.0",
         "0.0",
         "1.0",
         "0.0",
         "0.0",
         "0.0",
         "0.0",
         "0.0",
         "0.0",
         "0.0",
         "0.0",
         "0.0",
         "0.0",
         "0.0",
         "0.0",
         "0.0",
         "0.0",
         "0.0",
         "0.0",
         "0.0",
         "0.0",
         "0.0",
         "0.0",
         "0.0",
         "0.0",
         "0.0",
         "0.0",
         "0.0",
         "0.0",
         "0.0",
         "0.0",
         "0.0",
         "0.0",
         "0.0",
         "0.0",
         "0.0",
         "0.0",
         "0.0",
         "0.0",
         "0.0",
         "0.0",
         "0.0",
         "0.0",
         "0.0",
         "0.0",
         "0.0",
         "0.0",
         "0.0",
         "0.0",
         "0.0",
         "0.0",
         "0.0",
         "0.0",
         "0.0",
         "0.0",
         "0.0",
         "0.0",
         "0.0",
         "0.0",
         "0.0",
         "0.0",
         "0.0",
         "0.0",
         "0.0",
         "0.0",
         "0.0",
         "0.0",
         "0.0",
         "0.0",
         "0.0",
         "0.0",
         "0.0",
         "0.0",
         "0.0",
         "0.0",
         "0.0",
         "0.0",
         "0.0",
         "1.0",
         "0.0",
         "0.0",
         "0.0",
         "0.0",
         "0.0",
         "0.0",
         "1.0",
         "0.0",
         "0.0",
         "0.0",
         "0.0",
         "0.0",
         "0.0",
         "0.0",
         "0.0",
         "0.0",
         "0.0",
         "0.0",
         "0.0",
         "0.0",
         "0.0",
         "0.0",
         "0.0",
         "0.0",
         "0.0",
         "1.0",
         "0.0",
         "0.0",
         "0.0",
         "0.0",
         "0.0",
         "0.0",
         "0.0",
         "0.0",
         "0.0",
         "0.0",
         "0.0",
         "0.0",
         "0.0",
         "1.0",
         "0.0",
         "0.0",
         "0.0",
         "0.0",
         "0.0",
         "0.0",
         "0.0",
         "0.0",
         "0.0",
         "0.0",
         "0.0",
         "0.0",
         "0.0",
         "0.0",
         "0.0",
         "0.0",
         "0.0",
         "0.0",
         "0.0",
         "0.0",
         "0.0",
         "1.0",
         "0.0",
         "0.0",
         "0.0",
         "0.0",
         "0.0",
         "0.0",
         "0.0",
         "0.0",
         "0.0",
         "0.0",
         "0.0",
         "0.0",
         "0.0",
         "0.0",
         "0.0",
         "0.0",
         "1.0",
         "0.0",
         "0.0",
         "0.0",
         "0.0",
         "0.0",
         "0.0",
         "0.0",
         "0.0",
         "0.0",
         "0.0",
         "0.0",
         "0.0",
         "0.0",
         "1.0",
         "0.0",
         "0.0",
         "0.0",
         "0.0",
         "0.0",
         "0.0",
         "0.0",
         "0.0",
         "0.0",
         "0.0",
         "1.0",
         "0.0",
         "0.0",
         "0.0",
         "0.0",
         "0.0",
         "0.0",
         "0.0",
         "0.0",
         "0.0",
         "1.0",
         "0.0",
         "0.0",
         "0.0",
         "0.0",
         "0.0",
         "1.0",
         "0.0",
         "0.0",
         "0.0",
         "0.0",
         "0.0",
         "0.0",
         "1.0",
         "0.0",
         "0.0",
         "0.0",
         "0.0",
         "0.0",
         "0.0",
         "0.0",
         "0.0",
         "0.0",
         "0.0",
         "0.0",
         "0.0",
         "0.0",
         "0.0",
         "0.0",
         "0.0",
         "0.0",
         "0.0",
         "0.0",
         "0.0",
         "0.0",
         "1.0",
         "0.0",
         "0.0",
         "0.0",
         "0.0",
         "0.0",
         "0.0",
         "0.0",
         "0.0",
         "0.0",
         "0.0",
         "0.0",
         "0.0",
         "0.0",
         "0.0",
         "0.0",
         "0.0",
         "0.0",
         "0.0",
         "0.0",
         "0.0",
         "0.0",
         "0.0",
         "0.0",
         "0.0",
         "0.0",
         "0.0",
         "0.0",
         "0.0",
         "1.0",
         "0.0",
         "1.0",
         "1.0",
         "0.0",
         "0.0",
         "0.0",
         "1.0",
         "0.0",
         "0.0",
         "0.0",
         "0.0",
         "0.0",
         "0.0",
         "0.0"
        ],
        [
         "4",
         "0.0",
         "0.0",
         "0.0",
         "0.0",
         "0.0",
         "0.0",
         "0.0",
         "0.0",
         "0.0",
         "0.0",
         "1.0",
         "0.0",
         "0.0",
         "0.0",
         "0.0",
         "0.0",
         "0.0",
         "0.0",
         "0.0",
         "0.0",
         "0.0",
         "0.0",
         "0.0",
         "0.0",
         "0.0",
         "0.0",
         "0.0",
         "0.0",
         "0.0",
         "0.0",
         "0.0",
         "0.0",
         "0.0",
         "0.0",
         "0.0",
         "0.0",
         "0.0",
         "0.0",
         "0.0",
         "0.0",
         "0.0",
         "0.0",
         "0.0",
         "0.0",
         "0.0",
         "0.0",
         "0.0",
         "0.0",
         "0.0",
         "0.0",
         "0.0",
         "0.0",
         "0.0",
         "0.0",
         "0.0",
         "0.0",
         "0.0",
         "0.0",
         "0.0",
         "0.0",
         "0.0",
         "0.0",
         "0.0",
         "0.0",
         "0.0",
         "0.0",
         "0.0",
         "0.0",
         "0.0",
         "0.0",
         "0.0",
         "0.0",
         "0.0",
         "0.0",
         "0.0",
         "0.0",
         "0.0",
         "0.0",
         "0.0",
         "0.0",
         "0.0",
         "0.0",
         "0.0",
         "0.0",
         "0.0",
         "0.0",
         "0.0",
         "0.0",
         "0.0",
         "0.0",
         "0.0",
         "0.0",
         "0.0",
         "0.0",
         "0.0",
         "0.0",
         "0.0",
         "0.0",
         "0.0",
         "0.0",
         "0.0",
         "0.0",
         "0.0",
         "0.0",
         "0.0",
         "0.0",
         "0.0",
         "0.0",
         "0.0",
         "0.0",
         "0.0",
         "0.0",
         "0.0",
         "0.0",
         "0.0",
         "0.0",
         "0.0",
         "0.0",
         "0.0",
         "0.0",
         "0.0",
         "0.0",
         "0.0",
         "0.0",
         "0.0",
         "0.0",
         "0.0",
         "0.0",
         "0.0",
         "0.0",
         "0.0",
         "0.0",
         "0.0",
         "0.0",
         "0.0",
         "0.0",
         "0.0",
         "0.0",
         "0.0",
         "0.0",
         "0.0",
         "0.0",
         "0.0",
         "0.0",
         "0.0",
         "0.0",
         "0.0",
         "0.0",
         "0.0",
         "0.0",
         "0.0",
         "0.0",
         "0.0",
         "0.0",
         "0.0",
         "0.0",
         "1.0",
         "0.0",
         "0.0",
         "0.0",
         "0.0",
         "0.0",
         "0.0",
         "0.0",
         "0.0",
         "0.0",
         "0.0",
         "0.0",
         "0.0",
         "0.0",
         "0.0",
         "0.0",
         "0.0",
         "0.0",
         "0.0",
         "0.0",
         "0.0",
         "0.0",
         "0.0",
         "0.0",
         "0.0",
         "0.0",
         "0.0",
         "0.0",
         "0.0",
         "0.0",
         "0.0",
         "0.0",
         "0.0",
         "0.0",
         "0.0",
         "0.0",
         "1.0",
         "0.0",
         "0.0",
         "0.0",
         "0.0",
         "0.0",
         "0.0",
         "0.0",
         "0.0",
         "0.0",
         "0.0",
         "0.0",
         "0.0",
         "0.0",
         "0.0",
         "0.0",
         "0.0",
         "0.0",
         "0.0",
         "0.0",
         "0.0",
         "0.0",
         "0.0",
         "0.0",
         "0.0",
         "0.0",
         "0.0",
         "0.0",
         "0.0",
         "0.0",
         "0.0",
         "0.0",
         "0.0",
         "0.0",
         "0.0",
         "0.0",
         "0.0",
         "1.0",
         "0.0",
         "0.0",
         "0.0",
         "0.0",
         "0.0",
         "0.0",
         "0.0",
         "0.0",
         "0.0",
         "0.0",
         "0.0",
         "0.0",
         "0.0",
         "0.0",
         "0.0",
         "0.0",
         "0.0",
         "0.0",
         "0.0",
         "0.0",
         "0.0",
         "0.0",
         "0.0",
         "0.0",
         "0.0",
         "0.0",
         "0.0",
         "0.0",
         "0.0",
         "0.0",
         "0.0",
         "0.0",
         "0.0",
         "0.0",
         "0.0",
         "0.0",
         "0.0",
         "0.0",
         "0.0",
         "0.0",
         "0.0",
         "0.0",
         "0.0",
         "0.0",
         "0.0",
         "0.0",
         "0.0",
         "0.0",
         "0.0",
         "0.0",
         "0.0",
         "0.0",
         "0.0",
         "0.0",
         "0.0",
         "0.0",
         "0.0",
         "0.0",
         "0.0",
         "0.0",
         "0.0",
         "0.0",
         "0.0",
         "0.0",
         "0.0",
         "0.0",
         "0.0",
         "0.0",
         "0.0",
         "0.0",
         "0.0",
         "0.0",
         "0.0",
         "0.0",
         "0.0",
         "0.0",
         "0.0",
         "0.0",
         "0.0",
         "0.0",
         "0.0",
         "0.0",
         "0.0",
         "0.0",
         "0.0",
         "0.0",
         "0.0",
         "0.0",
         "0.0",
         "0.0",
         "0.0",
         "0.0",
         "0.0",
         "0.0",
         "0.0",
         "0.0",
         "0.0",
         "0.0",
         "0.0",
         "0.0",
         "0.0",
         "0.0",
         "0.0",
         "0.0",
         "0.0",
         "0.0",
         "0.0",
         "0.0",
         "0.0",
         "0.0",
         "0.0",
         "0.0",
         "0.0",
         "0.0",
         "0.0",
         "0.0",
         "0.0",
         "0.0",
         "0.0",
         "0.0",
         "0.0",
         "0.0",
         "0.0",
         "0.0",
         "0.0",
         "0.0",
         "1.0",
         "0.0",
         "0.0",
         "0.0",
         "0.0",
         "0.0",
         "0.0",
         "0.0",
         "0.0",
         "0.0",
         "1.0",
         "0.0",
         "0.0",
         "0.0",
         "0.0",
         "0.0",
         "0.0",
         "0.0",
         "0.0",
         "0.0",
         "0.0",
         "0.0",
         "0.0",
         "0.0",
         "0.0",
         "0.0",
         "0.0",
         "0.0",
         "0.0",
         "0.0",
         "0.0",
         "0.0",
         "0.0",
         "0.0",
         "0.0",
         "0.0",
         "0.0",
         "0.0",
         "0.0",
         "0.0",
         "0.0",
         "0.0",
         "0.0",
         "0.0",
         "0.0",
         "0.0",
         "0.0",
         "0.0",
         "0.0",
         "0.0",
         "0.0",
         "0.0",
         "0.0",
         "0.0",
         "0.0",
         "0.0",
         "0.0",
         "0.0",
         "0.0",
         "0.0",
         "0.0",
         "0.0",
         "0.0",
         "0.0",
         "0.0",
         "0.0",
         "0.0",
         "0.0",
         "0.0",
         "0.0",
         "0.0",
         "0.0",
         "0.0",
         "0.0",
         "0.0",
         "0.0",
         "0.0",
         "0.0",
         "0.0",
         "0.0",
         "0.0",
         "0.0",
         "0.0",
         "0.0",
         "0.0",
         "0.0",
         "0.0",
         "0.0",
         "0.0",
         "0.0",
         "0.0",
         "0.0",
         "0.0",
         "0.0",
         "0.0",
         "0.0",
         "0.0",
         "0.0",
         "0.0",
         "0.0",
         "0.0",
         "0.0",
         "0.0",
         "0.0",
         "0.0",
         "0.0",
         "0.0",
         "0.0",
         "0.0",
         "0.0",
         "0.0",
         "0.0",
         "0.0",
         "0.0",
         "0.0",
         "0.0",
         "0.0",
         "0.0",
         "0.0",
         "0.0",
         "0.0",
         "0.0",
         "0.0",
         "0.0",
         "0.0",
         "0.0",
         "0.0",
         "0.0",
         "0.0",
         "0.0",
         "0.0",
         "0.0",
         "0.0",
         "0.0",
         "0.0",
         "0.0",
         "0.0",
         "0.0",
         "0.0",
         "0.0",
         "0.0",
         "0.0",
         "0.0",
         "0.0",
         "0.0",
         "0.0",
         "0.0",
         "0.0",
         "0.0",
         "0.0",
         "0.0",
         "0.0",
         "0.0",
         "0.0",
         "0.0",
         "0.0",
         "0.0",
         "0.0",
         "0.0",
         "0.0",
         "1.0",
         "0.0",
         "1.0",
         "0.0",
         "0.0",
         "0.0",
         "1.0",
         "0.0",
         "0.0",
         "0.0",
         "0.0",
         "0.0",
         "0.0",
         "0.0",
         "0.0",
         "0.0",
         "0.0",
         "0.0",
         "0.0",
         "0.0",
         "0.0",
         "0.0",
         "0.0",
         "0.0",
         "0.0",
         "0.0",
         "0.0",
         "0.0",
         "0.0",
         "0.0",
         "0.0",
         "0.0",
         "0.0",
         "0.0",
         "0.0",
         "0.0",
         "0.0",
         "0.0",
         "0.0",
         "0.0",
         "0.0",
         "0.0",
         "0.0",
         "0.0",
         "0.0",
         "0.0",
         "0.0",
         "0.0",
         "0.0",
         "0.0",
         "0.0",
         "0.0",
         "0.0",
         "0.0",
         "0.0",
         "0.0",
         "0.0",
         "0.0",
         "0.0",
         "0.0",
         "0.0",
         "0.0",
         "0.0",
         "0.0",
         "0.0",
         "0.0",
         "0.0",
         "0.0",
         "0.0",
         "0.0",
         "1.0",
         "0.0",
         "0.0",
         "0.0",
         "0.0",
         "0.0",
         "0.0",
         "0.0",
         "0.0",
         "0.0",
         "0.0",
         "0.0",
         "0.0",
         "0.0",
         "0.0",
         "0.0",
         "0.0",
         "1.0",
         "0.0",
         "0.0",
         "0.0",
         "0.0",
         "0.0",
         "1.0",
         "0.0",
         "0.0",
         "0.0",
         "0.0",
         "1.0",
         "0.0",
         "0.0",
         "0.0",
         "0.0",
         "0.0",
         "0.0",
         "0.0",
         "0.0",
         "0.0",
         "0.0",
         "1.0",
         "0.0",
         "0.0",
         "0.0",
         "0.0",
         "0.0",
         "0.0",
         "0.0",
         "1.0",
         "0.0",
         "0.0",
         "0.0",
         "0.0",
         "0.0",
         "0.0",
         "0.0",
         "1.0",
         "0.0",
         "0.0",
         "0.0",
         "0.0",
         "0.0",
         "0.0",
         "0.0",
         "0.0",
         "0.0",
         "0.0",
         "1.0",
         "0.0",
         "0.0",
         "0.0",
         "0.0",
         "0.0",
         "0.0",
         "0.0",
         "0.0",
         "0.0",
         "0.0",
         "0.0",
         "0.0",
         "1.0",
         "1.0",
         "1.0",
         "0.0",
         "0.0",
         "0.0",
         "0.0",
         "0.0",
         "0.0",
         "0.0",
         "0.0",
         "0.0",
         "0.0",
         "0.0",
         "0.0",
         "0.0",
         "1.0",
         "0.0",
         "0.0",
         "0.0",
         "0.0",
         "0.0",
         "0.0",
         "0.0",
         "0.0",
         "1.0",
         "0.0",
         "0.0",
         "0.0",
         "1.0",
         "0.0",
         "1.0",
         "1.0",
         "0.0",
         "0.0",
         "0.0",
         "0.0",
         "1.0",
         "0.0",
         "0.0",
         "0.0",
         "0.0",
         "0.0",
         "0.0",
         "0.0",
         "0.0",
         "0.0",
         "0.0",
         "0.0"
        ],
        [
         "5",
         "0.0",
         "0.0",
         "0.0",
         "0.0",
         "0.0",
         "0.0",
         "0.0",
         "0.0",
         "0.0",
         "0.0",
         "0.0",
         "0.0",
         "0.0",
         "0.0",
         "0.0",
         "0.0",
         "0.0",
         "0.0",
         "0.0",
         "0.0",
         "0.0",
         "0.0",
         "0.0",
         "0.0",
         "0.0",
         "0.0",
         "0.0",
         "0.0",
         "0.0",
         "0.0",
         "0.0",
         "0.0",
         "0.0",
         "0.0",
         "0.0",
         "0.0",
         "0.0",
         "0.0",
         "0.0",
         "0.0",
         "0.0",
         "0.0",
         "0.0",
         "0.0",
         "0.0",
         "0.0",
         "0.0",
         "0.0",
         "0.0",
         "0.0",
         "0.0",
         "0.0",
         "0.0",
         "0.0",
         "0.0",
         "0.0",
         "0.0",
         "0.0",
         "0.0",
         "0.0",
         "0.0",
         "0.0",
         "0.0",
         "0.0",
         "0.0",
         "0.0",
         "0.0",
         "0.0",
         "0.0",
         "0.0",
         "0.0",
         "0.0",
         "0.0",
         "0.0",
         "0.0",
         "0.0",
         "0.0",
         "0.0",
         "0.0",
         "0.0",
         "0.0",
         "0.0",
         "0.0",
         "0.0",
         "0.0",
         "0.0",
         "0.0",
         "0.0",
         "0.0",
         "0.0",
         "0.0",
         "0.0",
         "0.0",
         "0.0",
         "0.0",
         "0.0",
         "0.0",
         "0.0",
         "0.0",
         "0.0",
         "0.0",
         "0.0",
         "0.0",
         "0.0",
         "0.0",
         "0.0",
         "0.0",
         "0.0",
         "0.0",
         "0.0",
         "0.0",
         "0.0",
         "0.0",
         "0.0",
         "0.0",
         "0.0",
         "0.0",
         "0.0",
         "0.0",
         "0.0",
         "0.0",
         "0.0",
         "0.0",
         "0.0",
         "0.0",
         "0.0",
         "0.0",
         "0.0",
         "0.0",
         "0.0",
         "0.0",
         "0.0",
         "0.0",
         "0.0",
         "0.0",
         "0.0",
         "0.0",
         "0.0",
         "0.0",
         "0.0",
         "0.0",
         "0.0",
         "0.0",
         "0.0",
         "0.0",
         "0.0",
         "0.0",
         "0.0",
         "0.0",
         "0.0",
         "0.0",
         "0.0",
         "0.0",
         "0.0",
         "0.0",
         "0.0",
         "0.0",
         "0.0",
         "0.0",
         "0.0",
         "0.0",
         "0.0",
         "0.0",
         "0.0",
         "0.0",
         "0.0",
         "0.0",
         "0.0",
         "0.0",
         "0.0",
         "0.0",
         "0.0",
         "0.0",
         "0.0",
         "0.0",
         "0.0",
         "0.0",
         "0.0",
         "0.0",
         "0.0",
         "0.0",
         "0.0",
         "0.0",
         "0.0",
         "0.0",
         "0.0",
         "0.0",
         "0.0",
         "0.0",
         "0.0",
         "0.0",
         "0.0",
         "0.0",
         "0.0",
         "0.0",
         "0.0",
         "0.0",
         "0.0",
         "0.0",
         "0.0",
         "0.0",
         "0.0",
         "0.0",
         "0.0",
         "0.0",
         "0.0",
         "0.0",
         "0.0",
         "0.0",
         "0.0",
         "0.0",
         "0.0",
         "0.0",
         "0.0",
         "0.0",
         "0.0",
         "0.0",
         "0.0",
         "0.0",
         "0.0",
         "0.0",
         "0.0",
         "0.0",
         "0.0",
         "0.0",
         "0.0",
         "0.0",
         "0.0",
         "0.0",
         "0.0",
         "0.0",
         "0.0",
         "0.0",
         "0.0",
         "0.0",
         "0.0",
         "0.0",
         "0.0",
         "0.0",
         "0.0",
         "0.0",
         "0.0",
         "0.0",
         "0.0",
         "0.0",
         "0.0",
         "0.0",
         "0.0",
         "0.0",
         "0.0",
         "0.0",
         "0.0",
         "0.0",
         "0.0",
         "0.0",
         "0.0",
         "0.0",
         "0.0",
         "0.0",
         "0.0",
         "0.0",
         "0.0",
         "0.0",
         "0.0",
         "0.0",
         "0.0",
         "0.0",
         "0.0",
         "0.0",
         "0.0",
         "0.0",
         "0.0",
         "0.0",
         "0.0",
         "0.0",
         "0.0",
         "0.0",
         "0.0",
         "0.0",
         "0.0",
         "0.0",
         "0.0",
         "0.0",
         "0.0",
         "0.0",
         "0.0",
         "0.0",
         "0.0",
         "0.0",
         "0.0",
         "0.0",
         "0.0",
         "0.0",
         "0.0",
         "0.0",
         "0.0",
         "0.0",
         "0.0",
         "0.0",
         "0.0",
         "0.0",
         "0.0",
         "0.0",
         "0.0",
         "0.0",
         "0.0",
         "0.0",
         "0.0",
         "0.0",
         "0.0",
         "0.0",
         "0.0",
         "0.0",
         "0.0",
         "0.0",
         "0.0",
         "0.0",
         "0.0",
         "0.0",
         "0.0",
         "0.0",
         "0.0",
         "0.0",
         "0.0",
         "0.0",
         "0.0",
         "0.0",
         "0.0",
         "0.0",
         "0.0",
         "0.0",
         "0.0",
         "0.0",
         "0.0",
         "0.0",
         "0.0",
         "0.0",
         "0.0",
         "0.0",
         "0.0",
         "0.0",
         "0.0",
         "0.0",
         "0.0",
         "0.0",
         "0.0",
         "0.0",
         "0.0",
         "0.0",
         "0.0",
         "0.0",
         "0.0",
         "0.0",
         "0.0",
         "0.0",
         "0.0",
         "0.0",
         "0.0",
         "0.0",
         "0.0",
         "0.0",
         "0.0",
         "0.0",
         "0.0",
         "0.0",
         "0.0",
         "0.0",
         "0.0",
         "0.0",
         "0.0",
         "0.0",
         "0.0",
         "0.0",
         "0.0",
         "0.0",
         "0.0",
         "0.0",
         "0.0",
         "0.0",
         "0.0",
         "0.0",
         "0.0",
         "0.0",
         "0.0",
         "0.0",
         "0.0",
         "0.0",
         "0.0",
         "0.0",
         "0.0",
         "0.0",
         "0.0",
         "0.0",
         "0.0",
         "0.0",
         "0.0",
         "0.0",
         "0.0",
         "0.0",
         "0.0",
         "0.0",
         "0.0",
         "0.0",
         "0.0",
         "0.0",
         "0.0",
         "0.0",
         "0.0",
         "0.0",
         "0.0",
         "0.0",
         "0.0",
         "0.0",
         "0.0",
         "0.0",
         "0.0",
         "0.0",
         "0.0",
         "0.0",
         "0.0",
         "0.0",
         "0.0",
         "0.0",
         "0.0",
         "0.0",
         "0.0",
         "0.0",
         "0.0",
         "0.0",
         "0.0",
         "0.0",
         "0.0",
         "0.0",
         "0.0",
         "0.0",
         "0.0",
         "0.0",
         "0.0",
         "0.0",
         "0.0",
         "0.0",
         "0.0",
         "0.0",
         "0.0",
         "0.0",
         "0.0",
         "0.0",
         "0.0",
         "0.0",
         "0.0",
         "0.0",
         "0.0",
         "0.0",
         "0.0",
         "0.0",
         "0.0",
         "0.0",
         "0.0",
         "0.0",
         "0.0",
         "0.0",
         "0.0",
         "0.0",
         "0.0",
         "0.0",
         "0.0",
         "0.0",
         "0.0",
         "0.0",
         "0.0",
         "0.0",
         "0.0",
         "0.0",
         "0.0",
         "0.0",
         "0.0",
         "0.0",
         "0.0",
         "0.0",
         "0.0",
         "0.0",
         "0.0",
         "0.0",
         "0.0",
         "0.0",
         "0.0",
         "0.0",
         "0.0",
         "0.0",
         "0.0",
         "0.0",
         "0.0",
         "0.0",
         "0.0",
         "0.0",
         "0.0",
         "0.0",
         "0.0",
         "0.0",
         "0.0",
         "0.0",
         "0.0",
         "0.0",
         "0.0",
         "0.0",
         "0.0",
         "0.0",
         "0.0",
         "0.0",
         "0.0",
         "0.0",
         "0.0",
         "0.0",
         "0.0",
         "0.0",
         "0.0",
         "0.0",
         "0.0",
         "0.0",
         "0.0",
         "0.0",
         "0.0",
         "1.0",
         "0.0",
         "0.0",
         "0.0",
         "0.0",
         "0.0",
         "0.0",
         "0.0",
         "0.0",
         "0.0",
         "0.0",
         "0.0",
         "0.0",
         "0.0",
         "0.0",
         "0.0",
         "0.0",
         "0.0",
         "0.0",
         "0.0",
         "0.0",
         "0.0",
         "0.0",
         "0.0",
         "0.0",
         "0.0",
         "0.0",
         "0.0",
         "0.0",
         "0.0",
         "0.0",
         "0.0",
         "0.0",
         "0.0",
         "0.0",
         "0.0",
         "0.0",
         "0.0",
         "0.0",
         "0.0",
         "0.0",
         "0.0",
         "0.0",
         "0.0",
         "0.0",
         "0.0",
         "0.0",
         "0.0",
         "0.0",
         "0.0",
         "0.0",
         "0.0",
         "0.0",
         "0.0",
         "0.0",
         "0.0",
         "0.0",
         "0.0",
         "0.0",
         "0.0",
         "0.0",
         "0.0",
         "0.0",
         "0.0",
         "1.0",
         "0.0",
         "0.0",
         "0.0",
         "0.0",
         "0.0",
         "0.0",
         "0.0",
         "0.0",
         "0.0",
         "0.0",
         "0.0",
         "0.0",
         "0.0",
         "0.0",
         "0.0",
         "0.0",
         "0.0",
         "0.0",
         "0.0",
         "0.0",
         "0.0",
         "0.0",
         "0.0",
         "0.0",
         "0.0",
         "0.0",
         "0.0",
         "0.0",
         "0.0",
         "0.0",
         "0.0",
         "0.0",
         "0.0",
         "0.0",
         "0.0",
         "0.0",
         "0.0",
         "0.0",
         "0.0",
         "0.0",
         "0.0",
         "0.0",
         "0.0",
         "0.0",
         "0.0",
         "0.0",
         "0.0",
         "0.0",
         "0.0",
         "0.0",
         "0.0",
         "0.0",
         "0.0",
         "0.0",
         "1.0",
         "0.0",
         "0.0",
         "0.0",
         "0.0",
         "0.0",
         "0.0",
         "0.0",
         "0.0",
         "0.0",
         "0.0",
         "0.0",
         "0.0",
         "0.0",
         "0.0",
         "0.0",
         "0.0",
         "0.0",
         "0.0",
         "0.0",
         "0.0",
         "0.0",
         "0.0",
         "0.0",
         "0.0",
         "0.0",
         "0.0",
         "0.0",
         "0.0",
         "0.0",
         "0.0",
         "0.0",
         "0.0",
         "0.0",
         "0.0",
         "0.0",
         "0.0",
         "0.0",
         "0.0",
         "0.0",
         "0.0",
         "0.0",
         "0.0",
         "0.0",
         "0.0",
         "0.0",
         "0.0",
         "0.0",
         "0.0",
         "0.0",
         "0.0",
         "0.0",
         "0.0",
         "0.0",
         "0.0",
         "0.0",
         "0.0",
         "0.0",
         "0.0",
         "0.0",
         "0.0",
         "0.0",
         "0.0",
         "0.0",
         "0.0",
         "0.0",
         "0.0",
         "0.0",
         "0.0",
         "0.0",
         "0.0",
         "0.0",
         "0.0"
        ]
       ],
       "shape": {
        "columns": 714,
        "rows": 5
       }
      },
      "text/html": [
       "<div>\n",
       "<style scoped>\n",
       "    .dataframe tbody tr th:only-of-type {\n",
       "        vertical-align: middle;\n",
       "    }\n",
       "\n",
       "    .dataframe tbody tr th {\n",
       "        vertical-align: top;\n",
       "    }\n",
       "\n",
       "    .dataframe thead th {\n",
       "        text-align: right;\n",
       "    }\n",
       "</style>\n",
       "<table border=\"1\" class=\"dataframe\">\n",
       "  <thead>\n",
       "    <tr style=\"text-align: right;\">\n",
       "      <th>article_id</th>\n",
       "      <th>0.0</th>\n",
       "      <th>2.0</th>\n",
       "      <th>4.0</th>\n",
       "      <th>8.0</th>\n",
       "      <th>9.0</th>\n",
       "      <th>12.0</th>\n",
       "      <th>14.0</th>\n",
       "      <th>15.0</th>\n",
       "      <th>16.0</th>\n",
       "      <th>18.0</th>\n",
       "      <th>...</th>\n",
       "      <th>1434.0</th>\n",
       "      <th>1435.0</th>\n",
       "      <th>1436.0</th>\n",
       "      <th>1437.0</th>\n",
       "      <th>1439.0</th>\n",
       "      <th>1440.0</th>\n",
       "      <th>1441.0</th>\n",
       "      <th>1442.0</th>\n",
       "      <th>1443.0</th>\n",
       "      <th>1444.0</th>\n",
       "    </tr>\n",
       "    <tr>\n",
       "      <th>user_id</th>\n",
       "      <th></th>\n",
       "      <th></th>\n",
       "      <th></th>\n",
       "      <th></th>\n",
       "      <th></th>\n",
       "      <th></th>\n",
       "      <th></th>\n",
       "      <th></th>\n",
       "      <th></th>\n",
       "      <th></th>\n",
       "      <th></th>\n",
       "      <th></th>\n",
       "      <th></th>\n",
       "      <th></th>\n",
       "      <th></th>\n",
       "      <th></th>\n",
       "      <th></th>\n",
       "      <th></th>\n",
       "      <th></th>\n",
       "      <th></th>\n",
       "      <th></th>\n",
       "    </tr>\n",
       "  </thead>\n",
       "  <tbody>\n",
       "    <tr>\n",
       "      <th>1</th>\n",
       "      <td>0.0</td>\n",
       "      <td>0.0</td>\n",
       "      <td>0.0</td>\n",
       "      <td>0.0</td>\n",
       "      <td>0.0</td>\n",
       "      <td>0.0</td>\n",
       "      <td>0.0</td>\n",
       "      <td>0.0</td>\n",
       "      <td>0.0</td>\n",
       "      <td>0.0</td>\n",
       "      <td>...</td>\n",
       "      <td>0.0</td>\n",
       "      <td>0.0</td>\n",
       "      <td>1.0</td>\n",
       "      <td>0.0</td>\n",
       "      <td>1.0</td>\n",
       "      <td>0.0</td>\n",
       "      <td>0.0</td>\n",
       "      <td>0.0</td>\n",
       "      <td>0.0</td>\n",
       "      <td>0.0</td>\n",
       "    </tr>\n",
       "    <tr>\n",
       "      <th>2</th>\n",
       "      <td>0.0</td>\n",
       "      <td>0.0</td>\n",
       "      <td>0.0</td>\n",
       "      <td>0.0</td>\n",
       "      <td>0.0</td>\n",
       "      <td>0.0</td>\n",
       "      <td>0.0</td>\n",
       "      <td>0.0</td>\n",
       "      <td>0.0</td>\n",
       "      <td>0.0</td>\n",
       "      <td>...</td>\n",
       "      <td>0.0</td>\n",
       "      <td>0.0</td>\n",
       "      <td>0.0</td>\n",
       "      <td>0.0</td>\n",
       "      <td>0.0</td>\n",
       "      <td>0.0</td>\n",
       "      <td>0.0</td>\n",
       "      <td>0.0</td>\n",
       "      <td>0.0</td>\n",
       "      <td>0.0</td>\n",
       "    </tr>\n",
       "    <tr>\n",
       "      <th>3</th>\n",
       "      <td>0.0</td>\n",
       "      <td>0.0</td>\n",
       "      <td>0.0</td>\n",
       "      <td>0.0</td>\n",
       "      <td>0.0</td>\n",
       "      <td>1.0</td>\n",
       "      <td>0.0</td>\n",
       "      <td>0.0</td>\n",
       "      <td>0.0</td>\n",
       "      <td>0.0</td>\n",
       "      <td>...</td>\n",
       "      <td>0.0</td>\n",
       "      <td>0.0</td>\n",
       "      <td>1.0</td>\n",
       "      <td>0.0</td>\n",
       "      <td>0.0</td>\n",
       "      <td>0.0</td>\n",
       "      <td>0.0</td>\n",
       "      <td>0.0</td>\n",
       "      <td>0.0</td>\n",
       "      <td>0.0</td>\n",
       "    </tr>\n",
       "    <tr>\n",
       "      <th>4</th>\n",
       "      <td>0.0</td>\n",
       "      <td>0.0</td>\n",
       "      <td>0.0</td>\n",
       "      <td>0.0</td>\n",
       "      <td>0.0</td>\n",
       "      <td>0.0</td>\n",
       "      <td>0.0</td>\n",
       "      <td>0.0</td>\n",
       "      <td>0.0</td>\n",
       "      <td>0.0</td>\n",
       "      <td>...</td>\n",
       "      <td>0.0</td>\n",
       "      <td>0.0</td>\n",
       "      <td>0.0</td>\n",
       "      <td>0.0</td>\n",
       "      <td>0.0</td>\n",
       "      <td>0.0</td>\n",
       "      <td>0.0</td>\n",
       "      <td>0.0</td>\n",
       "      <td>0.0</td>\n",
       "      <td>0.0</td>\n",
       "    </tr>\n",
       "    <tr>\n",
       "      <th>5</th>\n",
       "      <td>0.0</td>\n",
       "      <td>0.0</td>\n",
       "      <td>0.0</td>\n",
       "      <td>0.0</td>\n",
       "      <td>0.0</td>\n",
       "      <td>0.0</td>\n",
       "      <td>0.0</td>\n",
       "      <td>0.0</td>\n",
       "      <td>0.0</td>\n",
       "      <td>0.0</td>\n",
       "      <td>...</td>\n",
       "      <td>0.0</td>\n",
       "      <td>0.0</td>\n",
       "      <td>0.0</td>\n",
       "      <td>0.0</td>\n",
       "      <td>0.0</td>\n",
       "      <td>0.0</td>\n",
       "      <td>0.0</td>\n",
       "      <td>0.0</td>\n",
       "      <td>0.0</td>\n",
       "      <td>0.0</td>\n",
       "    </tr>\n",
       "  </tbody>\n",
       "</table>\n",
       "<p>5 rows × 714 columns</p>\n",
       "</div>"
      ],
      "text/plain": [
       "article_id  0.0     2.0     4.0     8.0     9.0     12.0    14.0    15.0    \\\n",
       "user_id                                                                      \n",
       "1              0.0     0.0     0.0     0.0     0.0     0.0     0.0     0.0   \n",
       "2              0.0     0.0     0.0     0.0     0.0     0.0     0.0     0.0   \n",
       "3              0.0     0.0     0.0     0.0     0.0     1.0     0.0     0.0   \n",
       "4              0.0     0.0     0.0     0.0     0.0     0.0     0.0     0.0   \n",
       "5              0.0     0.0     0.0     0.0     0.0     0.0     0.0     0.0   \n",
       "\n",
       "article_id  16.0    18.0    ...  1434.0  1435.0  1436.0  1437.0  1439.0  \\\n",
       "user_id                     ...                                           \n",
       "1              0.0     0.0  ...     0.0     0.0     1.0     0.0     1.0   \n",
       "2              0.0     0.0  ...     0.0     0.0     0.0     0.0     0.0   \n",
       "3              0.0     0.0  ...     0.0     0.0     1.0     0.0     0.0   \n",
       "4              0.0     0.0  ...     0.0     0.0     0.0     0.0     0.0   \n",
       "5              0.0     0.0  ...     0.0     0.0     0.0     0.0     0.0   \n",
       "\n",
       "article_id  1440.0  1441.0  1442.0  1443.0  1444.0  \n",
       "user_id                                             \n",
       "1              0.0     0.0     0.0     0.0     0.0  \n",
       "2              0.0     0.0     0.0     0.0     0.0  \n",
       "3              0.0     0.0     0.0     0.0     0.0  \n",
       "4              0.0     0.0     0.0     0.0     0.0  \n",
       "5              0.0     0.0     0.0     0.0     0.0  \n",
       "\n",
       "[5 rows x 714 columns]"
      ]
     },
     "execution_count": 73,
     "metadata": {},
     "output_type": "execute_result"
    }
   ],
   "source": [
    "user_item.head()"
   ]
  },
  {
   "cell_type": "code",
   "execution_count": 74,
   "metadata": {
    "collapsed": true
   },
   "outputs": [
    {
     "name": "stdout",
     "output_type": "stream",
     "text": [
      "You have passed our quick tests!  Please proceed!\n"
     ]
    }
   ],
   "source": [
    "## Tests: You should just need to run this cell.  Don't change the code.\n",
    "assert user_item.shape[0] == 5149, \"Oops!  The number of users in the user-article matrix doesn't look right.\"\n",
    "assert user_item.shape[1] == 714, \"Oops!  The number of articles in the user-article matrix doesn't look right.\"\n",
    "assert user_item.sum(axis=1)[1] == 36, \"Oops!  The number of articles seen by user 1 doesn't look right.\"\n",
    "print(\"You have passed our quick tests!  Please proceed!\")"
   ]
  },
  {
   "cell_type": "markdown",
   "metadata": {},
   "source": [
    "`2.` Complete the function below which should take a user_id and provide an ordered list of the most similar users to that user (from most similar to least similar).  The returned result should not contain the provided user_id, as we know that each user is similar to him/herself. Because the results for each user here are binary, it (perhaps) makes sense to compute similarity as the dot product of two users. \n",
    "\n",
    "Use the tests to test your function."
   ]
  },
  {
   "cell_type": "code",
   "execution_count": 75,
   "metadata": {
    "collapsed": true
   },
   "outputs": [],
   "source": [
    "def find_similar_users(user_id, user_item=user_item):\n",
    "    '''\n",
    "    INPUT:\n",
    "    user_id - (int) a user_id\n",
    "    user_item - (pandas dataframe) matrix of users by articles: \n",
    "                1's when a user has interacted with an article, 0 otherwise\n",
    "    \n",
    "    OUTPUT:\n",
    "    similar_users - (list) an ordered list where the closest users (largest dot product users)\n",
    "                    are listed first\n",
    "    \n",
    "    Description:\n",
    "    Computes the similarity of every pair of users based on the dot product\n",
    "    Returns an ordered\n",
    "    \n",
    "    '''\n",
    "# Stellen Sie sicher, dass der user_id im Index der user_item Matrix vorhanden ist\n",
    "    if user_id not in user_item.index:\n",
    "        print(f\"Error: user_id {user_id} not found in user_item matrix.\")\n",
    "        return []\n",
    "\n",
    "    # compute similarity of each user to the provided user\n",
    "    user_vector = user_item.loc[user_id]\n",
    "    similarity_scores = user_item.dot(user_vector)\n",
    "\n",
    "    # sort by similarity\n",
    "    sorted_similarity = similarity_scores.sort_values(ascending=False)\n",
    "\n",
    "    # create list of just the ids\n",
    "    most_similar_users = sorted_similarity.index.tolist()\n",
    "   \n",
    "    # remove the own user's id\n",
    "    if user_id in most_similar_users:\n",
    "        most_similar_users.remove(user_id)   \n",
    "    return most_similar_users # return a list of the users in order from most to least similar\n",
    "        "
   ]
  },
  {
   "cell_type": "code",
   "execution_count": 76,
   "metadata": {
    "collapsed": true
   },
   "outputs": [
    {
     "name": "stdout",
     "output_type": "stream",
     "text": [
      "The 10 most similar users to user 1 are: [3933, 23, 3782, 203, 4459, 3870, 131, 4201, 46, 395]\n",
      "The 5 most similar users to user 3933 are: [1, 23, 3782, 203, 4459]\n",
      "The 3 most similar users to user 46 are: [4201, 3782, 23]\n",
      "Error: user_id 44586 not found in user_item matrix.\n",
      "The 3 most similar users to user 44586 are: []\n"
     ]
    }
   ],
   "source": [
    "# Do a spot check of your function\n",
    "print(\"The 10 most similar users to user 1 are: {}\".format(find_similar_users(1)[:10]))\n",
    "print(\"The 5 most similar users to user 3933 are: {}\".format(find_similar_users(3933)[:5]))\n",
    "print(\"The 3 most similar users to user 46 are: {}\".format(find_similar_users(46)[:3]))\n",
    "print(\"The 3 most similar users to user 44586 are: {}\".format(find_similar_users(44586)[:3]))"
   ]
  },
  {
   "cell_type": "markdown",
   "metadata": {},
   "source": [
    "`3.` Now that you have a function that provides the most similar users to each user, you will want to use these users to find articles you can recommend.  Complete the functions below to return the articles you would recommend to each user. "
   ]
  },
  {
   "cell_type": "code",
   "execution_count": 77,
   "metadata": {
    "collapsed": true
   },
   "outputs": [],
   "source": [
    "def get_article_names(article_ids, df=df):\n",
    "    '''\n",
    "    INPUT:\n",
    "    article_ids - (list) a list of article ids\n",
    "    df - (pandas dataframe) df as defined at the top of the notebook\n",
    "    \n",
    "    OUTPUT:\n",
    "    article_names - (list) a list of article names associated with the list of article ids \n",
    "                    (this is identified by the title column)\n",
    "    '''\n",
    "    article_names = []\n",
    "\n",
    "    for idx in article_ids:\n",
    "        article_names.append(df[df['article_id']==float(idx)].max()['title'])\n",
    "    \n",
    "    return article_names # Return the article names associated with list of article ids\n",
    "\n",
    "\n",
    "def get_user_articles(user_id, user_item=user_item):\n",
    "    '''\n",
    "    INPUT:\n",
    "    user_id - (int) a user id\n",
    "    user_item - (pandas dataframe) matrix of users by articles: \n",
    "                1's when a user has interacted with an article, 0 otherwise\n",
    "    \n",
    "    OUTPUT:\n",
    "    article_ids - (list) a list of the article ids seen by the user\n",
    "    article_names - (list) a list of article names associated with the list of article ids \n",
    "                    (this is identified by the doc_full_name column in df_content)\n",
    "    \n",
    "    Description:\n",
    "    Provides a list of the article_ids and article titles that have been seen by a user\n",
    "    '''\n",
    "    article_ids = user_item.loc[user_id][user_item.loc[user_id] == 1].index.astype('str') \n",
    "    article_names = []\n",
    "    for idx in article_ids:\n",
    "        article_names.append(df[df['article_id']==float(idx)].max()['title']) # need to use df instead of df_content as it only has 1051 rows\n",
    "    \n",
    "    return article_ids, article_names # return the ids and names\n",
    "\n",
    "\n",
    "def user_user_recs(user_id, m=10):\n",
    "    '''\n",
    "    INPUT:\n",
    "    user_id - (int) a user id\n",
    "    m - (int) the number of recommendations you want for the user\n",
    "    \n",
    "    OUTPUT:\n",
    "    recs - (list) a list of recommendations for the user\n",
    "    \n",
    "    Description:\n",
    "    Loops through the users based on closeness to the input user_id\n",
    "    For each user - finds articles the user hasn't seen before and provides them as recs\n",
    "    Does this until m recommendations are found\n",
    "    \n",
    "    Notes:\n",
    "    Users who are the same closeness are chosen arbitrarily as the 'next' user\n",
    "    \n",
    "    For the user where the number of recommended articles starts below m \n",
    "    and ends exceeding m, the last items are chosen arbitrarily\n",
    "    \n",
    "    '''\n",
    "    recs = np.array([])\n",
    "    \n",
    "    seen_user_articles = get_user_articles(user_id)[0] #seen by our user\n",
    "    similar_users = find_similar_users(user_id) # users closest to our user\n",
    "    \n",
    "    for others in similar_users:\n",
    "        \n",
    "        others_articles_seen = get_user_articles(others)[0] # articles seen by others like our user\n",
    "        new_recs = np.setdiff1d(others_articles_seen, seen_user_articles, assume_unique=True) #find those not seen by user\n",
    "        recs = np.unique(np.concatenate([new_recs, recs], axis = 0)) # concate arrays and only return unique values\n",
    "\n",
    "        if len(recs) > m-1:\n",
    "            break\n",
    "            \n",
    "    recs = recs[:m]\n",
    "    recs.tolist()\n",
    "    \n",
    "    return recs # return your recommendations for this user_id    "
   ]
  },
  {
   "cell_type": "code",
   "execution_count": 78,
   "metadata": {
    "collapsed": true
   },
   "outputs": [
    {
     "data": {
      "text/plain": [
       "['recommender systems: approaches & algorithms',\n",
       " '1448    i ranked every intro to data science course on...\\nName: title, dtype: object',\n",
       " 'data tidying in data science experience',\n",
       " 'a tensorflow regression model to predict house values',\n",
       " '520    using notebooks with pixiedust for fast, flexi...\\nName: title, dtype: object',\n",
       " 'airbnb data for analytics: mallorca reviews',\n",
       " 'airbnb data for analytics: vancouver listings',\n",
       " 'analyze facebook data using ibm watson and watson studio',\n",
       " 'analyze accident reports on amazon emr spark',\n",
       " 'analyze energy consumption in buildings']"
      ]
     },
     "execution_count": 78,
     "metadata": {},
     "output_type": "execute_result"
    }
   ],
   "source": [
    "# Check Results\n",
    "get_article_names(user_user_recs(1, 10)) # Return 10 recommendations for user 1"
   ]
  },
  {
   "cell_type": "code",
   "execution_count": 79,
   "metadata": {
    "collapsed": true
   },
   "outputs": [
    {
     "name": "stdout",
     "output_type": "stream",
     "text": [
      "If this is all you see, you passed all of our tests!  Nice job!\n"
     ]
    }
   ],
   "source": [
    "# Test your functions here - No need to change this code - just run this cell\n",
    "assert set(get_article_names(['1024.0', '1176.0', '1305.0', '1314.0', '1422.0', '1427.0'])) == set(['using deep learning to reconstruct high-resolution audio', 'build a python app on the streaming analytics service', 'gosales transactions for naive bayes model', 'healthcare python streaming application demo', 'use r dataframes & ibm watson natural language understanding', 'use xgboost, scikit-learn & ibm watson machine learning apis']), \"Oops! Your the get_article_names function doesn't work quite how we expect.\"\n",
    "assert set(get_article_names(['1320.0', '232.0', '844.0'])) == set(['housing (2015): united states demographic measures','self-service data preparation with ibm data refinery','use the cloudant-spark connector in python notebook']), \"Oops! Your the get_article_names function doesn't work quite how we expect.\"\n",
    "assert set(get_user_articles(20)[0]) == set(['1320.0', '232.0', '844.0'])\n",
    "assert set(get_user_articles(20)[1]) == set(['housing (2015): united states demographic measures', 'self-service data preparation with ibm data refinery','use the cloudant-spark connector in python notebook'])\n",
    "assert set(get_user_articles(2)[0]) == set(['1024.0', '1176.0', '1305.0', '1314.0', '1422.0', '1427.0'])\n",
    "assert set(get_user_articles(2)[1]) == set(['using deep learning to reconstruct high-resolution audio', 'build a python app on the streaming analytics service', 'gosales transactions for naive bayes model', 'healthcare python streaming application demo', 'use r dataframes & ibm watson natural language understanding', 'use xgboost, scikit-learn & ibm watson machine learning apis'])\n",
    "print(\"If this is all you see, you passed all of our tests!  Nice job!\")"
   ]
  },
  {
   "cell_type": "markdown",
   "metadata": {},
   "source": [
    "`4.` Now we are going to improve the consistency of the **user_user_recs** function from above.  \n",
    "\n",
    "* Instead of arbitrarily choosing when we obtain users who are all the same closeness to a given user - choose the users that have the most total article interactions before choosing those with fewer article interactions.\n",
    "\n",
    "\n",
    "* Instead of arbitrarily choosing articles from the user where the number of recommended articles starts below m and ends exceeding m, choose articles with the articles with the most total interactions before choosing those with fewer total interactions. This ranking should be  what would be obtained from the **top_articles** function you wrote earlier."
   ]
  },
  {
   "cell_type": "code",
   "execution_count": 98,
   "metadata": {
    "collapsed": true
   },
   "outputs": [],
   "source": [
    "def get_top_sorted_users(user_id, df=df, user_item=user_item):\n",
    "    '''\n",
    "    INPUT:\n",
    "    user_id - (int)\n",
    "    df - (pandas dataframe) df as defined at the top of the notebook \n",
    "    user_item - (pandas dataframe) matrix of users by articles: \n",
    "            1's when a user has interacted with an article, 0 otherwise\n",
    "    \n",
    "            \n",
    "    OUTPUT:\n",
    "    neighbors_df - (pandas dataframe) a dataframe with:\n",
    "                    neighbor_id - is a neighbor user_id\n",
    "                    similarity - measure of the similarity of each user to the provided user_id\n",
    "                    num_interactions - the number of articles viewed by the user - if a u\n",
    "                    \n",
    "    Other Details - sort the neighbors_df by the similarity and then by number of interactions where \n",
    "                    highest of each is higher in the dataframe\n",
    "     \n",
    "    '''\n",
    "        # Ensure the user_id exists in the user_item matrix\n",
    "    if user_id not in user_item.index:\n",
    "        print(f\"Error: user_id {user_id} not found in user_item matrix.\")\n",
    "        return pd.DataFrame() # Return an empty DataFrame\n",
    "\n",
    "    # 1. Compute similarity scores\n",
    "    # Get the vector for the target user\n",
    "    user_vector = user_item.loc[user_id]\n",
    "\n",
    "    # Calculate the dot product between the target user's vector and all other users' vectors\n",
    "    # The result is a Series where index is user_id and values are similarity scores\n",
    "    similarity_scores = user_item.dot(user_vector)\n",
    "\n",
    "    # Create a DataFrame from the similarity scores\n",
    "    neighbors_df = pd.DataFrame(similarity_scores).reset_index()\n",
    "    neighbors_df.columns = ['neighbor_id', 'similarity'] # Rename columns for clarity\n",
    "\n",
    "    # Remove the target user's own entry from this DataFrame, as we're looking for neighbors\n",
    "    neighbors_df = neighbors_df[neighbors_df['neighbor_id'] != user_id]\n",
    "\n",
    "    # 2. Calculate the number of interactions for each user\n",
    "    # The number of interactions is the sum of 1s in each row of the user_item matrix\n",
    "    num_interactions_per_user = df.groupby('user_id')['article_id'].count()\n",
    "    \n",
    "    num_interactions_per_user_df = num_interactions_per_user.reset_index()\n",
    "    num_interactions_per_user_df.columns = ['neighbor_id', 'num_interactions']\n",
    "    \n",
    "        \n",
    "\n",
    "    # 3. Merge the number of interactions into the neighbors_df\n",
    "    neighbors_df = pd.merge(neighbors_df, num_interactions_per_user_df,\n",
    "                            on='neighbor_id',\n",
    "                            how='left') # Use left merge to keep all neighbors_df rows\n",
    "\n",
    "    # 4. Sort the DataFrame\n",
    "    # First, sort by similarity in descending order.\n",
    "    # Then, for users with the same similarity, sort by num_interactions in descending order.\n",
    "    neighbors_df = neighbors_df.sort_values(by=['similarity', 'num_interactions'],\n",
    "                                            ascending=[False, False])\n",
    "    \n",
    "    return neighbors_df # Return the dataframe specified in the doc_string\n",
    "\n",
    "def user_user_recs_part2(user_id, m=10):\n",
    "    '''\n",
    "    INPUT:\n",
    "    user_id - (int) a user id\n",
    "    m - (int) the number of recommendations you want for the user\n",
    "    \n",
    "    OUTPUT:\n",
    "    recs - (list) a list of recommendations for the user by article id\n",
    "    rec_names - (list) a list of recommendations for the user by article title\n",
    "    \n",
    "    Description:\n",
    "    Loops through the users based on closeness to the input user_id\n",
    "    For each user - finds articles the user hasn't seen before and provides them as recs\n",
    "    Does this until m recommendations are found\n",
    "    \n",
    "    Notes:\n",
    "    * Choose the users that have the most total article interactions \n",
    "    before choosing those with fewer article interactions.\n",
    "\n",
    "    * Choose articles with the articles with the most total interactions \n",
    "    before choosing those with fewer total interactions. \n",
    "   \n",
    "    '''\n",
    "    #Check if the user exists\n",
    "    if user_id not in user_item.index:\n",
    "        print(f\"User ID {user_id} not found in the user-item matrix.\")\n",
    "        return recs, rec_names\n",
    "\n",
    "    #create empty recs\n",
    "    recs = []\n",
    "    \n",
    "    # list of article ids and article names for input user_id\n",
    "    known_user_articles, _ = get_user_articles(user_id, user_item=user_item)\n",
    " \n",
    "    # dataframe of most similar users for input user_id\n",
    "    neighbors_df = get_top_sorted_users(user_id, df=df, user_item=user_item)\n",
    "\n",
    "    # getting number of article interactions\n",
    "    article_interactions_count = df.groupby('article_id').count()['user_id']\n",
    "\n",
    "    # looping through users based on closeness to the input user_id\n",
    "    for neighbor_id in neighbors_df['neighbor_id']:\n",
    "        # get articles for neighbor\n",
    "        neighbor_article_ids, _ = get_user_articles(neighbor_id, user_item=user_item)\n",
    "        neighbor_article_ids = [float(i) for i in neighbor_article_ids] # ensure float type\n",
    "\n",
    "        # list of article id values present in neighbor, but not in input user_id\n",
    "        new_recs = np.setdiff1d(neighbor_article_ids, known_user_articles, assume_unique=True)\n",
    "\n",
    "        # Filter out new_recs that are not in article_interactions_count's index\n",
    "        valid_new_recs = [rec for rec in new_recs if rec in article_interactions_count.index]\n",
    "\n",
    "        # sorting list of interactions from highest to lowest value\n",
    "        recs_to_add_series = article_interactions_count.loc[valid_new_recs].sort_values(ascending=False)\n",
    "        recs_to_add_list = recs_to_add_series.index.values.tolist()\n",
    "\n",
    "        # Add unique recommendations until m is reached\n",
    "        for article_id in recs_to_add_list:\n",
    "            if len(recs) >= m:\n",
    "                break # If m recommendations reached, stop adding from this neighbor\n",
    "            if article_id not in recs:\n",
    "                recs.append(article_id)\n",
    "\n",
    "        if len(recs) >= m:\n",
    "            break # If m recommendations reached, stop looping through neighbors\n",
    "\n",
    "    \n",
    "    recs = [float(r) for r in recs[:m]] # Ensure recs list contains only float values and truncate to m\n",
    "    rec_names = get_article_names(recs)\n",
    "\n",
    "    return recs, rec_names\n"
   ]
  },
  {
   "cell_type": "code",
   "execution_count": 103,
   "metadata": {},
   "outputs": [
    {
     "name": "stdout",
     "output_type": "stream",
     "text": [
      "      neighbor_id  num_interactions\n",
      "0               1              36.0\n",
      "1               2               6.0\n",
      "2               3              40.0\n",
      "3               4              26.0\n",
      "4               5               3.0\n",
      "...           ...               ...\n",
      "5144         5145               5.0\n",
      "5145         5146               7.0\n",
      "5146         5147               1.0\n",
      "5147         5148               1.0\n",
      "5148         5149               1.0\n",
      "\n",
      "[5149 rows x 2 columns]\n",
      "user_id\n",
      "1       47\n",
      "2        6\n",
      "3       82\n",
      "4       45\n",
      "5        5\n",
      "        ..\n",
      "5145     6\n",
      "5146     9\n",
      "5147     1\n",
      "5148     1\n",
      "5149     1\n",
      "Name: article_id, Length: 5149, dtype: int64\n"
     ]
    }
   ],
   "source": [
    "num_interactions_per_user = user_item.sum(axis=1)\n",
    "num_interactions_per_user = pd.DataFrame(num_interactions_per_user).reset_index()\n",
    "num_interactions_per_user.columns = ['neighbor_id', 'num_interactions']\n",
    "print(num_interactions_per_user)\n",
    "\n",
    "df_grouped=df.groupby('user_id')['article_id'].count()\n",
    "print(df_grouped)"
   ]
  },
  {
   "cell_type": "code",
   "execution_count": 104,
   "metadata": {
    "collapsed": true
   },
   "outputs": [
    {
     "name": "stdout",
     "output_type": "stream",
     "text": [
      "The top 10 recommendations for user 20 are the following article ids:\n",
      "[1330.0, 1427.0, 1364.0, 1170.0, 1162.0, 1304.0, 1351.0, 1160.0, 1354.0, 1368.0]\n",
      "\n",
      "The top 10 recommendations for user 20 are the following article names:\n",
      "['insights from new york car accident reports', 'use xgboost, scikit-learn & ibm watson machine learning apis', 'predicting churn with the spss random tree algorithm', 'apache spark lab, part 1: basic concepts', 'analyze energy consumption in buildings', 'gosales transactions for logistic regression model', 'model bike sharing data with spss', 'analyze accident reports on amazon emr spark', 'movie recommender system with spark machine learning', 'putting a human face on machine learning']\n"
     ]
    }
   ],
   "source": [
    "# Quick spot check - don't change this code - just use it to test your functions\n",
    "rec_ids, rec_names = user_user_recs_part2(20, 10)\n",
    "print(\"The top 10 recommendations for user 20 are the following article ids:\")\n",
    "print(rec_ids)\n",
    "print()\n",
    "print(\"The top 10 recommendations for user 20 are the following article names:\")\n",
    "print(rec_names)"
   ]
  },
  {
   "cell_type": "markdown",
   "metadata": {},
   "source": [
    "`5.` Use your functions from above to correctly fill in the solutions to the dictionary below.  Then test your dictionary against the solution.  Provide the code you need to answer each following the comments below."
   ]
  },
  {
   "cell_type": "code",
   "execution_count": 105,
   "metadata": {},
   "outputs": [
    {
     "data": {
      "application/vnd.microsoft.datawrangler.viewer.v0+json": {
       "columns": [
        {
         "name": "index",
         "rawType": "object",
         "type": "string"
        },
        {
         "name": "3931",
         "rawType": "float64",
         "type": "float"
        }
       ],
       "ref": "16b39095-9947-4be1-877f-55df7d8f2b20",
       "rows": [
        [
         "neighbor_id",
         "3933.0"
        ],
        [
         "similarity",
         "35.0"
        ],
        [
         "num_interactions",
         "45.0"
        ]
       ],
       "shape": {
        "columns": 1,
        "rows": 3
       }
      },
      "text/plain": [
       "neighbor_id         3933.0\n",
       "similarity            35.0\n",
       "num_interactions      45.0\n",
       "Name: 3931, dtype: float64"
      ]
     },
     "execution_count": 105,
     "metadata": {},
     "output_type": "execute_result"
    }
   ],
   "source": [
    "get_top_sorted_users(1).iloc[0]"
   ]
  },
  {
   "cell_type": "code",
   "execution_count": 106,
   "metadata": {},
   "outputs": [
    {
     "data": {
      "application/vnd.microsoft.datawrangler.viewer.v0+json": {
       "columns": [
        {
         "name": "index",
         "rawType": "int64",
         "type": "integer"
        },
        {
         "name": "neighbor_id",
         "rawType": "int64",
         "type": "integer"
        },
        {
         "name": "similarity",
         "rawType": "float64",
         "type": "float"
        },
        {
         "name": "num_interactions",
         "rawType": "int64",
         "type": "integer"
        }
       ],
       "ref": "9d76873d-33e9-4d32-ba3a-39b7a875c61f",
       "rows": [
        [
         "3868",
         "3870",
         "74.0",
         "144"
        ],
        [
         "3780",
         "3782",
         "39.0",
         "363"
        ],
        [
         "22",
         "23",
         "38.0",
         "364"
        ],
        [
         "201",
         "203",
         "33.0",
         "160"
        ],
        [
         "4457",
         "4459",
         "33.0",
         "158"
        ],
        [
         "97",
         "98",
         "29.0",
         "170"
        ],
        [
         "3762",
         "3764",
         "29.0",
         "169"
        ],
        [
         "48",
         "49",
         "29.0",
         "147"
        ],
        [
         "3695",
         "3697",
         "29.0",
         "145"
        ],
        [
         "240",
         "242",
         "25.0",
         "148"
        ],
        [
         "3908",
         "3910",
         "25.0",
         "147"
        ],
        [
         "39",
         "40",
         "24.0",
         "78"
        ],
        [
         "4930",
         "4932",
         "24.0",
         "76"
        ],
        [
         "57",
         "58",
         "23.0",
         "142"
        ],
        [
         "3738",
         "3740",
         "23.0",
         "140"
        ],
        [
         "51",
         "52",
         "23.0",
         "132"
        ],
        [
         "3594",
         "3596",
         "23.0",
         "131"
        ],
        [
         "288",
         "290",
         "22.0",
         "80"
        ],
        [
         "20",
         "21",
         "21.0",
         "137"
        ],
        [
         "4783",
         "4785",
         "21.0",
         "136"
        ],
        [
         "910",
         "912",
         "21.0",
         "102"
        ],
        [
         "3538",
         "3540",
         "21.0",
         "101"
        ],
        [
         "2980",
         "2982",
         "21.0",
         "79"
        ],
        [
         "752",
         "754",
         "21.0",
         "60"
        ],
        [
         "168",
         "170",
         "20.0",
         "116"
        ],
        [
         "3167",
         "3169",
         "20.0",
         "114"
        ],
        [
         "133",
         "135",
         "20.0",
         "82"
        ],
        [
         "3619",
         "3621",
         "20.0",
         "80"
        ],
        [
         "4640",
         "4642",
         "20.0",
         "58"
        ],
        [
         "182",
         "184",
         "18.0",
         "104"
        ],
        [
         "4890",
         "4892",
         "18.0",
         "102"
        ],
        [
         "202",
         "204",
         "18.0",
         "97"
        ],
        [
         "5136",
         "5138",
         "18.0",
         "95"
        ],
        [
         "254",
         "256",
         "18.0",
         "60"
        ],
        [
         "381",
         "383",
         "18.0",
         "46"
        ],
        [
         "320",
         "322",
         "17.0",
         "85"
        ],
        [
         "271",
         "273",
         "17.0",
         "84"
        ],
        [
         "617",
         "619",
         "17.0",
         "84"
        ],
        [
         "2924",
         "2926",
         "17.0",
         "83"
        ],
        [
         "7",
         "8",
         "17.0",
         "82"
        ],
        [
         "2973",
         "2975",
         "17.0",
         "81"
        ],
        [
         "694",
         "696",
         "17.0",
         "79"
        ],
        [
         "763",
         "765",
         "17.0",
         "68"
        ],
        [
         "3635",
         "3637",
         "17.0",
         "59"
        ],
        [
         "209",
         "211",
         "17.0",
         "52"
        ],
        [
         "619",
         "621",
         "17.0",
         "52"
        ],
        [
         "3483",
         "3485",
         "17.0",
         "51"
        ],
        [
         "3773",
         "3775",
         "17.0",
         "51"
        ],
        [
         "3799",
         "3801",
         "17.0",
         "42"
        ],
        [
         "293",
         "295",
         "16.0",
         "91"
        ]
       ],
       "shape": {
        "columns": 3,
        "rows": 5148
       }
      },
      "text/html": [
       "<div>\n",
       "<style scoped>\n",
       "    .dataframe tbody tr th:only-of-type {\n",
       "        vertical-align: middle;\n",
       "    }\n",
       "\n",
       "    .dataframe tbody tr th {\n",
       "        vertical-align: top;\n",
       "    }\n",
       "\n",
       "    .dataframe thead th {\n",
       "        text-align: right;\n",
       "    }\n",
       "</style>\n",
       "<table border=\"1\" class=\"dataframe\">\n",
       "  <thead>\n",
       "    <tr style=\"text-align: right;\">\n",
       "      <th></th>\n",
       "      <th>neighbor_id</th>\n",
       "      <th>similarity</th>\n",
       "      <th>num_interactions</th>\n",
       "    </tr>\n",
       "  </thead>\n",
       "  <tbody>\n",
       "    <tr>\n",
       "      <th>3868</th>\n",
       "      <td>3870</td>\n",
       "      <td>74.0</td>\n",
       "      <td>144</td>\n",
       "    </tr>\n",
       "    <tr>\n",
       "      <th>3780</th>\n",
       "      <td>3782</td>\n",
       "      <td>39.0</td>\n",
       "      <td>363</td>\n",
       "    </tr>\n",
       "    <tr>\n",
       "      <th>22</th>\n",
       "      <td>23</td>\n",
       "      <td>38.0</td>\n",
       "      <td>364</td>\n",
       "    </tr>\n",
       "    <tr>\n",
       "      <th>201</th>\n",
       "      <td>203</td>\n",
       "      <td>33.0</td>\n",
       "      <td>160</td>\n",
       "    </tr>\n",
       "    <tr>\n",
       "      <th>4457</th>\n",
       "      <td>4459</td>\n",
       "      <td>33.0</td>\n",
       "      <td>158</td>\n",
       "    </tr>\n",
       "    <tr>\n",
       "      <th>...</th>\n",
       "      <td>...</td>\n",
       "      <td>...</td>\n",
       "      <td>...</td>\n",
       "    </tr>\n",
       "    <tr>\n",
       "      <th>5129</th>\n",
       "      <td>5131</td>\n",
       "      <td>0.0</td>\n",
       "      <td>1</td>\n",
       "    </tr>\n",
       "    <tr>\n",
       "      <th>5139</th>\n",
       "      <td>5141</td>\n",
       "      <td>0.0</td>\n",
       "      <td>1</td>\n",
       "    </tr>\n",
       "    <tr>\n",
       "      <th>5142</th>\n",
       "      <td>5144</td>\n",
       "      <td>0.0</td>\n",
       "      <td>1</td>\n",
       "    </tr>\n",
       "    <tr>\n",
       "      <th>5145</th>\n",
       "      <td>5147</td>\n",
       "      <td>0.0</td>\n",
       "      <td>1</td>\n",
       "    </tr>\n",
       "    <tr>\n",
       "      <th>5147</th>\n",
       "      <td>5149</td>\n",
       "      <td>0.0</td>\n",
       "      <td>1</td>\n",
       "    </tr>\n",
       "  </tbody>\n",
       "</table>\n",
       "<p>5148 rows × 3 columns</p>\n",
       "</div>"
      ],
      "text/plain": [
       "      neighbor_id  similarity  num_interactions\n",
       "3868         3870        74.0               144\n",
       "3780         3782        39.0               363\n",
       "22             23        38.0               364\n",
       "201           203        33.0               160\n",
       "4457         4459        33.0               158\n",
       "...           ...         ...               ...\n",
       "5129         5131         0.0                 1\n",
       "5139         5141         0.0                 1\n",
       "5142         5144         0.0                 1\n",
       "5145         5147         0.0                 1\n",
       "5147         5149         0.0                 1\n",
       "\n",
       "[5148 rows x 3 columns]"
      ]
     },
     "execution_count": 106,
     "metadata": {},
     "output_type": "execute_result"
    }
   ],
   "source": [
    "get_top_sorted_users(131)"
   ]
  },
  {
   "cell_type": "code",
   "execution_count": 107,
   "metadata": {},
   "outputs": [
    {
     "data": {
      "application/vnd.microsoft.datawrangler.viewer.v0+json": {
       "columns": [
        {
         "name": "index",
         "rawType": "object",
         "type": "string"
        },
        {
         "name": "240",
         "rawType": "float64",
         "type": "float"
        }
       ],
       "ref": "09441763-080e-40ed-9f5b-58d56ae5ba80",
       "rows": [
        [
         "neighbor_id",
         "242.0"
        ],
        [
         "similarity",
         "25.0"
        ],
        [
         "num_interactions",
         "148.0"
        ]
       ],
       "shape": {
        "columns": 1,
        "rows": 3
       }
      },
      "text/plain": [
       "neighbor_id         242.0\n",
       "similarity           25.0\n",
       "num_interactions    148.0\n",
       "Name: 240, dtype: float64"
      ]
     },
     "execution_count": 107,
     "metadata": {},
     "output_type": "execute_result"
    }
   ],
   "source": [
    "get_top_sorted_users(131).iloc[9]"
   ]
  },
  {
   "cell_type": "code",
   "execution_count": null,
   "metadata": {
    "collapsed": true
   },
   "outputs": [],
   "source": [
    "### Tests with a dictionary of results\n",
    "\n",
    "user1_most_sim = 3933# Find the user that is most similar to user 1 \n",
    "user131_10th_sim = 242# Find the 10th most similar user to user 131"
   ]
  },
  {
   "cell_type": "code",
   "execution_count": null,
   "metadata": {
    "collapsed": true
   },
   "outputs": [],
   "source": [
    "## Dictionary Test Here\n",
    "sol_5_dict = {\n",
    "    'The user that is most similar to user 1.': user1_most_sim, \n",
    "    'The user that is the 10th most similar to user 131': user131_10th_sim,\n",
    "}\n",
    "\n",
    "t.sol_5_test(sol_5_dict)"
   ]
  },
  {
   "cell_type": "markdown",
   "metadata": {},
   "source": [
    "`6.` If we were given a new user, which of the above functions would you be able to use to make recommendations?  Explain.  Can you think of a better way we might make recommendations?  Use the cell below to explain a better method for new users."
   ]
  },
  {
   "cell_type": "markdown",
   "metadata": {},
   "source": [
    "For a new user without any knowledge about their behavior, it is not possible to make a recommendation based on similarity.\n",
    "It is only possible to make a recommendation based on maximum popularity. (via the get_top_articles function in the rank-based recommendations)"
   ]
  },
  {
   "cell_type": "markdown",
   "metadata": {},
   "source": [
    "`7.` Using your existing functions, provide the top 10 recommended articles you would provide for the a new user below.  You can test your function against our thoughts to make sure we are all on the same page with how we might make a recommendation."
   ]
  },
  {
   "cell_type": "code",
   "execution_count": null,
   "metadata": {
    "collapsed": true
   },
   "outputs": [],
   "source": [
    "new_user = '0.0'\n",
    "\n",
    "# What would your recommendations be for this new user '0.0'?  As a new user, they have no observed articles.\n",
    "# Provide a list of the top 10 article ids you would give to \n",
    "new_user_recs = get_top_article_ids(10)# Your recommendations here\n",
    "\n"
   ]
  },
  {
   "cell_type": "code",
   "execution_count": null,
   "metadata": {
    "collapsed": true
   },
   "outputs": [],
   "source": [
    "assert set(new_user_recs) == set(['1314.0','1429.0','1293.0','1427.0','1162.0','1364.0','1304.0','1170.0','1431.0','1330.0']), \"Oops!  It makes sense that in this case we would want to recommend the most popular articles, because we don't know anything about these users.\"\n",
    "\n",
    "print(\"That's right!  Nice job!\")"
   ]
  },
  {
   "cell_type": "markdown",
   "metadata": {},
   "source": [
    "### <a class=\"anchor\" id=\"Content-Recs\">Part IV: Content Based Recommendations (EXTRA - NOT REQUIRED)</a>\n",
    "\n",
    "Another method we might use to make recommendations is to perform a ranking of the highest ranked articles associated with some term.  You might consider content to be the **doc_body**, **doc_description**, or **doc_full_name**.  There isn't one way to create a content based recommendation, especially considering that each of these columns hold content related information.  \n",
    "\n",
    "`1.` Use the function body below to create a content based recommender.  Since there isn't one right answer for this recommendation tactic, no test functions are provided.  Feel free to change the function inputs if you decide you want to try a method that requires more input values.  The input values are currently set with one idea in mind that you may use to make content based recommendations.  One additional idea is that you might want to choose the most popular recommendations that meet your 'content criteria', but again, there is a lot of flexibility in how you might make these recommendations.\n",
    "\n",
    "### This part is NOT REQUIRED to pass this project.  However, you may choose to take this on as an extra way to show off your skills."
   ]
  },
  {
   "cell_type": "code",
   "execution_count": null,
   "metadata": {
    "collapsed": true
   },
   "outputs": [],
   "source": [
    "def make_content_recs():\n",
    "    '''\n",
    "    INPUT:\n",
    "    \n",
    "    OUTPUT:\n",
    "    \n",
    "    '''"
   ]
  },
  {
   "cell_type": "markdown",
   "metadata": {},
   "source": [
    "`2.` Now that you have put together your content-based recommendation system, use the cell below to write a summary explaining how your content based recommender works.  Do you see any possible improvements that could be made to your function?  Is there anything novel about your content based recommender?\n",
    "\n",
    "### This part is NOT REQUIRED to pass this project.  However, you may choose to take this on as an extra way to show off your skills."
   ]
  },
  {
   "cell_type": "markdown",
   "metadata": {},
   "source": [
    "**Write an explanation of your content based recommendation system here.**"
   ]
  },
  {
   "cell_type": "markdown",
   "metadata": {},
   "source": [
    "`3.` Use your content-recommendation system to make recommendations for the below scenarios based on the comments.  Again no tests are provided here, because there isn't one right answer that could be used to find these content based recommendations.\n",
    "\n",
    "### This part is NOT REQUIRED to pass this project.  However, you may choose to take this on as an extra way to show off your skills."
   ]
  },
  {
   "cell_type": "code",
   "execution_count": null,
   "metadata": {
    "collapsed": true
   },
   "outputs": [],
   "source": [
    "# make recommendations for a brand new user\n",
    "\n",
    "\n",
    "# make a recommendations for a user who only has interacted with article id '1427.0'\n",
    "\n"
   ]
  },
  {
   "cell_type": "markdown",
   "metadata": {},
   "source": [
    "### <a class=\"anchor\" id=\"Matrix-Fact\">Part V: Matrix Factorization</a>\n",
    "\n",
    "In this part of the notebook, you will build use matrix factorization to make article recommendations to the users on the IBM Watson Studio platform.\n",
    "\n",
    "`1.` You should have already created a **user_item** matrix above in **question 1** of **Part III** above.  This first question here will just require that you run the cells to get things set up for the rest of **Part V** of the notebook. "
   ]
  },
  {
   "cell_type": "code",
   "execution_count": null,
   "metadata": {
    "collapsed": true
   },
   "outputs": [],
   "source": [
    "# Load the matrix here\n",
    "user_item_matrix = pd.read_pickle('user_item_matrix.p')"
   ]
  },
  {
   "cell_type": "code",
   "execution_count": null,
   "metadata": {
    "collapsed": true
   },
   "outputs": [],
   "source": [
    "# quick look at the matrix\n",
    "user_item_matrix.head()"
   ]
  },
  {
   "cell_type": "markdown",
   "metadata": {},
   "source": [
    "`2.` In this situation, you can use Singular Value Decomposition from [numpy](https://docs.scipy.org/doc/numpy-1.14.0/reference/generated/numpy.linalg.svd.html) on the user-item matrix.  Use the cell to perform SVD, and explain why this is different than in the lesson."
   ]
  },
  {
   "cell_type": "code",
   "execution_count": null,
   "metadata": {
    "collapsed": true
   },
   "outputs": [],
   "source": [
    "# Perform SVD on the User-Item Matrix Here\n",
    "\n",
    "u, s, vt =  np.linalg.svd(user_item_matrix)# use the built in to get the three matrices"
   ]
  },
  {
   "cell_type": "markdown",
   "metadata": {},
   "source": [
    "The standard svd from numpy is possible, because I removed the NA values of the matrix and filled them with 0. Therefore the matrix is complete. Otherwise this implementation from numpy would create a failure."
   ]
  },
  {
   "cell_type": "markdown",
   "metadata": {},
   "source": [
    "`3.` Now for the tricky part, how do we choose the number of latent features to use?  Running the below cell, you can see that as the number of latent features increases, we obtain a lower error rate on making predictions for the 1 and 0 values in the user-item matrix.  Run the cell below to get an idea of how the accuracy improves as we increase the number of latent features."
   ]
  },
  {
   "cell_type": "code",
   "execution_count": null,
   "metadata": {
    "collapsed": true
   },
   "outputs": [],
   "source": [
    "num_latent_feats = np.arange(10,700+10,20)\n",
    "sum_errs = []\n",
    "\n",
    "for k in num_latent_feats:\n",
    "    # restructure with k latent features\n",
    "    s_new, u_new, vt_new = np.diag(s[:k]), u[:, :k], vt[:k, :]\n",
    "    \n",
    "    # take dot product\n",
    "    user_item_est = np.around(np.dot(np.dot(u_new, s_new), vt_new))\n",
    "    \n",
    "    # compute error for each prediction to actual value\n",
    "    diffs = np.subtract(user_item_matrix, user_item_est)\n",
    "    \n",
    "    # total errors and keep track of them\n",
    "    err = np.sum(np.sum(np.abs(diffs)))\n",
    "    sum_errs.append(err)\n",
    "    \n",
    "    \n",
    "plt.plot(num_latent_feats, 1 - np.array(sum_errs)/df.shape[0]);\n",
    "plt.xlabel('Number of Latent Features');\n",
    "plt.ylabel('Accuracy');\n",
    "plt.title('Accuracy vs. Number of Latent Features');"
   ]
  },
  {
   "cell_type": "markdown",
   "metadata": {},
   "source": [
    "`4.` From the above, we can't really be sure how many features to use, because simply having a better way to predict the 1's and 0's of the matrix doesn't exactly give us an indication of if we are able to make good recommendations.  Instead, we might split our dataset into a training and test set of data, as shown in the cell below.  \n",
    "\n",
    "Use the code from question 3 to understand the impact on accuracy of the training and test sets of data with different numbers of latent features. Using the split below: \n",
    "\n",
    "* How many users can we make predictions for in the test set?  \n",
    "* How many users are we not able to make predictions for because of the cold start problem?\n",
    "* How many articles can we make predictions for in the test set?  \n",
    "* How many articles are we not able to make predictions for because of the cold start problem?"
   ]
  },
  {
   "cell_type": "code",
   "execution_count": null,
   "metadata": {
    "collapsed": true
   },
   "outputs": [],
   "source": [
    "df_train = df.head(40000)\n",
    "df_test = df.tail(5993)\n",
    "\n",
    "def create_test_and_train_user_item(df_train, df_test):\n",
    "    '''\n",
    "    INPUT:\n",
    "    df_train - training dataframe\n",
    "    df_test - test dataframe\n",
    "    \n",
    "    OUTPUT:\n",
    "    user_item_train - a user-item matrix of the training dataframe \n",
    "                      (unique users for each row and unique articles for each column)\n",
    "    user_item_test - a user-item matrix of the testing dataframe \n",
    "                    (unique users for each row and unique articles for each column)\n",
    "    test_idx - all of the test user ids\n",
    "    test_arts - all of the test article ids\n",
    "    \n",
    "    '''\n",
    "    user_item_train = create_user_item_matrix(df_train)\n",
    "    user_item_test = create_user_item_matrix(df_test)\n",
    "    \n",
    "    test_idx = user_item_test.index\n",
    "    test_arts = user_item_test.columns\n",
    "    \n",
    "    return user_item_train, user_item_test, test_idx, test_arts\n",
    "\n",
    "user_item_train, user_item_test, test_idx, test_arts = create_test_and_train_user_item(df_train, df_test)"
   ]
  },
  {
   "cell_type": "code",
   "execution_count": null,
   "metadata": {},
   "outputs": [],
   "source": [
    "len(test_idx) # users in test set"
   ]
  },
  {
   "cell_type": "code",
   "execution_count": null,
   "metadata": {},
   "outputs": [],
   "source": [
    "train_idx = user_item_train.index #user in the training set \n",
    "len(train_idx)"
   ]
  },
  {
   "cell_type": "code",
   "execution_count": null,
   "metadata": {},
   "outputs": [],
   "source": [
    "len(test_idx.difference(train_idx)) #user who are in the test but not in the training set"
   ]
  },
  {
   "cell_type": "code",
   "execution_count": null,
   "metadata": {},
   "outputs": [],
   "source": [
    "len(test_arts) #article in test set\n",
    "\n"
   ]
  },
  {
   "cell_type": "code",
   "execution_count": null,
   "metadata": {},
   "outputs": [],
   "source": [
    "train_arts = user_item_train.columns #  number of articles in the training set\n",
    "len(train_arts)"
   ]
  },
  {
   "cell_type": "code",
   "execution_count": null,
   "metadata": {},
   "outputs": [],
   "source": [
    "test_arts.difference(train_arts) #articles which are in the test but not in the training set"
   ]
  },
  {
   "cell_type": "code",
   "execution_count": null,
   "metadata": {
    "collapsed": true
   },
   "outputs": [],
   "source": [
    "# Replace the values in the dictionary below\n",
    "a = 662 \n",
    "b = 574 \n",
    "c = 20 \n",
    "d = 0 \n",
    "\n",
    "\n",
    "sol_4_dict = {\n",
    "    'How many users can we make predictions for in the test set?': c, \n",
    "    'How many users in the test set are we not able to make predictions for because of the cold start problem?': a, \n",
    "    'How many articles can we make predictions for in the test set?': b,\n",
    "    'How many articles in the test set are we not able to make predictions for because of the cold start problem?': d\n",
    "}\n",
    "\n",
    "t.sol_4_test(sol_4_dict)"
   ]
  },
  {
   "cell_type": "markdown",
   "metadata": {},
   "source": [
    "`5.` Now use the **user_item_train** dataset from above to find U, S, and V transpose using SVD. Then find the subset of rows in the **user_item_test** dataset that you can predict using this matrix decomposition with different numbers of latent features to see how many features makes sense to keep based on the accuracy on the test data. This will require combining what was done in questions `2` - `4`.\n",
    "\n",
    "Use the cells below to explore how well SVD works towards making predictions for recommendations on the test data.  "
   ]
  },
  {
   "cell_type": "code",
   "execution_count": null,
   "metadata": {
    "collapsed": true
   },
   "outputs": [],
   "source": [
    "# fit SVD on the user_item_train matrix\n",
    "u_train, s_train, vt_train = np.linalg.svd(user_item_train) # fit svd similar to above then use the cells below"
   ]
  },
  {
   "cell_type": "code",
   "execution_count": null,
   "metadata": {
    "collapsed": true
   },
   "outputs": [],
   "source": [
    "# Use these cells to see how well you can use the training \n",
    "# decomposition to predict on test data\n",
    "s_train.shape, u_train.shape, vt_train.shape"
   ]
  },
  {
   "cell_type": "code",
   "execution_count": null,
   "metadata": {
    "collapsed": true
   },
   "outputs": [],
   "source": [
    "num_latent_feats = np.arange(10,714,15) #714 is maximum due to shape of vt_train / tradeoff between accuracy and computing time\n",
    "sum_errs_train = []\n",
    "sum_errs_test = []\n",
    "\n",
    "\n",
    "#Decomposition\n",
    "row_idx = user_item_train.index.isin(test_idx)\n",
    "col_idx = user_item_train.columns.isin(test_arts)\n",
    "\n",
    "u_test = u_train[row_idx, :]\n",
    "vt_test = vt_train[:, col_idx]\n",
    "\n",
    "# test users that we can predict for\n",
    "users_can_predict = np.intersect1d(list(user_item_train.index),list(user_item_test.index))\n",
    "    \n",
    "for k in num_latent_feats:\n",
    "    # restructure with k latent features\n",
    "    s_train_new, u_train_new, vt_train_new = np.diag(s_train[:k]), u_train[:, :k], vt_train[:k, :]\n",
    "    u_test_new, vt_test_new = u_test[:, :k], vt_test[:k, :]\n",
    "    \n",
    "    # take dot product\n",
    "    user_item_train_preds = np.around(np.dot(np.dot(u_train_new, s_train_new), vt_train_new))\n",
    "    user_item_test_preds = np.around(np.dot(np.dot(u_test_new, s_train_new), vt_test_new))\n",
    "    \n",
    "    # compute error for each prediction to actual value\n",
    "    diffs_train = np.subtract(user_item_train, user_item_train_preds)\n",
    "    diffs_test = np.subtract(user_item_test.loc[users_can_predict,:], user_item_test_preds)\n",
    "\n",
    "    # total errors and keep track of them\n",
    "    err_train = np.sum(np.sum(np.abs(diffs_train)))\n",
    "    err_test = np.sum(np.sum(np.abs(diffs_test)))\n",
    "    \n",
    "    sum_errs_train.append(err_train)\n",
    "    sum_errs_test.append(err_test)"
   ]
  },
  {
   "cell_type": "code",
   "execution_count": null,
   "metadata": {},
   "outputs": [],
   "source": [
    "# plotting the training and test accuracies\n",
    "fig, ax1 = plt.subplots()\n",
    "\n",
    "color = 'tab:orange'\n",
    "ax1.set_xlabel('Features (#)')\n",
    "ax1.set_ylabel('Accuracy (Training)', color=color)\n",
    "ax1.plot(num_latent_feats, 1 - np.array(sum_errs_train)/df.shape[0], color=color)\n",
    "ax1.tick_params(axis='y', labelcolor=color)\n",
    "ax1.set_title('Accuracy vs. Amount of Features')\n",
    "\n",
    "ax2 = ax1.twinx()  # instantiate a second axes that shares the same x-axis\n",
    "\n",
    "color = 'tab:blue'\n",
    "ax2.set_ylabel('Accuracy (Test)', color=color)  # we already handled the x-label with ax1\n",
    "ax2.plot(num_latent_feats, 1 - np.array(sum_errs_test)/df.shape[0], color=color)\n",
    "ax2.tick_params(axis='y', labelcolor=color)\n",
    "\n",
    "fig.tight_layout()  # otherwise the right y-label is slightly clipped\n",
    "plt.show()\n",
    "\n"
   ]
  },
  {
   "cell_type": "markdown",
   "metadata": {
    "collapsed": true
   },
   "source": [
    "`6.` Use the cell below to comment on the results you found in the previous question. Given the circumstances of your results, discuss what you might do to determine if the recommendations you make with any of the above recommendation systems are an improvement to how users currently find articles? "
   ]
  },
  {
   "cell_type": "markdown",
   "metadata": {},
   "source": [
    "In the upper diagram, it can be observed that an increase in features increases the accuracy of the training data. At the same time, however, it also decreases the accuracy of the test data. This is most likely due to the fact that an increase in features leads to overfitting on the training data, which then performs poorly on the unseen test data.\n",
    "\n",
    "The accuracy of the test data is high because the evaluation is performed on users who are present in both datasets. This implies that the test set might not be truly independent or representative of entirely unseen data, as some user profiles might have been learned during training, leading to an artificially inflated test accuracy for those specific users.\n",
    "\n",
    "#### evaluation of the recommendation engine\n",
    "To test the recommendation engine in practice, I would implement an A/B test.\n",
    "Experiment Setup:\n",
    "* **Hypothesis:** The new engine (Version B) will improve user engagement (e.g., click-through rate on recommendations, conversion rate) compared to the current system (Version A).\n",
    "* **User Groups:** Randomly split users into control (Version A) and experiment (Version B) groups.\n",
    "* **Key Metrics:** Track engagement metrics like:\n",
    "    * Click-Through Rate (CTR) on recommendations.\n",
    "    * Conversion Rate influenced by recommendations.\n",
    "    * Session duration or items consumed per session.\n",
    "    \n",
    "Run the test for a sufficient period, then statistically compare metrics between groups to assess performance and significance.\n"
   ]
  },
  {
   "cell_type": "markdown",
   "metadata": {
    "collapsed": true
   },
   "source": [
    "<a id='conclusions'></a>\n",
    "## Conclusion\n",
    "\n",
    "When using the SVD approach, we encounter the cold start problem for unknown users. Therefore, recommendations can only be made for known users. Here, further techniques such as content-based filtering or hybrid approaches would be employed to address this.\n",
    "\n",
    "\n",
    "## Directions to Submit\n",
    "\n",
    "> Before you submit your project, you need to create a .html or .pdf version of this notebook in the workspace here. To do that, run the code cell below. If it worked correctly, you should get a return code of 0, and you should see the generated .html file in the workspace directory (click on the orange Jupyter icon in the upper left).\n",
    "\n",
    "> Alternatively, you can download this report as .html via the **File** > **Download as** submenu, and then manually upload it into the workspace directory by clicking on the orange Jupyter icon in the upper left, then using the Upload button.\n",
    "\n",
    "> Once you've done this, you can submit your project by clicking on the \"Submit Project\" button in the lower right here. This will create and submit a zip file with this .ipynb doc and the .html or .pdf version you created. Congratulations! "
   ]
  },
  {
   "cell_type": "code",
   "execution_count": null,
   "metadata": {
    "collapsed": true
   },
   "outputs": [],
   "source": [
    "from subprocess import call\n",
    "call(['python', '-m', 'nbconvert', '--to', 'html', 'Recommendations_with_IBM.ipynb'])"
   ]
  }
 ],
 "metadata": {
  "kernelspec": {
   "display_name": "Python 3",
   "language": "python",
   "name": "python3"
  },
  "language_info": {
   "codemirror_mode": {
    "name": "ipython",
    "version": 3
   },
   "file_extension": ".py",
   "mimetype": "text/x-python",
   "name": "python",
   "nbconvert_exporter": "python",
   "pygments_lexer": "ipython3",
   "version": "3.12.9"
  }
 },
 "nbformat": 4,
 "nbformat_minor": 2
}
